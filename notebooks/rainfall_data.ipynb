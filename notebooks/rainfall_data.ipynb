{
 "cells": [
  {
   "cell_type": "code",
   "execution_count": 1,
   "metadata": {},
   "outputs": [],
   "source": [
    "import matplotlib.pyplot as plt\n",
    "import pandas as pd\n",
    "import numpy as np\n",
    "import os"
   ]
  },
  {
   "cell_type": "markdown",
   "metadata": {},
   "source": [
    "## Import rainfall & flow data into dataframes"
   ]
  },
  {
   "cell_type": "code",
   "execution_count": 2,
   "metadata": {},
   "outputs": [],
   "source": [
    "flow60 = pd.read_excel('EA_files_subsample/Shipston Wiski data - 60 min.xlsx', \n",
    "                      sheet_name = 1)"
   ]
  },
  {
   "cell_type": "code",
   "execution_count": 3,
   "metadata": {},
   "outputs": [
    {
     "name": "stdout",
     "output_type": "stream",
     "text": [
      "CPU times: user 2min 4s, sys: 861 ms, total: 2min 5s\n",
      "Wall time: 2min 6s\n"
     ]
    }
   ],
   "source": [
    "%%time\n",
    "rainfall60 = pd.read_excel('EA_files_subsample/Shipston Wiski data - 60 min.xlsx', \n",
    "                      sheet_name = 3)"
   ]
  },
  {
   "cell_type": "code",
   "execution_count": 4,
   "metadata": {
    "scrolled": true
   },
   "outputs": [
    {
     "data": {
      "text/html": [
       "<div>\n",
       "<style scoped>\n",
       "    .dataframe tbody tr th:only-of-type {\n",
       "        vertical-align: middle;\n",
       "    }\n",
       "\n",
       "    .dataframe tbody tr th {\n",
       "        vertical-align: top;\n",
       "    }\n",
       "\n",
       "    .dataframe thead th {\n",
       "        text-align: right;\n",
       "    }\n",
       "</style>\n",
       "<table border=\"1\" class=\"dataframe\">\n",
       "  <thead>\n",
       "    <tr style=\"text-align: right;\">\n",
       "      <th></th>\n",
       "      <th>Date</th>\n",
       "      <th>Time</th>\n",
       "      <th>Precipitation [mm]</th>\n",
       "      <th>Quality</th>\n",
       "      <th>Interpolation</th>\n",
       "      <th>Valid</th>\n",
       "      <th>Invalid</th>\n",
       "      <th>Missing</th>\n",
       "      <th>Tags</th>\n",
       "      <th>Remarks</th>\n",
       "    </tr>\n",
       "  </thead>\n",
       "  <tbody>\n",
       "    <tr>\n",
       "      <th>0</th>\n",
       "      <td>1979-07-26</td>\n",
       "      <td>09:00:00</td>\n",
       "      <td>0</td>\n",
       "      <td>40 (G)</td>\n",
       "      <td>const since previous</td>\n",
       "      <td>0.0</td>\n",
       "      <td>0.0</td>\n",
       "      <td>0.0</td>\n",
       "      <td>NaN</td>\n",
       "      <td>NaN</td>\n",
       "    </tr>\n",
       "    <tr>\n",
       "      <th>1</th>\n",
       "      <td>1979-07-26</td>\n",
       "      <td>10:00:00</td>\n",
       "      <td>0</td>\n",
       "      <td>200 (U)</td>\n",
       "      <td>const since previous</td>\n",
       "      <td>0.0</td>\n",
       "      <td>0.0</td>\n",
       "      <td>0.0</td>\n",
       "      <td>NaN</td>\n",
       "      <td>NaN</td>\n",
       "    </tr>\n",
       "    <tr>\n",
       "      <th>2</th>\n",
       "      <td>1979-07-26</td>\n",
       "      <td>11:00:00</td>\n",
       "      <td>0</td>\n",
       "      <td>200 (U)</td>\n",
       "      <td>const since previous</td>\n",
       "      <td>0.0</td>\n",
       "      <td>0.0</td>\n",
       "      <td>0.0</td>\n",
       "      <td>NaN</td>\n",
       "      <td>NaN</td>\n",
       "    </tr>\n",
       "    <tr>\n",
       "      <th>3</th>\n",
       "      <td>1979-07-26</td>\n",
       "      <td>12:00:00</td>\n",
       "      <td>0</td>\n",
       "      <td>200 (U)</td>\n",
       "      <td>const since previous</td>\n",
       "      <td>0.0</td>\n",
       "      <td>0.0</td>\n",
       "      <td>0.0</td>\n",
       "      <td>NaN</td>\n",
       "      <td>NaN</td>\n",
       "    </tr>\n",
       "    <tr>\n",
       "      <th>4</th>\n",
       "      <td>1979-07-26</td>\n",
       "      <td>13:00:00</td>\n",
       "      <td>0</td>\n",
       "      <td>200 (U)</td>\n",
       "      <td>const since previous</td>\n",
       "      <td>0.0</td>\n",
       "      <td>0.0</td>\n",
       "      <td>0.0</td>\n",
       "      <td>NaN</td>\n",
       "      <td>NaN</td>\n",
       "    </tr>\n",
       "  </tbody>\n",
       "</table>\n",
       "</div>"
      ],
      "text/plain": [
       "        Date      Time Precipitation [mm]  Quality         Interpolation  \\\n",
       "0 1979-07-26  09:00:00                  0   40 (G)  const since previous   \n",
       "1 1979-07-26  10:00:00                  0  200 (U)  const since previous   \n",
       "2 1979-07-26  11:00:00                  0  200 (U)  const since previous   \n",
       "3 1979-07-26  12:00:00                  0  200 (U)  const since previous   \n",
       "4 1979-07-26  13:00:00                  0  200 (U)  const since previous   \n",
       "\n",
       "   Valid  Invalid  Missing  Tags Remarks  \n",
       "0    0.0      0.0      0.0   NaN     NaN  \n",
       "1    0.0      0.0      0.0   NaN     NaN  \n",
       "2    0.0      0.0      0.0   NaN     NaN  \n",
       "3    0.0      0.0      0.0   NaN     NaN  \n",
       "4    0.0      0.0      0.0   NaN     NaN  "
      ]
     },
     "execution_count": 4,
     "metadata": {},
     "output_type": "execute_result"
    }
   ],
   "source": [
    "#Replace missing values with NaN for flow and rainfall\n",
    "rainfall60_filtered = rainfall60.replace('  ---',\"NaN\") #There are two spaces before the dashes in the rainfall data\n",
    "flow60_filtered = flow60.replace(\" ---\",\"NaN\")\n",
    "rainfall60_filtered = rainfall60_filtered.replace(\".\", 0) #Replacing . to 0\n",
    "rainfall60_filtered.head()"
   ]
  },
  {
   "cell_type": "code",
   "execution_count": 5,
   "metadata": {},
   "outputs": [
    {
     "name": "stdout",
     "output_type": "stream",
     "text": [
      "['1980-04-30T00:00:00.000000000' '1980-05-01T00:00:00.000000000'\n",
      " '2002-10-03T00:00:00.000000000']\n"
     ]
    }
   ],
   "source": [
    "#Print rainfall data with missing values - only 3 values missing\n",
    "print(rainfall60['Date'][rainfall60['Quality']=='missing'].unique())"
   ]
  },
  {
   "cell_type": "code",
   "execution_count": 6,
   "metadata": {},
   "outputs": [
    {
     "data": {
      "image/png": "[encoded data removed]",
      "text/plain": [
       "<Figure size 1440x288 with 1 Axes>"
      ]
     },
     "metadata": {
      "needs_background": "light"
     },
     "output_type": "display_data"
    }
   ],
   "source": [
    "#Plot the rainfall time series for the 60 minute data\n",
    "#print(rainfall60_filtered['Precipitation [mm]'])\n",
    "\n",
    "plt.figure(figsize=(20,4))\n",
    "plt.plot(rainfall60_filtered['Date'],rainfall60_filtered['Precipitation [mm]'], 'blue')\n",
    "plt.title(\"Precipitation (mm)\")\n",
    "\n",
    "#rainfall60_filtered.plot(x='Date', y='Precipitation [mm]')\n",
    "plt.show()"
   ]
  },
  {
   "cell_type": "markdown",
   "metadata": {},
   "source": [
    "Importing 15 minute rainfall data"
   ]
  },
  {
   "cell_type": "code",
   "execution_count": 7,
   "metadata": {},
   "outputs": [],
   "source": [
    "#%%time\n",
    "#rainfall15 = pd.read_excel('EA_files_subsample/Shipston Wiski data - 15 min.xlsx', sheet_name = 3)"
   ]
  },
  {
   "cell_type": "code",
   "execution_count": 8,
   "metadata": {},
   "outputs": [],
   "source": [
    "#rainfall15_filtered = rainfall15.replace(\"  ---\",\"NaN\")   #Replacing missing values again\n",
    "#rainfall15_filtered = rainfall15_filtered.replace('.', 0)\n",
    "#rainfall15_filtered.head()"
   ]
  },
  {
   "cell_type": "code",
   "execution_count": 9,
   "metadata": {},
   "outputs": [],
   "source": [
    "#Print rainfall data with missing values - only 1 value missing\n",
    "#print(rainfall15['Date'][rainfall15['Quality']=='missing'].unique())"
   ]
  },
  {
   "cell_type": "code",
   "execution_count": 10,
   "metadata": {},
   "outputs": [],
   "source": [
    "#Plot the rainfall time series for the 15 minute data \n",
    "#plt.figure(figsize=(20,8))\n",
    "#plt.plot(rainfall15_filtered['Date'],rainfall15_filtered['Precipitation [mm]'], 'blue')\n",
    "#plt.yticks()\n",
    "#plt.title(\"Precipitation (mm)\")"
   ]
  },
  {
   "cell_type": "markdown",
   "metadata": {},
   "source": [
    "Look at relationship between flow and rainfall"
   ]
  },
  {
   "cell_type": "code",
   "execution_count": 11,
   "metadata": {},
   "outputs": [
    {
     "data": {
      "text/html": [
       "<div>\n",
       "<style scoped>\n",
       "    .dataframe tbody tr th:only-of-type {\n",
       "        vertical-align: middle;\n",
       "    }\n",
       "\n",
       "    .dataframe tbody tr th {\n",
       "        vertical-align: top;\n",
       "    }\n",
       "\n",
       "    .dataframe thead th {\n",
       "        text-align: right;\n",
       "    }\n",
       "</style>\n",
       "<table border=\"1\" class=\"dataframe\">\n",
       "  <thead>\n",
       "    <tr style=\"text-align: right;\">\n",
       "      <th></th>\n",
       "      <th>Date</th>\n",
       "      <th>Time</th>\n",
       "      <th>rainfall</th>\n",
       "      <th>Quality_rainfall</th>\n",
       "      <th>Interpolation_x</th>\n",
       "      <th>Valid</th>\n",
       "      <th>Invalid</th>\n",
       "      <th>Missing</th>\n",
       "      <th>Tags_x</th>\n",
       "      <th>Remarks_x</th>\n",
       "      <th>flow</th>\n",
       "      <th>Quality_flow</th>\n",
       "      <th>Interpolation_y</th>\n",
       "      <th>Tags_y</th>\n",
       "      <th>Remarks_y</th>\n",
       "    </tr>\n",
       "  </thead>\n",
       "  <tbody>\n",
       "    <tr>\n",
       "      <th>0</th>\n",
       "      <td>1986-01-08</td>\n",
       "      <td>14:00:00</td>\n",
       "      <td>0</td>\n",
       "      <td>200 (U)</td>\n",
       "      <td>const since previous</td>\n",
       "      <td>0.0</td>\n",
       "      <td>0.0</td>\n",
       "      <td>0.0</td>\n",
       "      <td>NaN</td>\n",
       "      <td>NaN</td>\n",
       "      <td>5.73</td>\n",
       "      <td>200 (U)</td>\n",
       "      <td>linear interpolation</td>\n",
       "      <td>NaN</td>\n",
       "      <td>NaN</td>\n",
       "    </tr>\n",
       "    <tr>\n",
       "      <th>1</th>\n",
       "      <td>1986-01-08</td>\n",
       "      <td>15:00:00</td>\n",
       "      <td>0</td>\n",
       "      <td>200 (U)</td>\n",
       "      <td>const since previous</td>\n",
       "      <td>0.0</td>\n",
       "      <td>0.0</td>\n",
       "      <td>0.0</td>\n",
       "      <td>NaN</td>\n",
       "      <td>NaN</td>\n",
       "      <td>5.85</td>\n",
       "      <td>200 (U)</td>\n",
       "      <td>linear interpolation</td>\n",
       "      <td>NaN</td>\n",
       "      <td>NaN</td>\n",
       "    </tr>\n",
       "    <tr>\n",
       "      <th>2</th>\n",
       "      <td>1986-01-08</td>\n",
       "      <td>16:00:00</td>\n",
       "      <td>0</td>\n",
       "      <td>200 (U)</td>\n",
       "      <td>const since previous</td>\n",
       "      <td>0.0</td>\n",
       "      <td>0.0</td>\n",
       "      <td>0.0</td>\n",
       "      <td>NaN</td>\n",
       "      <td>NaN</td>\n",
       "      <td>5.97</td>\n",
       "      <td>200 (U)</td>\n",
       "      <td>linear interpolation</td>\n",
       "      <td>NaN</td>\n",
       "      <td>NaN</td>\n",
       "    </tr>\n",
       "    <tr>\n",
       "      <th>3</th>\n",
       "      <td>1986-01-08</td>\n",
       "      <td>17:00:00</td>\n",
       "      <td>0</td>\n",
       "      <td>200 (U)</td>\n",
       "      <td>const since previous</td>\n",
       "      <td>0.0</td>\n",
       "      <td>0.0</td>\n",
       "      <td>0.0</td>\n",
       "      <td>NaN</td>\n",
       "      <td>NaN</td>\n",
       "      <td>6.09</td>\n",
       "      <td>200 (U)</td>\n",
       "      <td>linear interpolation</td>\n",
       "      <td>NaN</td>\n",
       "      <td>NaN</td>\n",
       "    </tr>\n",
       "    <tr>\n",
       "      <th>4</th>\n",
       "      <td>1986-01-08</td>\n",
       "      <td>18:00:00</td>\n",
       "      <td>0</td>\n",
       "      <td>200 (U)</td>\n",
       "      <td>const since previous</td>\n",
       "      <td>0.0</td>\n",
       "      <td>0.0</td>\n",
       "      <td>0.0</td>\n",
       "      <td>NaN</td>\n",
       "      <td>NaN</td>\n",
       "      <td>6.18</td>\n",
       "      <td>200 (U)</td>\n",
       "      <td>linear interpolation</td>\n",
       "      <td>NaN</td>\n",
       "      <td>NaN</td>\n",
       "    </tr>\n",
       "  </tbody>\n",
       "</table>\n",
       "</div>"
      ],
      "text/plain": [
       "        Date      Time rainfall Quality_rainfall       Interpolation_x  Valid  \\\n",
       "0 1986-01-08  14:00:00        0          200 (U)  const since previous    0.0   \n",
       "1 1986-01-08  15:00:00        0          200 (U)  const since previous    0.0   \n",
       "2 1986-01-08  16:00:00        0          200 (U)  const since previous    0.0   \n",
       "3 1986-01-08  17:00:00        0          200 (U)  const since previous    0.0   \n",
       "4 1986-01-08  18:00:00        0          200 (U)  const since previous    0.0   \n",
       "\n",
       "   Invalid  Missing  Tags_x Remarks_x  flow Quality_flow  \\\n",
       "0      0.0      0.0     NaN       NaN  5.73      200 (U)   \n",
       "1      0.0      0.0     NaN       NaN  5.85      200 (U)   \n",
       "2      0.0      0.0     NaN       NaN  5.97      200 (U)   \n",
       "3      0.0      0.0     NaN       NaN  6.09      200 (U)   \n",
       "4      0.0      0.0     NaN       NaN  6.18      200 (U)   \n",
       "\n",
       "        Interpolation_y  Tags_y Remarks_y  \n",
       "0  linear interpolation     NaN       NaN  \n",
       "1  linear interpolation     NaN       NaN  \n",
       "2  linear interpolation     NaN       NaN  \n",
       "3  linear interpolation     NaN       NaN  \n",
       "4  linear interpolation     NaN       NaN  "
      ]
     },
     "execution_count": 11,
     "metadata": {},
     "output_type": "execute_result"
    }
   ],
   "source": [
    "#Try and compare 60 minute rainfall data to 60 minute flow data\n",
    "df_flow_and_rainfall = pd.merge(rainfall60_filtered, flow60_filtered, on=['Date', 'Time']) #Merge the dataframes\n",
    "df_flow_and_rainfall = df_flow_and_rainfall.rename(columns= #Renaming columns for ease of use\n",
    "                                             {'Quality_x':'Quality_rainfall', \n",
    "                                              'Quality_y':'Quality_flow', \n",
    "                                              'Flow [m³/s]':'flow',\n",
    "                                              'Precipitation [mm]':'rainfall'})\n",
    "\n",
    "df_flow_and_rainfall.head()"
   ]
  },
  {
   "cell_type": "code",
   "execution_count": 12,
   "metadata": {},
   "outputs": [
    {
     "name": "stdout",
     "output_type": "stream",
     "text": [
      "['2002-10-03T00:00:00.000000000']\n"
     ]
    }
   ],
   "source": [
    "print(df_flow_and_rainfall['Date'][df_flow_and_rainfall['Quality_rainfall']=='missing'].unique())"
   ]
  },
  {
   "cell_type": "code",
   "execution_count": 13,
   "metadata": {},
   "outputs": [
    {
     "name": "stdout",
     "output_type": "stream",
     "text": [
      "['1987-02-11T00:00:00.000000000' '1987-02-12T00:00:00.000000000'\n",
      " '1987-02-13T00:00:00.000000000' '1987-02-14T00:00:00.000000000'\n",
      " '1987-02-15T00:00:00.000000000' '1987-02-16T00:00:00.000000000'\n",
      " '1987-02-17T00:00:00.000000000' '1987-02-18T00:00:00.000000000'\n",
      " '1987-03-25T00:00:00.000000000' '1987-03-26T00:00:00.000000000'\n",
      " '1987-03-27T00:00:00.000000000' '1987-03-28T00:00:00.000000000'\n",
      " '1987-03-29T00:00:00.000000000' '1987-03-30T00:00:00.000000000'\n",
      " '1987-03-31T00:00:00.000000000' '1987-04-01T00:00:00.000000000']\n"
     ]
    }
   ],
   "source": [
    "print(df_flow_and_rainfall['Date'][df_flow_and_rainfall['Quality_flow']=='missing'].unique())"
   ]
  },
  {
   "cell_type": "code",
   "execution_count": 14,
   "metadata": {},
   "outputs": [],
   "source": [
    "#Get rid of any input pairs to the regression with missing values -not sure quite understand this\n",
    "df_flow_and_rainfall_complete = df_flow_and_rainfall[df_flow_and_rainfall['Quality_flow'] != 'missing']  \n",
    "df_flow_and_rainfall_complete = df_flow_and_rainfall_complete[df_flow_and_rainfall_complete['Quality_flow'] != 'missing']\n",
    "\n",
    "#Remove 0 values of precipitation\n",
    "#df_flow_and_rainfall_complete.drop(df_flow_and_rainfall_complete.index[df_flow_and_rainfall_complete['rainfall'] == '0'], inplace = True)\n",
    "#Remove 0 values of flow\n",
    "#df_flow_and_rainfall_complete.drop(df_flow_and_rainfall_complete.index[df_flow_and_rainfall_complete['flow'] == '0'], inplace = True)"
   ]
  },
  {
   "cell_type": "code",
   "execution_count": 15,
   "metadata": {},
   "outputs": [
    {
     "data": {
      "text/plain": [
       "<AxesSubplot:xlabel='rainfall', ylabel='flow'>"
      ]
     },
     "execution_count": 15,
     "metadata": {},
     "output_type": "execute_result"
    },
    {
     "data": {
      "image/png": "[encoded data removed]",
      "text/plain": [
       "<Figure size 432x288 with 1 Axes>"
      ]
     },
     "metadata": {
      "needs_background": "light"
     },
     "output_type": "display_data"
    }
   ],
   "source": [
    "#Plot rainfall and flow against eachother \n",
    "df_flow_and_rainfall_complete.plot.scatter(x='rainfall', y='flow')\n",
    "#plt.xlim(left=0)\n"
   ]
  },
  {
   "cell_type": "markdown",
   "metadata": {},
   "source": [
    "Look at monthly means of flow and rainfall data "
   ]
  },
  {
   "cell_type": "code",
   "execution_count": 16,
   "metadata": {},
   "outputs": [],
   "source": [
    "#Try taking monthly means of flow data to simplify plot and look at correlation\n",
    "\n",
    "flow60_filtered_dt=flow60_filtered.set_index(pd.to_datetime(flow60_filtered['Date']))\n",
    "flow60_filtered_dt.head()\n",
    "\n",
    "flow60_flowonly = flow60_filtered_dt.loc[:,['Flow [m³/s]']]\n",
    "flow60_flowonly.head()\n",
    "\n",
    "flow60_flowonly['Flow [m³/s]'] = flow60_flowonly['Flow [m³/s]'].astype(float)\n",
    "flow60_flowonly.dtypes\n",
    "\n",
    "monthly_mean_flow = flow60_flowonly.resample('M').mean()    "
   ]
  },
  {
   "cell_type": "code",
   "execution_count": 17,
   "metadata": {},
   "outputs": [],
   "source": [
    "#Try taking monthly means of rainfall data to simplify plot and look at correlation\n",
    "\n",
    "rainfall60_filtered_dt=rainfall60_filtered.set_index(pd.to_datetime(rainfall60_filtered['Date']))\n",
    "rainfall60_filtered_dt.head()\n",
    "\n",
    "rainfall60_rain = rainfall60_filtered_dt.loc[:,['Precipitation [mm]']]\n",
    "rainfall60_rain.head()\n",
    "\n",
    "rainfall60_rain['Precipitation [mm]'] = rainfall60_rain['Precipitation [mm]'].astype(float)\n",
    "monthly_mean_rainfall = rainfall60_rain.resample('M').mean()"
   ]
  },
  {
   "cell_type": "code",
   "execution_count": 18,
   "metadata": {},
   "outputs": [
    {
     "data": {
      "text/plain": [
       "Text(0.5, 1.0, 'Monthly Averages of Rainfall and Flow')"
      ]
     },
     "execution_count": 18,
     "metadata": {},
     "output_type": "execute_result"
    },
    {
     "data": {
      "image/png": "[encoded data removed]",
      "text/plain": [
       "<Figure size 432x288 with 1 Axes>"
      ]
     },
     "metadata": {
      "needs_background": "light"
     },
     "output_type": "display_data"
    }
   ],
   "source": [
    "flow_and_rainfall_monthly = pd.merge(monthly_mean_rainfall, monthly_mean_flow, on=['Date']) #Merge the dataframes\n",
    "flow_and_rainfall_monthly.head()\n",
    "\n",
    "\n",
    "flow_and_rainfall_monthly.plot.scatter(x='Precipitation [mm]', y='Flow [m³/s]')\n",
    "plt.title('Monthly Averages of Rainfall and Flow')\n",
    "#plt.xlim(right=0.25)"
   ]
  },
  {
   "cell_type": "markdown",
   "metadata": {},
   "source": [
    "Look at rainfall vs. stage"
   ]
  },
  {
   "cell_type": "code",
   "execution_count": 19,
   "metadata": {},
   "outputs": [],
   "source": [
    "#Try the rainfall against the stage \n",
    "#import stage data\n",
    "\n",
    "stage60 = pd.read_excel('EA_files_subsample/Shipston Wiski data - 60 min.xlsx', \n",
    "                      sheet_name = 2)"
   ]
  },
  {
   "cell_type": "code",
   "execution_count": 20,
   "metadata": {},
   "outputs": [
    {
     "data": {
      "text/html": [
       "<div>\n",
       "<style scoped>\n",
       "    .dataframe tbody tr th:only-of-type {\n",
       "        vertical-align: middle;\n",
       "    }\n",
       "\n",
       "    .dataframe tbody tr th {\n",
       "        vertical-align: top;\n",
       "    }\n",
       "\n",
       "    .dataframe thead th {\n",
       "        text-align: right;\n",
       "    }\n",
       "</style>\n",
       "<table border=\"1\" class=\"dataframe\">\n",
       "  <thead>\n",
       "    <tr style=\"text-align: right;\">\n",
       "      <th></th>\n",
       "      <th>Date</th>\n",
       "      <th>Time</th>\n",
       "      <th>Stage [m]</th>\n",
       "      <th>Quality</th>\n",
       "      <th>Interpolation</th>\n",
       "      <th>Tags</th>\n",
       "      <th>Remarks</th>\n",
       "    </tr>\n",
       "  </thead>\n",
       "  <tbody>\n",
       "    <tr>\n",
       "      <th>0</th>\n",
       "      <td>1973-07-23</td>\n",
       "      <td>11:00:00</td>\n",
       "      <td>0.472</td>\n",
       "      <td>200 (U)</td>\n",
       "      <td>linear interpolation</td>\n",
       "      <td>NaN</td>\n",
       "      <td>Digitised by CDS - Batch: Nov 2002</td>\n",
       "    </tr>\n",
       "    <tr>\n",
       "      <th>1</th>\n",
       "      <td>1973-07-23</td>\n",
       "      <td>12:00:00</td>\n",
       "      <td>0.468</td>\n",
       "      <td>200 (U)</td>\n",
       "      <td>linear interpolation</td>\n",
       "      <td>NaN</td>\n",
       "      <td>Digitised by CDS - Batch: Nov 2002</td>\n",
       "    </tr>\n",
       "    <tr>\n",
       "      <th>2</th>\n",
       "      <td>1973-07-23</td>\n",
       "      <td>13:00:00</td>\n",
       "      <td>0.463</td>\n",
       "      <td>200 (U)</td>\n",
       "      <td>linear interpolation</td>\n",
       "      <td>NaN</td>\n",
       "      <td>Digitised by CDS - Batch: Nov 2002</td>\n",
       "    </tr>\n",
       "    <tr>\n",
       "      <th>3</th>\n",
       "      <td>1973-07-23</td>\n",
       "      <td>14:00:00</td>\n",
       "      <td>0.458</td>\n",
       "      <td>200 (U)</td>\n",
       "      <td>linear interpolation</td>\n",
       "      <td>NaN</td>\n",
       "      <td>Digitised by CDS - Batch: Nov 2002</td>\n",
       "    </tr>\n",
       "    <tr>\n",
       "      <th>4</th>\n",
       "      <td>1973-07-23</td>\n",
       "      <td>15:00:00</td>\n",
       "      <td>0.454</td>\n",
       "      <td>200 (U)</td>\n",
       "      <td>linear interpolation</td>\n",
       "      <td>NaN</td>\n",
       "      <td>Digitised by CDS - Batch: Nov 2002</td>\n",
       "    </tr>\n",
       "  </tbody>\n",
       "</table>\n",
       "</div>"
      ],
      "text/plain": [
       "        Date      Time Stage [m]  Quality         Interpolation  Tags  \\\n",
       "0 1973-07-23  11:00:00     0.472  200 (U)  linear interpolation   NaN   \n",
       "1 1973-07-23  12:00:00     0.468  200 (U)  linear interpolation   NaN   \n",
       "2 1973-07-23  13:00:00     0.463  200 (U)  linear interpolation   NaN   \n",
       "3 1973-07-23  14:00:00     0.458  200 (U)  linear interpolation   NaN   \n",
       "4 1973-07-23  15:00:00     0.454  200 (U)  linear interpolation   NaN   \n",
       "\n",
       "                              Remarks  \n",
       "0  Digitised by CDS - Batch: Nov 2002  \n",
       "1  Digitised by CDS - Batch: Nov 2002  \n",
       "2  Digitised by CDS - Batch: Nov 2002  \n",
       "3  Digitised by CDS - Batch: Nov 2002  \n",
       "4  Digitised by CDS - Batch: Nov 2002  "
      ]
     },
     "execution_count": 20,
     "metadata": {},
     "output_type": "execute_result"
    }
   ],
   "source": [
    "stage60_filtered = stage60.replace(\" ---\",\"NaN\")\n",
    "stage60_filtered.head()"
   ]
  },
  {
   "cell_type": "code",
   "execution_count": 21,
   "metadata": {},
   "outputs": [
    {
     "data": {
      "text/html": [
       "<div>\n",
       "<style scoped>\n",
       "    .dataframe tbody tr th:only-of-type {\n",
       "        vertical-align: middle;\n",
       "    }\n",
       "\n",
       "    .dataframe tbody tr th {\n",
       "        vertical-align: top;\n",
       "    }\n",
       "\n",
       "    .dataframe thead th {\n",
       "        text-align: right;\n",
       "    }\n",
       "</style>\n",
       "<table border=\"1\" class=\"dataframe\">\n",
       "  <thead>\n",
       "    <tr style=\"text-align: right;\">\n",
       "      <th></th>\n",
       "      <th>Date</th>\n",
       "      <th>Time</th>\n",
       "      <th>stage</th>\n",
       "      <th>Quality_stage</th>\n",
       "      <th>Interpolation_x</th>\n",
       "      <th>Tags_x</th>\n",
       "      <th>Remarks_x</th>\n",
       "      <th>rainfall</th>\n",
       "      <th>Quality_rainfall</th>\n",
       "      <th>Interpolation_y</th>\n",
       "      <th>Valid</th>\n",
       "      <th>Invalid</th>\n",
       "      <th>Missing</th>\n",
       "      <th>Tags_y</th>\n",
       "      <th>Remarks_y</th>\n",
       "    </tr>\n",
       "  </thead>\n",
       "  <tbody>\n",
       "    <tr>\n",
       "      <th>0</th>\n",
       "      <td>1979-07-26</td>\n",
       "      <td>09:00:00</td>\n",
       "      <td>0.274</td>\n",
       "      <td>200 (U)</td>\n",
       "      <td>linear interpolation</td>\n",
       "      <td>NaN</td>\n",
       "      <td>Digitised by CDS - Batch: Nov 2002</td>\n",
       "      <td>0</td>\n",
       "      <td>40 (G)</td>\n",
       "      <td>const since previous</td>\n",
       "      <td>0.0</td>\n",
       "      <td>0.0</td>\n",
       "      <td>0.0</td>\n",
       "      <td>NaN</td>\n",
       "      <td>NaN</td>\n",
       "    </tr>\n",
       "    <tr>\n",
       "      <th>1</th>\n",
       "      <td>1979-07-26</td>\n",
       "      <td>10:00:00</td>\n",
       "      <td>0.275</td>\n",
       "      <td>200 (U)</td>\n",
       "      <td>linear interpolation</td>\n",
       "      <td>NaN</td>\n",
       "      <td>Digitised by CDS - Batch: Nov 2002</td>\n",
       "      <td>0</td>\n",
       "      <td>200 (U)</td>\n",
       "      <td>const since previous</td>\n",
       "      <td>0.0</td>\n",
       "      <td>0.0</td>\n",
       "      <td>0.0</td>\n",
       "      <td>NaN</td>\n",
       "      <td>NaN</td>\n",
       "    </tr>\n",
       "    <tr>\n",
       "      <th>2</th>\n",
       "      <td>1979-07-26</td>\n",
       "      <td>11:00:00</td>\n",
       "      <td>0.275</td>\n",
       "      <td>200 (U)</td>\n",
       "      <td>linear interpolation</td>\n",
       "      <td>NaN</td>\n",
       "      <td>Digitised by CDS - Batch: Nov 2002</td>\n",
       "      <td>0</td>\n",
       "      <td>200 (U)</td>\n",
       "      <td>const since previous</td>\n",
       "      <td>0.0</td>\n",
       "      <td>0.0</td>\n",
       "      <td>0.0</td>\n",
       "      <td>NaN</td>\n",
       "      <td>NaN</td>\n",
       "    </tr>\n",
       "    <tr>\n",
       "      <th>3</th>\n",
       "      <td>1979-07-26</td>\n",
       "      <td>12:00:00</td>\n",
       "      <td>0.275</td>\n",
       "      <td>200 (U)</td>\n",
       "      <td>linear interpolation</td>\n",
       "      <td>NaN</td>\n",
       "      <td>Digitised by CDS - Batch: Nov 2002</td>\n",
       "      <td>0</td>\n",
       "      <td>200 (U)</td>\n",
       "      <td>const since previous</td>\n",
       "      <td>0.0</td>\n",
       "      <td>0.0</td>\n",
       "      <td>0.0</td>\n",
       "      <td>NaN</td>\n",
       "      <td>NaN</td>\n",
       "    </tr>\n",
       "    <tr>\n",
       "      <th>4</th>\n",
       "      <td>1979-07-26</td>\n",
       "      <td>13:00:00</td>\n",
       "      <td>0.275</td>\n",
       "      <td>200 (U)</td>\n",
       "      <td>linear interpolation</td>\n",
       "      <td>NaN</td>\n",
       "      <td>Digitised by CDS - Batch: Nov 2002</td>\n",
       "      <td>0</td>\n",
       "      <td>200 (U)</td>\n",
       "      <td>const since previous</td>\n",
       "      <td>0.0</td>\n",
       "      <td>0.0</td>\n",
       "      <td>0.0</td>\n",
       "      <td>NaN</td>\n",
       "      <td>NaN</td>\n",
       "    </tr>\n",
       "  </tbody>\n",
       "</table>\n",
       "</div>"
      ],
      "text/plain": [
       "        Date      Time  stage Quality_stage       Interpolation_x  Tags_x  \\\n",
       "0 1979-07-26  09:00:00  0.274       200 (U)  linear interpolation     NaN   \n",
       "1 1979-07-26  10:00:00  0.275       200 (U)  linear interpolation     NaN   \n",
       "2 1979-07-26  11:00:00  0.275       200 (U)  linear interpolation     NaN   \n",
       "3 1979-07-26  12:00:00  0.275       200 (U)  linear interpolation     NaN   \n",
       "4 1979-07-26  13:00:00  0.275       200 (U)  linear interpolation     NaN   \n",
       "\n",
       "                            Remarks_x rainfall Quality_rainfall  \\\n",
       "0  Digitised by CDS - Batch: Nov 2002        0           40 (G)   \n",
       "1  Digitised by CDS - Batch: Nov 2002        0          200 (U)   \n",
       "2  Digitised by CDS - Batch: Nov 2002        0          200 (U)   \n",
       "3  Digitised by CDS - Batch: Nov 2002        0          200 (U)   \n",
       "4  Digitised by CDS - Batch: Nov 2002        0          200 (U)   \n",
       "\n",
       "        Interpolation_y  Valid  Invalid  Missing  Tags_y Remarks_y  \n",
       "0  const since previous    0.0      0.0      0.0     NaN       NaN  \n",
       "1  const since previous    0.0      0.0      0.0     NaN       NaN  \n",
       "2  const since previous    0.0      0.0      0.0     NaN       NaN  \n",
       "3  const since previous    0.0      0.0      0.0     NaN       NaN  \n",
       "4  const since previous    0.0      0.0      0.0     NaN       NaN  "
      ]
     },
     "execution_count": 21,
     "metadata": {},
     "output_type": "execute_result"
    }
   ],
   "source": [
    "df_rainfall_and_stage = pd.merge(stage60_filtered, rainfall60_filtered, on=['Date', 'Time']) #Merge the dataframes\n",
    "\n",
    "df_rainfall_and_stage = df_rainfall_and_stage.rename(columns= #Renaming columns for ease of use\n",
    "                                             {'Quality_x':'Quality_stage', \n",
    "                                              'Quality_y':'Quality_rainfall', \n",
    "                                              'Precipitation [mm]':'rainfall',\n",
    "                                              'Stage [m]':'stage'})\n",
    "\n",
    "df_rainfall_and_stage.head()"
   ]
  },
  {
   "cell_type": "code",
   "execution_count": 22,
   "metadata": {},
   "outputs": [],
   "source": [
    "#Get rid of any input pairs to the regression with missing values\n",
    "df_rainfall_and_stage_complete = df_rainfall_and_stage[df_rainfall_and_stage['Quality_stage'] != 'missing']  \n",
    "df_rainfall_and_stage_complete = df_rainfall_and_stage_complete[df_rainfall_and_stage_complete['Quality_stage'] != 'missing'] "
   ]
  },
  {
   "cell_type": "code",
   "execution_count": 23,
   "metadata": {},
   "outputs": [
    {
     "data": {
      "text/plain": [
       "<AxesSubplot:xlabel='rainfall', ylabel='stage'>"
      ]
     },
     "execution_count": 23,
     "metadata": {},
     "output_type": "execute_result"
    },
    {
     "data": {
      "image/png": "[encoded data removed]",
      "text/plain": [
       "<Figure size 432x288 with 1 Axes>"
      ]
     },
     "metadata": {
      "needs_background": "light"
     },
     "output_type": "display_data"
    }
   ],
   "source": [
    "df_rainfall_and_stage_complete.plot.scatter(x='rainfall', y='stage')"
   ]
  },
  {
   "cell_type": "code",
   "execution_count": 24,
   "metadata": {},
   "outputs": [],
   "source": [
    "#Look at monthly mean of rainfall and stage data\n",
    "stage60_filtered_dt=stage60_filtered.set_index(pd.to_datetime(stage60_filtered['Date']))\n",
    "stage60_filtered_dt.head()\n",
    "\n",
    "stage60_stageonly = stage60_filtered_dt.loc[:,['Stage [m]']]\n",
    "stage60_stageonly.head()\n",
    "\n",
    "stage60_stageonly['Stage [m]'] = stage60_stageonly['Stage [m]'].astype(float)\n",
    "stage60_stageonly.dtypes\n",
    "\n",
    "monthly_mean_stage = stage60_stageonly.resample('M').mean() "
   ]
  },
  {
   "cell_type": "code",
   "execution_count": 25,
   "metadata": {},
   "outputs": [
    {
     "data": {
      "text/plain": [
       "Text(0.5, 1.0, 'Monthly Averages of Rainfall and Stage')"
      ]
     },
     "execution_count": 25,
     "metadata": {},
     "output_type": "execute_result"
    },
    {
     "data": {
      "image/png": "[encoded data removed]",
      "text/plain": [
       "<Figure size 432x288 with 1 Axes>"
      ]
     },
     "metadata": {
      "needs_background": "light"
     },
     "output_type": "display_data"
    }
   ],
   "source": [
    "stage_and_rainfall_monthly = pd.merge(monthly_mean_rainfall, monthly_mean_stage, on=['Date']) #Merge the dataframes\n",
    "stage_and_rainfall_monthly.head()\n",
    "\n",
    "\n",
    "stage_and_rainfall_monthly.plot.scatter(x='Precipitation [mm]', y='Stage [m]')\n",
    "plt.title('Monthly Averages of Rainfall and Stage')\n",
    "#plt.xlim(right=0.25)"
   ]
  },
  {
   "cell_type": "markdown",
   "metadata": {},
   "source": [
    "# GP Fits"
   ]
  },
  {
   "cell_type": "markdown",
   "metadata": {},
   "source": [
    "These are useless given the data"
   ]
  },
  {
   "cell_type": "code",
   "execution_count": 26,
   "metadata": {},
   "outputs": [
    {
     "name": "stdout",
     "output_type": "stream",
     "text": [
      "RBF(length_scale=0.01)\n"
     ]
    }
   ],
   "source": [
    "#Try and predict stage from rainfall \n",
    "from sklearn.gaussian_process import GaussianProcessRegressor\n",
    "from sklearn.gaussian_process.kernels import ConstantKernel, RBF\n",
    "\n",
    "\n",
    "#df_rainfall_and_stage_dropped_nans=df_rainfall_and_stage_complete.dropna()\n",
    "\n",
    "#X = df_rainfall_and_stage_complete['rainfall'].values.reshape(-1,1)\n",
    "#y = df_rainfall_and_stage_complete['stage'].values\n",
    "\n",
    "stage_and_rainfall_monthly_dropped_nans=stage_and_rainfall_monthly.dropna()\n",
    "#print(stage_and_rainfall_monthly_dropped_nans)\n",
    "\n",
    "X = stage_and_rainfall_monthly_dropped_nans['Precipitation [mm]'].values.reshape(-1,1)\n",
    "y = stage_and_rainfall_monthly_dropped_nans['Stage [m]'].values\n",
    "\n",
    "\n",
    "y = y[np.argsort(X, axis=0)] #Reorder them from time order to ascending by value\n",
    "X = np.sort(X, axis=0) #So that the line plot looks sensible\n",
    "\n",
    "X_train = np.append(X[0::500], X[-100:], axis = 0) #Every 500th data point and the last 100\n",
    "y_train = np.append(y[0::500], y[-100:], axis = 0)\n",
    "#print(X_train)\n",
    "\n",
    "#Sort X_train into ascending order (for plotting)\n",
    "\n",
    "\n",
    "kernel = RBF(5, (1e-2, 1e2))\n",
    "\n",
    "gp = GaussianProcessRegressor(kernel=kernel,\n",
    "                              n_restarts_optimizer=10, alpha = 0.1**2)\n",
    "\n",
    "gp.fit(X_train, y_train)\n",
    "\n",
    "print(gp.kernel_)\n"
   ]
  },
  {
   "cell_type": "code",
   "execution_count": 27,
   "metadata": {},
   "outputs": [
    {
     "name": "stdout",
     "output_type": "stream",
     "text": [
      "RMS error in rainfall is: 0.47324078180418205 [mm]\n",
      "MAP error in rainfall is: 95.17735215910353%\n"
     ]
    }
   ],
   "source": [
    "gp.score(X,y)      \n",
    "\n",
    "y_pred, sigma = gp.predict(X, return_std=True)\n",
    "\n",
    "mean_sq_err = ((y_pred - y)**2).mean()       \n",
    "\n",
    "print(\"RMS error in rainfall is: \" + str(np.sqrt(mean_sq_err)) + \" [mm]\")\n",
    "\n",
    "mean_abs_prc_err = (abs( (y_pred - y) / y) ).mean()\n",
    "\n",
    "print(\"MAP error in rainfall is: \" + str(100*mean_abs_prc_err) + \"%\")"
   ]
  },
  {
   "cell_type": "code",
   "execution_count": 28,
   "metadata": {},
   "outputs": [
    {
     "data": {
      "image/png": "[encoded data removed]",
      "text/plain": [
       "<Figure size 432x288 with 1 Axes>"
      ]
     },
     "metadata": {
      "needs_background": "light"
     },
     "output_type": "display_data"
    }
   ],
   "source": [
    "#Plot predictions based on the training data to avoid memory errors\n",
    "y_pred_train, sigma = gp.predict(X_train, return_std=True) \n",
    "\n",
    "plt.figure()\n",
    "plt.plot(X_train, y_pred_train, 'firebrick', label='Prediction')\n",
    "#plt.scatter(X, y, marker='x', color='coral', label = 'Observations')\n",
    "plt.fill(np.concatenate([X_train, X_train[::-1]]),\n",
    "         np.concatenate([y_pred_train - 1.9600 * sigma,\n",
    "                        (y_pred_train + 1.9600 * sigma)[::-1]]),\n",
    "         alpha=.5, fc='darksalmon', ec='None')\n",
    "plt.xlabel('Precipitation [mm]')\n",
    "plt.ylabel('Stage [m]')\n",
    "plt.title('Prediction of stage from rainfall data')\n",
    "\n",
    "plt.legend(loc='upper left')\n",
    "\n",
    "plt.show()"
   ]
  },
  {
   "cell_type": "markdown",
   "metadata": {},
   "source": [
    "Try GP fit for whole data set (won't run)"
   ]
  },
  {
   "cell_type": "code",
   "execution_count": 30,
   "metadata": {},
   "outputs": [],
   "source": [
    "stage60_stageonly.head()\n",
    "rainfall60_rain.head()\n",
    "\n",
    "stage_and_rainfall_only = pd.merge(rainfall60_rain, stage60_stageonly, on=['Date'])\n",
    "stage_and_rainfall_only.head()\n",
    "\n",
    "stage_and_rainfall_only_dropped_nans=stage_and_rainfall_only.dropna()\n",
    "#print(stage_and_rainfall_monthly_dropped_nans)\n",
    "\n",
    "X = stage_and_rainfall_only_dropped_nans['Precipitation [mm]'].values.reshape(-1,1)\n",
    "y = stage_and_rainfall_only_dropped_nans['Stage [m]'].values\n",
    "\n",
    "\n",
    "y = y[np.argsort(X, axis=0)] #Reorder them from time order to ascending by value\n",
    "X = np.sort(X, axis=0) #So that the line plot looks sensible\n",
    "\n",
    "X_train = np.append(X[0::500], X[-100:], axis = 0) #Every 500th data point and the last 100\n",
    "y_train = np.append(y[0::500], y[-100:], axis = 0)\n",
    "#print(X_train)\n",
    "\n",
    "#Sort X_train into ascending order (for plotting)\n",
    "\n",
    "\n",
    "#kernel = RBF(5, (1e-2, 1e2))\n",
    "\n",
    "#gp = GaussianProcessRegressor(kernel=kernel,\n",
    "                              #n_restarts_optimizer=10, alpha = 0.1**2)\n",
    "\n",
    "#gp.fit(X_train, y_train)\n",
    "\n",
    "#print(gp.kernel_)"
   ]
  },
  {
   "cell_type": "code",
   "execution_count": 31,
   "metadata": {},
   "outputs": [],
   "source": [
    "#Look at precipitation data from Chipping Camden\n",
    "rainfall60_CC = pd.read_excel('EA_files_subsample/Shipston Wiski data - 60 min.xlsx', \n",
    "                      sheet_name = 4)"
   ]
  },
  {
   "cell_type": "code",
   "execution_count": null,
   "metadata": {},
   "outputs": [],
   "source": [
    "rainfall60_CC_filtered = rainfall60_CC.replace('  ---',\"NaN\")\n",
    "rainfall60_CC_filtered = rainfall60_CC_filtered.replace(\".\", 0) #Replacing . to 0\n",
    "rainfall60_CC_filtered.head()"
   ]
  },
  {
   "cell_type": "code",
   "execution_count": null,
   "metadata": {},
   "outputs": [],
   "source": [
    "print(rainfall60_CC['Date'][rainfall60_CC['Quality']=='missing'].unique())"
   ]
  },
  {
   "cell_type": "code",
   "execution_count": null,
   "metadata": {},
   "outputs": [],
   "source": [
    "plt.figure(figsize=(20,4))\n",
    "plt.plot(rainfall60_CC_filtered['Date'],rainfall60_CC_filtered['Precipitation [mm]'], 'blue')\n",
    "plt.title(\"Precipitation Chipping Camden (mm)\")\n",
    "plt.show()"
   ]
  },
  {
   "cell_type": "code",
   "execution_count": null,
   "metadata": {},
   "outputs": [],
   "source": [
    "#Try and compare 60 minute rainfall Chipping Camden data to 60 minute flow data\n",
    "df_flow_and_rainfallCC = pd.merge(rainfall60_CC_filtered, flow60_filtered, on=['Date', 'Time']) #Merge the dataframes\n",
    "df_flow_and_rainfallCC = df_flow_and_rainfallCC.rename(columns= #Renaming columns for ease of use\n",
    "                                             {'Quality_x':'Quality_rainfall', \n",
    "                                              'Quality_y':'Quality_flow', \n",
    "                                              'Flow [m³/s]':'flow',\n",
    "                                              'Precipitation [mm]':'rainfall'})\n",
    "\n",
    "df_flow_and_rainfallCC.head()"
   ]
  },
  {
   "cell_type": "code",
   "execution_count": null,
   "metadata": {},
   "outputs": [],
   "source": [
    "#Get rid of any input pairs to the regression with missing values -not sure quite understand this\n",
    "df_flow_and_rainfallCC_complete = df_flow_and_rainfallCC[df_flow_and_rainfallCC['Quality_flow'] != 'missing']  \n",
    "df_flow_and_rainfallCC_complete = df_flow_and_rainfallCC_complete[df_flow_and_rainfallCC_complete['Quality_flow'] != 'missing']"
   ]
  },
  {
   "cell_type": "code",
   "execution_count": null,
   "metadata": {},
   "outputs": [],
   "source": [
    "#Plot rainfall and flow against eachother \n",
    "df_flow_and_rainfallCC_complete.plot.scatter(x='rainfall', y='flow')"
   ]
  },
  {
   "cell_type": "code",
   "execution_count": null,
   "metadata": {},
   "outputs": [],
   "source": []
  }
 ],
 "metadata": {
  "kernelspec": {
   "display_name": "Python 3",
   "language": "python",
   "name": "python3"
  },
  "language_info": {
   "codemirror_mode": {
    "name": "ipython",
    "version": 3
   },
   "file_extension": ".py",
   "mimetype": "text/x-python",
   "name": "python",
   "nbconvert_exporter": "python",
   "pygments_lexer": "ipython3",
   "version": "3.8.6"
  }
 },
 "nbformat": 4,
 "nbformat_minor": 2
}
