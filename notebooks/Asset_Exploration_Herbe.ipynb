{
  "nbformat": 4,
  "nbformat_minor": 0,
  "metadata": {
    "colab": {
      "name": "Asset Exploration - Herbe.ipynb",
      "provenance": [],
      "collapsed_sections": []
    },
    "kernelspec": {
      "name": "python3",
      "display_name": "Python 3"
    }
  },
  "cells": [
    {
      "cell_type": "markdown",
      "metadata": {
        "id": "ZAZUCUQAfIR8"
      },
      "source": [
        "#**Environment Agency's Natural Flood Management - Data Challenge**"
      ]
    },
    {
      "cell_type": "markdown",
      "metadata": {
        "id": "2t5_MKkfb-a5"
      },
      "source": [
        "## Mount Drive, import packages, and download files"
      ]
    },
    {
      "cell_type": "markdown",
      "metadata": {
        "id": "zK2yKd5KLQIl"
      },
      "source": [
        "Mount Google Drive"
      ]
    },
    {
      "cell_type": "code",
      "metadata": {
        "id": "3cvOuXCEkXwH",
        "outputId": "918f1ea5-2c4f-475c-d35c-cb74cccf81ff",
        "colab": {
          "base_uri": "https://localhost:8080/",
          "height": 34
        }
      },
      "source": [
        "from google.colab import drive\n",
        "drive.mount('/content/drive/')"
      ],
      "execution_count": 1,
      "outputs": [
        {
          "output_type": "stream",
          "text": [
            "Mounted at /content/drive/\n"
          ],
          "name": "stdout"
        }
      ]
    },
    {
      "cell_type": "markdown",
      "metadata": {
        "id": "EP1N6dRxLWV2"
      },
      "source": [
        "Import required packages"
      ]
    },
    {
      "cell_type": "code",
      "metadata": {
        "id": "XH3dm21t0z6v"
      },
      "source": [
        "!pip install geopandas"
      ],
      "execution_count": null,
      "outputs": []
    },
    {
      "cell_type": "code",
      "metadata": {
        "id": "24CzcSdU2vFx",
        "outputId": "d5580b35-d455-4846-d5ff-183acc1ce9ef",
        "colab": {
          "base_uri": "https://localhost:8080/",
          "height": 578
        }
      },
      "source": [
        "!pip install contextily"
      ],
      "execution_count": 47,
      "outputs": [
        {
          "output_type": "stream",
          "text": [
            "Collecting contextily\n",
            "  Downloading https://files.pythonhosted.org/packages/c1/95/6a228a25a5e93ae236efe42a36659b61b1b4e7ceee75dd5bc4bab8944c44/contextily-1.0.0-py3-none-any.whl\n",
            "Requirement already satisfied: requests in /usr/local/lib/python3.6/dist-packages (from contextily) (2.23.0)\n",
            "Requirement already satisfied: pillow in /usr/local/lib/python3.6/dist-packages (from contextily) (7.0.0)\n",
            "Requirement already satisfied: matplotlib in /usr/local/lib/python3.6/dist-packages (from contextily) (3.2.2)\n",
            "Requirement already satisfied: joblib in /usr/local/lib/python3.6/dist-packages (from contextily) (0.16.0)\n",
            "Requirement already satisfied: geopy in /usr/local/lib/python3.6/dist-packages (from contextily) (1.17.0)\n",
            "Collecting mercantile\n",
            "  Downloading https://files.pythonhosted.org/packages/b9/cd/ee6dbee0abca93edda53703fe408d2a6abdc8c1b248a3c9a4539089eafa2/mercantile-1.1.6-py3-none-any.whl\n",
            "Collecting rasterio\n",
            "\u001b[?25l  Downloading https://files.pythonhosted.org/packages/cc/1c/0f36885ac5864b8ad75f167ca1d403666a5f0c3b2ea8ad3366c98a628e99/rasterio-1.1.7-cp36-cp36m-manylinux1_x86_64.whl (18.1MB)\n",
            "\u001b[K     |████████████████████████████████| 18.1MB 65.6MB/s \n",
            "\u001b[?25hRequirement already satisfied: chardet<4,>=3.0.2 in /usr/local/lib/python3.6/dist-packages (from requests->contextily) (3.0.4)\n",
            "Requirement already satisfied: idna<3,>=2.5 in /usr/local/lib/python3.6/dist-packages (from requests->contextily) (2.10)\n",
            "Requirement already satisfied: certifi>=2017.4.17 in /usr/local/lib/python3.6/dist-packages (from requests->contextily) (2020.6.20)\n",
            "Requirement already satisfied: urllib3!=1.25.0,!=1.25.1,<1.26,>=1.21.1 in /usr/local/lib/python3.6/dist-packages (from requests->contextily) (1.24.3)\n",
            "Requirement already satisfied: python-dateutil>=2.1 in /usr/local/lib/python3.6/dist-packages (from matplotlib->contextily) (2.8.1)\n",
            "Requirement already satisfied: cycler>=0.10 in /usr/local/lib/python3.6/dist-packages (from matplotlib->contextily) (0.10.0)\n",
            "Requirement already satisfied: numpy>=1.11 in /usr/local/lib/python3.6/dist-packages (from matplotlib->contextily) (1.18.5)\n",
            "Requirement already satisfied: pyparsing!=2.0.4,!=2.1.2,!=2.1.6,>=2.0.1 in /usr/local/lib/python3.6/dist-packages (from matplotlib->contextily) (2.4.7)\n",
            "Requirement already satisfied: kiwisolver>=1.0.1 in /usr/local/lib/python3.6/dist-packages (from matplotlib->contextily) (1.2.0)\n",
            "Requirement already satisfied: geographiclib<2,>=1.49 in /usr/local/lib/python3.6/dist-packages (from geopy->contextily) (1.50)\n",
            "Requirement already satisfied: click>=3.0 in /usr/local/lib/python3.6/dist-packages (from mercantile->contextily) (7.1.2)\n",
            "Collecting snuggs>=1.4.1\n",
            "  Downloading https://files.pythonhosted.org/packages/cc/0e/d27d6e806d6c0d1a2cfdc5d1f088e42339a0a54a09c3343f7f81ec8947ea/snuggs-1.4.7-py3-none-any.whl\n",
            "Requirement already satisfied: click-plugins in /usr/local/lib/python3.6/dist-packages (from rasterio->contextily) (1.1.1)\n",
            "Collecting affine\n",
            "  Downloading https://files.pythonhosted.org/packages/ac/a6/1a39a1ede71210e3ddaf623982b06ecfc5c5c03741ae659073159184cd3e/affine-2.3.0-py2.py3-none-any.whl\n",
            "Requirement already satisfied: attrs in /usr/local/lib/python3.6/dist-packages (from rasterio->contextily) (20.2.0)\n",
            "Requirement already satisfied: cligj>=0.5 in /usr/local/lib/python3.6/dist-packages (from rasterio->contextily) (0.5.0)\n",
            "Requirement already satisfied: six>=1.5 in /usr/local/lib/python3.6/dist-packages (from python-dateutil>=2.1->matplotlib->contextily) (1.15.0)\n",
            "Installing collected packages: mercantile, snuggs, affine, rasterio, contextily\n",
            "Successfully installed affine-2.3.0 contextily-1.0.0 mercantile-1.1.6 rasterio-1.1.7 snuggs-1.4.7\n"
          ],
          "name": "stdout"
        }
      ]
    },
    {
      "cell_type": "code",
      "metadata": {
        "id": "qsvksbpKko7O"
      },
      "source": [
        "import matplotlib.pyplot as plt\n",
        "import pandas as pd\n",
        "import numpy as np\n",
        "import os\n",
        "from google_drive_downloader import GoogleDriveDownloader as gdd\n",
        "import geopandas as gpd\n",
        "from shapely.geometry import Point, Polygon\n",
        "import contextily as ctx\n",
        "import seaborn as sns"
      ],
      "execution_count": 56,
      "outputs": []
    },
    {
      "cell_type": "markdown",
      "metadata": {
        "id": "TwJr5-HHLbU8"
      },
      "source": [
        "Download and unzip the data into Google Drive folder\n",
        "\n",
        "If you prefer to download it manually and/or to your local environment, data is also available at:\n",
        "https://drive.google.com/file/d/16STKJaKt_ipZZ6-4d7II9TO4eaia9agb/view?usp=sharing"
      ]
    },
    {
      "cell_type": "code",
      "metadata": {
        "id": "Ey7YSvk96Z2k",
        "outputId": "33216da2-0ac2-4309-b13d-65bf41229781",
        "colab": {
          "base_uri": "https://localhost:8080/",
          "height": 68
        }
      },
      "source": [
        "gdd.download_file_from_google_drive(file_id='16STKJaKt_ipZZ6-4d7II9TO4eaia9agb',\n",
        "                                    dest_path='/content/drive/My Drive/EA_hackathon/EA_files.zip', \n",
        "                                    showsize=True,\n",
        "                                    unzip=True)"
      ],
      "execution_count": 3,
      "outputs": [
        {
          "output_type": "stream",
          "text": [
            "Downloading 16STKJaKt_ipZZ6-4d7II9TO4eaia9agb into /content/drive/My Drive/EA_hackathon/EA_files.zip... \n",
            "107.9 MiB Done.\n",
            "Unzipping...Done.\n"
          ],
          "name": "stdout"
        }
      ]
    },
    {
      "cell_type": "markdown",
      "metadata": {
        "id": "Bh_g0wwncIQ8"
      },
      "source": [
        "## Import data sets into dataframes and plot time series"
      ]
    },
    {
      "cell_type": "markdown",
      "metadata": {
        "id": "C2hC_8EicMBY"
      },
      "source": [
        "#### Flow data at 60min resolution"
      ]
    },
    {
      "cell_type": "markdown",
      "metadata": {
        "id": "zr6ppEDWMPYm"
      },
      "source": [
        "Import data into Pandas dataframe"
      ]
    },
    {
      "cell_type": "code",
      "metadata": {
        "id": "QXLPRvN4lguI",
        "outputId": "1b274f37-6d6b-4c61-9bf0-fad61b59343c",
        "colab": {
          "base_uri": "https://localhost:8080/",
          "height": 51
        }
      },
      "source": [
        "%%time\n",
        "nfm_assets = pd.read_excel('/content/drive/My Drive/EA_hackathon/Shipston Assets 8.10 Cambridge snapshot (first 200 assets).xlsx',\n",
        "                           header=1)"
      ],
      "execution_count": 41,
      "outputs": [
        {
          "output_type": "stream",
          "text": [
            "CPU times: user 78 ms, sys: 0 ns, total: 78 ms\n",
            "Wall time: 81.9 ms\n"
          ],
          "name": "stdout"
        }
      ]
    },
    {
      "cell_type": "markdown",
      "metadata": {
        "id": "wbu2t89jMYwX"
      },
      "source": [
        "Explore data (5 top rows) "
      ]
    },
    {
      "cell_type": "code",
      "metadata": {
        "id": "hvhP0NT6vbQJ",
        "outputId": "d1291410-5c9b-4dda-976e-055d55718f07",
        "colab": {
          "base_uri": "https://localhost:8080/",
          "height": 581
        }
      },
      "source": [
        "nfm_assets.head()"
      ],
      "execution_count": 37,
      "outputs": [
        {
          "output_type": "execute_result",
          "data": {
            "text/html": [
              "<div>\n",
              "<style scoped>\n",
              "    .dataframe tbody tr th:only-of-type {\n",
              "        vertical-align: middle;\n",
              "    }\n",
              "\n",
              "    .dataframe tbody tr th {\n",
              "        vertical-align: top;\n",
              "    }\n",
              "\n",
              "    .dataframe thead th {\n",
              "        text-align: right;\n",
              "    }\n",
              "</style>\n",
              "<table border=\"1\" class=\"dataframe\">\n",
              "  <thead>\n",
              "    <tr style=\"text-align: right;\">\n",
              "      <th></th>\n",
              "      <th>ObjectID</th>\n",
              "      <th>GlobalID</th>\n",
              "      <th>Select project</th>\n",
              "      <th>FR1_ProjectName</th>\n",
              "      <th>Asset ID:</th>\n",
              "      <th>Asset Type</th>\n",
              "      <th>Asset Description</th>\n",
              "      <th>Date Installed</th>\n",
              "      <th>Installed Cost (£)</th>\n",
              "      <th>Watercourse Type</th>\n",
              "      <th>Stream Width (m)</th>\n",
              "      <th>Land Drainage Consent Difficulty</th>\n",
              "      <th>Ecological Consent Difficulty</th>\n",
              "      <th>Average member length in Leaky Barrier (m)</th>\n",
              "      <th>Wood Diameter (cm)</th>\n",
              "      <th>Height of Leaky Barrier above bed (cm)</th>\n",
              "      <th>Height of Leaky Barrier above bank (cm)</th>\n",
              "      <th>Wood Species Used</th>\n",
              "      <th>Other Wood Species</th>\n",
              "      <th>Bund height (m)</th>\n",
              "      <th>Bund width (m)</th>\n",
              "      <th>Bund length (m)</th>\n",
              "      <th>Bund Material</th>\n",
              "      <th>Gully Block Length (m)</th>\n",
              "      <th>Gully Block Width (m)</th>\n",
              "      <th>Gully Block Material</th>\n",
              "      <th>Soil Equipment or Technique Used</th>\n",
              "      <th>Flood Efficacy</th>\n",
              "      <th>FR3 Area Units</th>\n",
              "      <th>FR3_AreaRough</th>\n",
              "      <th>Storage Created (m3)</th>\n",
              "      <th>FR3_AreaIncreasedLoss</th>\n",
              "      <th>Changed Flood Pathway?</th>\n",
              "      <th>Reduced Erosion?</th>\n",
              "      <th>Asset Condition</th>\n",
              "      <th>Date Assessed</th>\n",
              "      <th>Comments</th>\n",
              "      <th>CreationDate</th>\n",
              "      <th>Creator</th>\n",
              "      <th>EditDate</th>\n",
              "      <th>Editor</th>\n",
              "      <th>x</th>\n",
              "      <th>y</th>\n",
              "    </tr>\n",
              "  </thead>\n",
              "  <tbody>\n",
              "    <tr>\n",
              "      <th>0</th>\n",
              "      <td>883</td>\n",
              "      <td>33059012-1c4d-43c7-adb7-496972f3c9b4</td>\n",
              "      <td>A017</td>\n",
              "      <td>Shipston</td>\n",
              "      <td>A017_2006151117</td>\n",
              "      <td>leaky_barriers</td>\n",
              "      <td>9</td>\n",
              "      <td>2020-06-02 11:00:00</td>\n",
              "      <td>1</td>\n",
              "      <td>ordinary</td>\n",
              "      <td>3.0</td>\n",
              "      <td>easy</td>\n",
              "      <td>n_a</td>\n",
              "      <td>5.0</td>\n",
              "      <td>20.0</td>\n",
              "      <td>30.0</td>\n",
              "      <td>0.0</td>\n",
              "      <td>willow_dead</td>\n",
              "      <td>NaN</td>\n",
              "      <td>NaN</td>\n",
              "      <td>NaN</td>\n",
              "      <td>NaN</td>\n",
              "      <td>NaN</td>\n",
              "      <td>NaN</td>\n",
              "      <td>NaN</td>\n",
              "      <td>NaN</td>\n",
              "      <td>NaN</td>\n",
              "      <td>moderate</td>\n",
              "      <td>ha</td>\n",
              "      <td>NaN</td>\n",
              "      <td>135.0</td>\n",
              "      <td>NaN</td>\n",
              "      <td>no</td>\n",
              "      <td>NaN</td>\n",
              "      <td>good</td>\n",
              "      <td>2020-06-15 11:00:00</td>\n",
              "      <td>NaN</td>\n",
              "      <td>2020-06-15 10:18:01</td>\n",
              "      <td>gsmithadmin</td>\n",
              "      <td>2020-08-03 11:44:52</td>\n",
              "      <td>NaN</td>\n",
              "      <td>-1.715078</td>\n",
              "      <td>52.069716</td>\n",
              "    </tr>\n",
              "    <tr>\n",
              "      <th>1</th>\n",
              "      <td>1066</td>\n",
              "      <td>02b90a36-d984-4b36-a299-4fbbe884f7b2</td>\n",
              "      <td>A017</td>\n",
              "      <td>Shipston</td>\n",
              "      <td>A017_2008051630</td>\n",
              "      <td>leaky_barriers</td>\n",
              "      <td>BLOCKPOTT*1</td>\n",
              "      <td>2020-08-05 11:00:00</td>\n",
              "      <td>260</td>\n",
              "      <td>ordinary</td>\n",
              "      <td>1.5</td>\n",
              "      <td>easy</td>\n",
              "      <td>n_a</td>\n",
              "      <td>3.0</td>\n",
              "      <td>NaN</td>\n",
              "      <td>15.0</td>\n",
              "      <td>NaN</td>\n",
              "      <td>NaN</td>\n",
              "      <td>NaN</td>\n",
              "      <td>NaN</td>\n",
              "      <td>NaN</td>\n",
              "      <td>NaN</td>\n",
              "      <td>NaN</td>\n",
              "      <td>NaN</td>\n",
              "      <td>NaN</td>\n",
              "      <td>NaN</td>\n",
              "      <td>NaN</td>\n",
              "      <td>moderate</td>\n",
              "      <td>ha</td>\n",
              "      <td>NaN</td>\n",
              "      <td>40.0</td>\n",
              "      <td>NaN</td>\n",
              "      <td>no</td>\n",
              "      <td>NaN</td>\n",
              "      <td>good</td>\n",
              "      <td>2020-06-29 23:00:00</td>\n",
              "      <td>Slatted</td>\n",
              "      <td>2020-08-05 16:44:24</td>\n",
              "      <td>NaN</td>\n",
              "      <td>2020-09-18 19:01:54</td>\n",
              "      <td>gsmithadmin</td>\n",
              "      <td>-1.732871</td>\n",
              "      <td>52.026232</td>\n",
              "    </tr>\n",
              "    <tr>\n",
              "      <th>2</th>\n",
              "      <td>1067</td>\n",
              "      <td>6f0e9956-8d95-4ebf-a540-9f0cabc735e9</td>\n",
              "      <td>A017</td>\n",
              "      <td>Shipston</td>\n",
              "      <td>A017_2008051627</td>\n",
              "      <td>leaky_barriers</td>\n",
              "      <td>BLOCKPOTT*2</td>\n",
              "      <td>2020-08-05 11:00:00</td>\n",
              "      <td>260</td>\n",
              "      <td>ordinary</td>\n",
              "      <td>1.5</td>\n",
              "      <td>easy</td>\n",
              "      <td>n_a</td>\n",
              "      <td>3.5</td>\n",
              "      <td>NaN</td>\n",
              "      <td>15.0</td>\n",
              "      <td>NaN</td>\n",
              "      <td>NaN</td>\n",
              "      <td>NaN</td>\n",
              "      <td>NaN</td>\n",
              "      <td>NaN</td>\n",
              "      <td>NaN</td>\n",
              "      <td>NaN</td>\n",
              "      <td>NaN</td>\n",
              "      <td>NaN</td>\n",
              "      <td>NaN</td>\n",
              "      <td>NaN</td>\n",
              "      <td>moderate</td>\n",
              "      <td>ha</td>\n",
              "      <td>NaN</td>\n",
              "      <td>30.0</td>\n",
              "      <td>NaN</td>\n",
              "      <td>no</td>\n",
              "      <td>NaN</td>\n",
              "      <td>good</td>\n",
              "      <td>2020-06-29 23:00:00</td>\n",
              "      <td>Slatted</td>\n",
              "      <td>2020-08-05 16:44:36</td>\n",
              "      <td>NaN</td>\n",
              "      <td>2020-09-18 19:02:03</td>\n",
              "      <td>gsmithadmin</td>\n",
              "      <td>-1.732574</td>\n",
              "      <td>52.026312</td>\n",
              "    </tr>\n",
              "    <tr>\n",
              "      <th>3</th>\n",
              "      <td>1068</td>\n",
              "      <td>a5d7435c-363e-41bf-ac2e-cea617acbfcd</td>\n",
              "      <td>A017</td>\n",
              "      <td>Shipston</td>\n",
              "      <td>A017_2008051625</td>\n",
              "      <td>leaky_barriers</td>\n",
              "      <td>BLOCKPOTT*3</td>\n",
              "      <td>2020-08-05 11:00:00</td>\n",
              "      <td>260</td>\n",
              "      <td>ordinary</td>\n",
              "      <td>1.5</td>\n",
              "      <td>easy</td>\n",
              "      <td>n_a</td>\n",
              "      <td>3.0</td>\n",
              "      <td>NaN</td>\n",
              "      <td>15.0</td>\n",
              "      <td>NaN</td>\n",
              "      <td>NaN</td>\n",
              "      <td>NaN</td>\n",
              "      <td>NaN</td>\n",
              "      <td>NaN</td>\n",
              "      <td>NaN</td>\n",
              "      <td>NaN</td>\n",
              "      <td>NaN</td>\n",
              "      <td>NaN</td>\n",
              "      <td>NaN</td>\n",
              "      <td>NaN</td>\n",
              "      <td>moderate</td>\n",
              "      <td>ha</td>\n",
              "      <td>NaN</td>\n",
              "      <td>25.0</td>\n",
              "      <td>NaN</td>\n",
              "      <td>no</td>\n",
              "      <td>NaN</td>\n",
              "      <td>good</td>\n",
              "      <td>2020-06-29 23:00:00</td>\n",
              "      <td>Slatted</td>\n",
              "      <td>2020-08-05 16:44:49</td>\n",
              "      <td>NaN</td>\n",
              "      <td>2020-09-18 19:02:11</td>\n",
              "      <td>gsmithadmin</td>\n",
              "      <td>-1.732450</td>\n",
              "      <td>52.026399</td>\n",
              "    </tr>\n",
              "    <tr>\n",
              "      <th>4</th>\n",
              "      <td>1069</td>\n",
              "      <td>01f0b340-5a4d-483d-91d0-7161b87d3ccb</td>\n",
              "      <td>A017</td>\n",
              "      <td>Shipston</td>\n",
              "      <td>A017_2008051622</td>\n",
              "      <td>leaky_barriers</td>\n",
              "      <td>BLOCKPOTT*4</td>\n",
              "      <td>2020-08-05 11:00:00</td>\n",
              "      <td>260</td>\n",
              "      <td>ordinary</td>\n",
              "      <td>2.0</td>\n",
              "      <td>easy</td>\n",
              "      <td>n_a</td>\n",
              "      <td>4.0</td>\n",
              "      <td>NaN</td>\n",
              "      <td>15.0</td>\n",
              "      <td>NaN</td>\n",
              "      <td>NaN</td>\n",
              "      <td>NaN</td>\n",
              "      <td>NaN</td>\n",
              "      <td>NaN</td>\n",
              "      <td>NaN</td>\n",
              "      <td>NaN</td>\n",
              "      <td>NaN</td>\n",
              "      <td>NaN</td>\n",
              "      <td>NaN</td>\n",
              "      <td>NaN</td>\n",
              "      <td>moderate</td>\n",
              "      <td>ha</td>\n",
              "      <td>NaN</td>\n",
              "      <td>30.0</td>\n",
              "      <td>NaN</td>\n",
              "      <td>no</td>\n",
              "      <td>NaN</td>\n",
              "      <td>good</td>\n",
              "      <td>2020-06-29 23:00:00</td>\n",
              "      <td>Slatted</td>\n",
              "      <td>2020-08-05 16:45:02</td>\n",
              "      <td>NaN</td>\n",
              "      <td>2020-09-18 19:02:50</td>\n",
              "      <td>gsmithadmin</td>\n",
              "      <td>-1.732442</td>\n",
              "      <td>52.026492</td>\n",
              "    </tr>\n",
              "  </tbody>\n",
              "</table>\n",
              "</div>"
            ],
            "text/plain": [
              "   ObjectID                              GlobalID  ...         x          y\n",
              "0       883  33059012-1c4d-43c7-adb7-496972f3c9b4  ... -1.715078  52.069716\n",
              "1      1066  02b90a36-d984-4b36-a299-4fbbe884f7b2  ... -1.732871  52.026232\n",
              "2      1067  6f0e9956-8d95-4ebf-a540-9f0cabc735e9  ... -1.732574  52.026312\n",
              "3      1068  a5d7435c-363e-41bf-ac2e-cea617acbfcd  ... -1.732450  52.026399\n",
              "4      1069  01f0b340-5a4d-483d-91d0-7161b87d3ccb  ... -1.732442  52.026492\n",
              "\n",
              "[5 rows x 43 columns]"
            ]
          },
          "metadata": {
            "tags": []
          },
          "execution_count": 37
        }
      ]
    },
    {
      "cell_type": "code",
      "metadata": {
        "id": "xxeO1pHs2FiT"
      },
      "source": [
        "nfm_assets = nfm_assets.rename(columns={\"x\":\"Longitude\", \"y\":\"Latitude\"})"
      ],
      "execution_count": 42,
      "outputs": []
    },
    {
      "cell_type": "code",
      "metadata": {
        "id": "J7vI7s9E1iO-",
        "outputId": "3265813d-8ce4-418e-9238-72a12c2164a1",
        "colab": {
          "base_uri": "https://localhost:8080/",
          "height": 71
        }
      },
      "source": [
        "geometry = [Point(xy) for xy in zip(nfm_assets['Longitude'], nfm_assets['Latitude'])]\n",
        "geo_df = gpd.GeoDataFrame(nfm_assets, crs={'init':'epsg:4326'}, geometry=geometry)"
      ],
      "execution_count": 50,
      "outputs": [
        {
          "output_type": "stream",
          "text": [
            "/usr/local/lib/python3.6/dist-packages/pyproj/crs/crs.py:53: FutureWarning: '+init=<authority>:<code>' syntax is deprecated. '<authority>:<code>' is the preferred initialization method. When making the change, be mindful of axis order changes: https://pyproj4.github.io/pyproj/stable/gotchas.html#axis-order-changes-in-proj-6\n",
            "  return _prepare_from_string(\" \".join(pjargs))\n"
          ],
          "name": "stderr"
        }
      ]
    },
    {
      "cell_type": "code",
      "metadata": {
        "id": "POjiFhLL2TJG",
        "outputId": "db255cc3-4168-4d8a-c3ca-566dee9f964f",
        "colab": {
          "base_uri": "https://localhost:8080/",
          "height": 581
        }
      },
      "source": [
        "geo_df.head()"
      ],
      "execution_count": 70,
      "outputs": [
        {
          "output_type": "execute_result",
          "data": {
            "text/html": [
              "<div>\n",
              "<style scoped>\n",
              "    .dataframe tbody tr th:only-of-type {\n",
              "        vertical-align: middle;\n",
              "    }\n",
              "\n",
              "    .dataframe tbody tr th {\n",
              "        vertical-align: top;\n",
              "    }\n",
              "\n",
              "    .dataframe thead th {\n",
              "        text-align: right;\n",
              "    }\n",
              "</style>\n",
              "<table border=\"1\" class=\"dataframe\">\n",
              "  <thead>\n",
              "    <tr style=\"text-align: right;\">\n",
              "      <th></th>\n",
              "      <th>ObjectID</th>\n",
              "      <th>GlobalID</th>\n",
              "      <th>Select project</th>\n",
              "      <th>FR1_ProjectName</th>\n",
              "      <th>Asset ID:</th>\n",
              "      <th>Asset Type</th>\n",
              "      <th>Asset Description</th>\n",
              "      <th>Date Installed</th>\n",
              "      <th>Installed Cost (£)</th>\n",
              "      <th>Watercourse Type</th>\n",
              "      <th>Stream Width (m)</th>\n",
              "      <th>Land Drainage Consent Difficulty</th>\n",
              "      <th>Ecological Consent Difficulty</th>\n",
              "      <th>Average member length in Leaky Barrier (m)</th>\n",
              "      <th>Wood Diameter (cm)</th>\n",
              "      <th>Height of Leaky Barrier above bed (cm)</th>\n",
              "      <th>Height of Leaky Barrier above bank (cm)</th>\n",
              "      <th>Wood Species Used</th>\n",
              "      <th>Other Wood Species</th>\n",
              "      <th>Bund height (m)</th>\n",
              "      <th>Bund width (m)</th>\n",
              "      <th>Bund length (m)</th>\n",
              "      <th>Bund Material</th>\n",
              "      <th>Gully Block Length (m)</th>\n",
              "      <th>Gully Block Width (m)</th>\n",
              "      <th>Gully Block Material</th>\n",
              "      <th>Soil Equipment or Technique Used</th>\n",
              "      <th>Flood Efficacy</th>\n",
              "      <th>FR3 Area Units</th>\n",
              "      <th>FR3_AreaRough</th>\n",
              "      <th>Storage Created (m3)</th>\n",
              "      <th>FR3_AreaIncreasedLoss</th>\n",
              "      <th>Changed Flood Pathway?</th>\n",
              "      <th>Reduced Erosion?</th>\n",
              "      <th>Asset Condition</th>\n",
              "      <th>Date Assessed</th>\n",
              "      <th>Comments</th>\n",
              "      <th>CreationDate</th>\n",
              "      <th>Creator</th>\n",
              "      <th>EditDate</th>\n",
              "      <th>Editor</th>\n",
              "      <th>Longitude</th>\n",
              "      <th>Latitude</th>\n",
              "      <th>geometry</th>\n",
              "    </tr>\n",
              "  </thead>\n",
              "  <tbody>\n",
              "    <tr>\n",
              "      <th>0</th>\n",
              "      <td>883</td>\n",
              "      <td>33059012-1c4d-43c7-adb7-496972f3c9b4</td>\n",
              "      <td>A017</td>\n",
              "      <td>Shipston</td>\n",
              "      <td>A017_2006151117</td>\n",
              "      <td>leaky_barriers</td>\n",
              "      <td>9</td>\n",
              "      <td>2020-06-02 11:00:00</td>\n",
              "      <td>1</td>\n",
              "      <td>ordinary</td>\n",
              "      <td>3.0</td>\n",
              "      <td>easy</td>\n",
              "      <td>n_a</td>\n",
              "      <td>5.0</td>\n",
              "      <td>20.0</td>\n",
              "      <td>30.0</td>\n",
              "      <td>0.0</td>\n",
              "      <td>willow_dead</td>\n",
              "      <td>NaN</td>\n",
              "      <td>NaN</td>\n",
              "      <td>NaN</td>\n",
              "      <td>NaN</td>\n",
              "      <td>NaN</td>\n",
              "      <td>NaN</td>\n",
              "      <td>NaN</td>\n",
              "      <td>NaN</td>\n",
              "      <td>NaN</td>\n",
              "      <td>moderate</td>\n",
              "      <td>ha</td>\n",
              "      <td>NaN</td>\n",
              "      <td>135.0</td>\n",
              "      <td>NaN</td>\n",
              "      <td>no</td>\n",
              "      <td>NaN</td>\n",
              "      <td>good</td>\n",
              "      <td>2020-06-15 11:00:00</td>\n",
              "      <td>NaN</td>\n",
              "      <td>2020-06-15 10:18:01</td>\n",
              "      <td>gsmithadmin</td>\n",
              "      <td>2020-08-03 11:44:52</td>\n",
              "      <td>NaN</td>\n",
              "      <td>-1.715078</td>\n",
              "      <td>52.069716</td>\n",
              "      <td>POINT (-190921.637 6812740.756)</td>\n",
              "    </tr>\n",
              "    <tr>\n",
              "      <th>1</th>\n",
              "      <td>1066</td>\n",
              "      <td>02b90a36-d984-4b36-a299-4fbbe884f7b2</td>\n",
              "      <td>A017</td>\n",
              "      <td>Shipston</td>\n",
              "      <td>A017_2008051630</td>\n",
              "      <td>leaky_barriers</td>\n",
              "      <td>BLOCKPOTT*1</td>\n",
              "      <td>2020-08-05 11:00:00</td>\n",
              "      <td>260</td>\n",
              "      <td>ordinary</td>\n",
              "      <td>1.5</td>\n",
              "      <td>easy</td>\n",
              "      <td>n_a</td>\n",
              "      <td>3.0</td>\n",
              "      <td>NaN</td>\n",
              "      <td>15.0</td>\n",
              "      <td>NaN</td>\n",
              "      <td>NaN</td>\n",
              "      <td>NaN</td>\n",
              "      <td>NaN</td>\n",
              "      <td>NaN</td>\n",
              "      <td>NaN</td>\n",
              "      <td>NaN</td>\n",
              "      <td>NaN</td>\n",
              "      <td>NaN</td>\n",
              "      <td>NaN</td>\n",
              "      <td>NaN</td>\n",
              "      <td>moderate</td>\n",
              "      <td>ha</td>\n",
              "      <td>NaN</td>\n",
              "      <td>40.0</td>\n",
              "      <td>NaN</td>\n",
              "      <td>no</td>\n",
              "      <td>NaN</td>\n",
              "      <td>good</td>\n",
              "      <td>2020-06-29 23:00:00</td>\n",
              "      <td>Slatted</td>\n",
              "      <td>2020-08-05 16:44:24</td>\n",
              "      <td>NaN</td>\n",
              "      <td>2020-09-18 19:01:54</td>\n",
              "      <td>gsmithadmin</td>\n",
              "      <td>-1.732871</td>\n",
              "      <td>52.026232</td>\n",
              "      <td>POINT (-192902.265 6804870.015)</td>\n",
              "    </tr>\n",
              "    <tr>\n",
              "      <th>2</th>\n",
              "      <td>1067</td>\n",
              "      <td>6f0e9956-8d95-4ebf-a540-9f0cabc735e9</td>\n",
              "      <td>A017</td>\n",
              "      <td>Shipston</td>\n",
              "      <td>A017_2008051627</td>\n",
              "      <td>leaky_barriers</td>\n",
              "      <td>BLOCKPOTT*2</td>\n",
              "      <td>2020-08-05 11:00:00</td>\n",
              "      <td>260</td>\n",
              "      <td>ordinary</td>\n",
              "      <td>1.5</td>\n",
              "      <td>easy</td>\n",
              "      <td>n_a</td>\n",
              "      <td>3.5</td>\n",
              "      <td>NaN</td>\n",
              "      <td>15.0</td>\n",
              "      <td>NaN</td>\n",
              "      <td>NaN</td>\n",
              "      <td>NaN</td>\n",
              "      <td>NaN</td>\n",
              "      <td>NaN</td>\n",
              "      <td>NaN</td>\n",
              "      <td>NaN</td>\n",
              "      <td>NaN</td>\n",
              "      <td>NaN</td>\n",
              "      <td>NaN</td>\n",
              "      <td>NaN</td>\n",
              "      <td>moderate</td>\n",
              "      <td>ha</td>\n",
              "      <td>NaN</td>\n",
              "      <td>30.0</td>\n",
              "      <td>NaN</td>\n",
              "      <td>no</td>\n",
              "      <td>NaN</td>\n",
              "      <td>good</td>\n",
              "      <td>2020-06-29 23:00:00</td>\n",
              "      <td>Slatted</td>\n",
              "      <td>2020-08-05 16:44:36</td>\n",
              "      <td>NaN</td>\n",
              "      <td>2020-09-18 19:02:03</td>\n",
              "      <td>gsmithadmin</td>\n",
              "      <td>-1.732574</td>\n",
              "      <td>52.026312</td>\n",
              "      <td>POINT (-192869.231 6804884.449)</td>\n",
              "    </tr>\n",
              "    <tr>\n",
              "      <th>3</th>\n",
              "      <td>1068</td>\n",
              "      <td>a5d7435c-363e-41bf-ac2e-cea617acbfcd</td>\n",
              "      <td>A017</td>\n",
              "      <td>Shipston</td>\n",
              "      <td>A017_2008051625</td>\n",
              "      <td>leaky_barriers</td>\n",
              "      <td>BLOCKPOTT*3</td>\n",
              "      <td>2020-08-05 11:00:00</td>\n",
              "      <td>260</td>\n",
              "      <td>ordinary</td>\n",
              "      <td>1.5</td>\n",
              "      <td>easy</td>\n",
              "      <td>n_a</td>\n",
              "      <td>3.0</td>\n",
              "      <td>NaN</td>\n",
              "      <td>15.0</td>\n",
              "      <td>NaN</td>\n",
              "      <td>NaN</td>\n",
              "      <td>NaN</td>\n",
              "      <td>NaN</td>\n",
              "      <td>NaN</td>\n",
              "      <td>NaN</td>\n",
              "      <td>NaN</td>\n",
              "      <td>NaN</td>\n",
              "      <td>NaN</td>\n",
              "      <td>NaN</td>\n",
              "      <td>NaN</td>\n",
              "      <td>moderate</td>\n",
              "      <td>ha</td>\n",
              "      <td>NaN</td>\n",
              "      <td>25.0</td>\n",
              "      <td>NaN</td>\n",
              "      <td>no</td>\n",
              "      <td>NaN</td>\n",
              "      <td>good</td>\n",
              "      <td>2020-06-29 23:00:00</td>\n",
              "      <td>Slatted</td>\n",
              "      <td>2020-08-05 16:44:49</td>\n",
              "      <td>NaN</td>\n",
              "      <td>2020-09-18 19:02:11</td>\n",
              "      <td>gsmithadmin</td>\n",
              "      <td>-1.732450</td>\n",
              "      <td>52.026399</td>\n",
              "      <td>POINT (-192855.502 6804900.056)</td>\n",
              "    </tr>\n",
              "    <tr>\n",
              "      <th>4</th>\n",
              "      <td>1069</td>\n",
              "      <td>01f0b340-5a4d-483d-91d0-7161b87d3ccb</td>\n",
              "      <td>A017</td>\n",
              "      <td>Shipston</td>\n",
              "      <td>A017_2008051622</td>\n",
              "      <td>leaky_barriers</td>\n",
              "      <td>BLOCKPOTT*4</td>\n",
              "      <td>2020-08-05 11:00:00</td>\n",
              "      <td>260</td>\n",
              "      <td>ordinary</td>\n",
              "      <td>2.0</td>\n",
              "      <td>easy</td>\n",
              "      <td>n_a</td>\n",
              "      <td>4.0</td>\n",
              "      <td>NaN</td>\n",
              "      <td>15.0</td>\n",
              "      <td>NaN</td>\n",
              "      <td>NaN</td>\n",
              "      <td>NaN</td>\n",
              "      <td>NaN</td>\n",
              "      <td>NaN</td>\n",
              "      <td>NaN</td>\n",
              "      <td>NaN</td>\n",
              "      <td>NaN</td>\n",
              "      <td>NaN</td>\n",
              "      <td>NaN</td>\n",
              "      <td>NaN</td>\n",
              "      <td>moderate</td>\n",
              "      <td>ha</td>\n",
              "      <td>NaN</td>\n",
              "      <td>30.0</td>\n",
              "      <td>NaN</td>\n",
              "      <td>no</td>\n",
              "      <td>NaN</td>\n",
              "      <td>good</td>\n",
              "      <td>2020-06-29 23:00:00</td>\n",
              "      <td>Slatted</td>\n",
              "      <td>2020-08-05 16:45:02</td>\n",
              "      <td>NaN</td>\n",
              "      <td>2020-09-18 19:02:50</td>\n",
              "      <td>gsmithadmin</td>\n",
              "      <td>-1.732442</td>\n",
              "      <td>52.026492</td>\n",
              "      <td>POINT (-192854.575 6804917.054)</td>\n",
              "    </tr>\n",
              "  </tbody>\n",
              "</table>\n",
              "</div>"
            ],
            "text/plain": [
              "   ObjectID  ...                         geometry\n",
              "0       883  ...  POINT (-190921.637 6812740.756)\n",
              "1      1066  ...  POINT (-192902.265 6804870.015)\n",
              "2      1067  ...  POINT (-192869.231 6804884.449)\n",
              "3      1068  ...  POINT (-192855.502 6804900.056)\n",
              "4      1069  ...  POINT (-192854.575 6804917.054)\n",
              "\n",
              "[5 rows x 44 columns]"
            ]
          },
          "metadata": {
            "tags": []
          },
          "execution_count": 70
        }
      ]
    },
    {
      "cell_type": "code",
      "metadata": {
        "id": "OClG_3Dl7Pwy",
        "outputId": "011c9bb8-48d5-4247-ef9e-7e7e55e4bdc3",
        "colab": {
          "base_uri": "https://localhost:8080/",
          "height": 765
        }
      },
      "source": [
        "for col in geo_df:\n",
        "  print(f'Name: {col}, Missing Values: {geo_df[col].isna().sum()}')"
      ],
      "execution_count": 69,
      "outputs": [
        {
          "output_type": "stream",
          "text": [
            "Name: ObjectID, Missing Values: 0\n",
            "Name: GlobalID, Missing Values: 0\n",
            "Name: Select project, Missing Values: 0\n",
            "Name: FR1_ProjectName, Missing Values: 0\n",
            "Name: Asset ID:, Missing Values: 0\n",
            "Name: Asset Type, Missing Values: 0\n",
            "Name: Asset Description, Missing Values: 0\n",
            "Name: Date Installed, Missing Values: 0\n",
            "Name: Installed Cost (£), Missing Values: 0\n",
            "Name: Watercourse Type, Missing Values: 5\n",
            "Name: Stream Width (m), Missing Values: 42\n",
            "Name: Land Drainage Consent Difficulty, Missing Values: 10\n",
            "Name: Ecological Consent Difficulty, Missing Values: 13\n",
            "Name: Average member length in Leaky Barrier (m), Missing Values: 41\n",
            "Name: Wood Diameter (cm), Missing Values: 66\n",
            "Name: Height of Leaky Barrier above bed (cm), Missing Values: 44\n",
            "Name: Height of Leaky Barrier above bank (cm), Missing Values: 115\n",
            "Name: Wood Species Used, Missing Values: 170\n",
            "Name: Other Wood Species, Missing Values: 190\n",
            "Name: Bund height (m), Missing Values: 194\n",
            "Name: Bund width (m), Missing Values: 194\n",
            "Name: Bund length (m), Missing Values: 194\n",
            "Name: Bund Material, Missing Values: 189\n",
            "Name: Gully Block Length (m), Missing Values: 198\n",
            "Name: Gully Block Width (m), Missing Values: 198\n",
            "Name: Gully Block Material, Missing Values: 198\n",
            "Name: Soil Equipment or Technique Used, Missing Values: 198\n",
            "Name: Flood Efficacy, Missing Values: 37\n",
            "Name: FR3 Area Units, Missing Values: 0\n",
            "Name: FR3_AreaRough, Missing Values: 190\n",
            "Name: Storage Created (m3), Missing Values: 3\n",
            "Name: FR3_AreaIncreasedLoss, Missing Values: 195\n",
            "Name: Changed Flood Pathway?, Missing Values: 66\n",
            "Name: Reduced Erosion?, Missing Values: 155\n",
            "Name: Asset Condition, Missing Values: 13\n",
            "Name: Date Assessed, Missing Values: 11\n",
            "Name: Comments, Missing Values: 84\n",
            "Name: CreationDate, Missing Values: 0\n",
            "Name: Creator, Missing Values: 172\n",
            "Name: EditDate, Missing Values: 0\n",
            "Name: Editor, Missing Values: 12\n",
            "Name: Longitude, Missing Values: 0\n",
            "Name: Latitude, Missing Values: 0\n",
            "Name: geometry, Missing Values: 0\n"
          ],
          "name": "stdout"
        }
      ]
    },
    {
      "cell_type": "code",
      "metadata": {
        "id": "SKGLoN334uei",
        "outputId": "84fea102-bcaa-4e5c-bf8e-560fb4b21f8b",
        "colab": {
          "base_uri": "https://localhost:8080/",
          "height": 729
        }
      },
      "source": [
        "_assets = list(geo_df['Asset Type'].unique())\n",
        "fg = sns.FacetGrid(data=geo_df, hue='Asset Type', hue_order=_assets, height=10, aspect=1.6)\n",
        "fg.map(plt.scatter, 'Longitude', 'Latitude').add_legend()\n",
        "plt.grid(True)"
      ],
      "execution_count": 66,
      "outputs": [
        {
          "output_type": "display_data",
          "data": {
            "image/png": "[encoded data removed]",
            "text/plain": [
              "<Figure size 1344.38x720 with 1 Axes>"
            ]
          },
          "metadata": {
            "tags": [],
            "needs_background": "light"
          }
        }
      ]
    },
    {
      "cell_type": "code",
      "metadata": {
        "id": "xpPMOYgd8DBD",
        "outputId": "5b7d15f3-f39c-4c9c-f35a-de518546c525",
        "colab": {
          "base_uri": "https://localhost:8080/",
          "height": 729
        }
      },
      "source": [
        "geo_storage = geo_df.dropna(subset=['Storage Created (m3)'])\n",
        "_assets = sorted(list(geo_storage['Storage Created (m3)'].unique()))\n",
        "fg = sns.FacetGrid(data=geo_storage, hue='Storage Created (m3)', hue_order=_assets, height=10, aspect=1.6)\n",
        "fg.map(plt.scatter, 'Longitude', 'Latitude').add_legend()\n",
        "plt.grid(True)"
      ],
      "execution_count": 78,
      "outputs": [
        {
          "output_type": "display_data",
          "data": {
            "image/png": "[encoded data removed]",
            "text/plain": [
              "<Figure size 1268.12x720 with 1 Axes>"
            ]
          },
          "metadata": {
            "tags": [],
            "needs_background": "light"
          }
        }
      ]
    },
    {
      "cell_type": "code",
      "metadata": {
        "id": "pd11dUuy2sOE"
      },
      "source": [
        "geo_df = geo_df.to_crs(epsg=3857)"
      ],
      "execution_count": 52,
      "outputs": []
    },
    {
      "cell_type": "code",
      "metadata": {
        "id": "o3Tyo0Ls3MtT",
        "outputId": "d0a76b38-31f0-45fe-e4ed-1b1126c56940",
        "colab": {
          "base_uri": "https://localhost:8080/",
          "height": 549
        }
      },
      "source": [
        "ax = plt.scatter(geo_df['Longitude'], geo_df['Latitude'])\n",
        "ctx.add_basemap(ax)"
      ],
      "execution_count": 55,
      "outputs": [
        {
          "output_type": "error",
          "ename": "AttributeError",
          "evalue": "ignored",
          "traceback": [
            "\u001b[0;31m---------------------------------------------------------------------------\u001b[0m",
            "\u001b[0;31mAttributeError\u001b[0m                            Traceback (most recent call last)",
            "\u001b[0;32m<ipython-input-55-bea4c566a309>\u001b[0m in \u001b[0;36m<module>\u001b[0;34m()\u001b[0m\n\u001b[1;32m      1\u001b[0m \u001b[0max\u001b[0m \u001b[0;34m=\u001b[0m \u001b[0mplt\u001b[0m\u001b[0;34m.\u001b[0m\u001b[0mscatter\u001b[0m\u001b[0;34m(\u001b[0m\u001b[0mgeo_df\u001b[0m\u001b[0;34m[\u001b[0m\u001b[0;34m'Longitude'\u001b[0m\u001b[0;34m]\u001b[0m\u001b[0;34m,\u001b[0m \u001b[0mgeo_df\u001b[0m\u001b[0;34m[\u001b[0m\u001b[0;34m'Latitude'\u001b[0m\u001b[0;34m]\u001b[0m\u001b[0;34m)\u001b[0m\u001b[0;34m\u001b[0m\u001b[0;34m\u001b[0m\u001b[0m\n\u001b[0;32m----> 2\u001b[0;31m \u001b[0mctx\u001b[0m\u001b[0;34m.\u001b[0m\u001b[0madd_basemap\u001b[0m\u001b[0;34m(\u001b[0m\u001b[0max\u001b[0m\u001b[0;34m)\u001b[0m\u001b[0;34m\u001b[0m\u001b[0;34m\u001b[0m\u001b[0m\n\u001b[0m",
            "\u001b[0;32m/usr/local/lib/python3.6/dist-packages/contextily/plotting.py\u001b[0m in \u001b[0;36madd_basemap\u001b[0;34m(ax, zoom, source, interpolation, attribution, attribution_size, reset_extent, crs, resampling, url, **extra_imshow_args)\u001b[0m\n\u001b[1;32m    111\u001b[0m \u001b[0;34m\u001b[0m\u001b[0m\n\u001b[1;32m    112\u001b[0m     \"\"\"\n\u001b[0;32m--> 113\u001b[0;31m     \u001b[0mxmin\u001b[0m\u001b[0;34m,\u001b[0m \u001b[0mxmax\u001b[0m\u001b[0;34m,\u001b[0m \u001b[0mymin\u001b[0m\u001b[0;34m,\u001b[0m \u001b[0mymax\u001b[0m \u001b[0;34m=\u001b[0m \u001b[0max\u001b[0m\u001b[0;34m.\u001b[0m\u001b[0maxis\u001b[0m\u001b[0;34m(\u001b[0m\u001b[0;34m)\u001b[0m\u001b[0;34m\u001b[0m\u001b[0;34m\u001b[0m\u001b[0m\n\u001b[0m\u001b[1;32m    114\u001b[0m     \u001b[0;32mif\u001b[0m \u001b[0murl\u001b[0m \u001b[0;32mis\u001b[0m \u001b[0;32mnot\u001b[0m \u001b[0;32mNone\u001b[0m \u001b[0;32mand\u001b[0m \u001b[0msource\u001b[0m \u001b[0;32mis\u001b[0m \u001b[0;32mNone\u001b[0m\u001b[0;34m:\u001b[0m\u001b[0;34m\u001b[0m\u001b[0;34m\u001b[0m\u001b[0m\n\u001b[1;32m    115\u001b[0m         warnings.warn(\n",
            "\u001b[0;31mAttributeError\u001b[0m: 'PathCollection' object has no attribute 'axis'"
          ]
        },
        {
          "output_type": "display_data",
          "data": {
            "image/png": "[encoded data removed]",
            "text/plain": [
              "<Figure size 432x288 with 1 Axes>"
            ]
          },
          "metadata": {
            "tags": [],
            "needs_background": "light"
          }
        }
      ]
    }
  ]
}