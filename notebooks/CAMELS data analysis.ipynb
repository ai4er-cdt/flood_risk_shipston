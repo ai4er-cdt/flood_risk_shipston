{
 "cells": [
  {
   "cell_type": "code",
   "execution_count": 1,
   "metadata": {},
   "outputs": [],
   "source": [
    "import matplotlib.pyplot as plt\n",
    "import numpy as np\n",
    "import pandas as pd"
   ]
  },
  {
   "cell_type": "code",
   "execution_count": 6,
   "metadata": {},
   "outputs": [],
   "source": [
    "df_1001_data = pd.read_csv('CAMELS_data/data/timeseries/CAMELS_GB_hydromet_timeseries_1001_19701001-20150930.csv')\n"
   ]
  },
  {
   "cell_type": "code",
   "execution_count": 9,
   "metadata": {},
   "outputs": [],
   "source": [
    "#change to datetime index\n",
    "df_1001_data.date = pd.to_datetime(df_1001_data.date, dayfirst=True)\n",
    "df_1001_data.index = pd.to_datetime(df_1001_data.date, dayfirst=True, format=\"%Y/%m/%d\")"
   ]
  },
  {
   "cell_type": "code",
   "execution_count": 11,
   "metadata": {},
   "outputs": [
    {
     "data": {
      "text/html": [
       "<div>\n",
       "<style scoped>\n",
       "    .dataframe tbody tr th:only-of-type {\n",
       "        vertical-align: middle;\n",
       "    }\n",
       "\n",
       "    .dataframe tbody tr th {\n",
       "        vertical-align: top;\n",
       "    }\n",
       "\n",
       "    .dataframe thead th {\n",
       "        text-align: right;\n",
       "    }\n",
       "</style>\n",
       "<table border=\"1\" class=\"dataframe\">\n",
       "  <thead>\n",
       "    <tr style=\"text-align: right;\">\n",
       "      <th></th>\n",
       "      <th>date</th>\n",
       "      <th>precipitation</th>\n",
       "      <th>pet</th>\n",
       "      <th>temperature</th>\n",
       "      <th>discharge_spec</th>\n",
       "      <th>discharge_vol</th>\n",
       "      <th>peti</th>\n",
       "      <th>humidity</th>\n",
       "      <th>shortwave_rad</th>\n",
       "      <th>longwave_rad</th>\n",
       "      <th>windspeed</th>\n",
       "    </tr>\n",
       "    <tr>\n",
       "      <th>date</th>\n",
       "      <th></th>\n",
       "      <th></th>\n",
       "      <th></th>\n",
       "      <th></th>\n",
       "      <th></th>\n",
       "      <th></th>\n",
       "      <th></th>\n",
       "      <th></th>\n",
       "      <th></th>\n",
       "      <th></th>\n",
       "      <th></th>\n",
       "    </tr>\n",
       "  </thead>\n",
       "  <tbody>\n",
       "    <tr>\n",
       "      <th>1970-10-01</th>\n",
       "      <td>1970-10-01</td>\n",
       "      <td>9.18</td>\n",
       "      <td>1.00</td>\n",
       "      <td>9.15</td>\n",
       "      <td>NaN</td>\n",
       "      <td>NaN</td>\n",
       "      <td>1.27</td>\n",
       "      <td>6.11</td>\n",
       "      <td>63.83</td>\n",
       "      <td>325.31</td>\n",
       "      <td>7.30</td>\n",
       "    </tr>\n",
       "    <tr>\n",
       "      <th>1970-10-02</th>\n",
       "      <td>1970-10-02</td>\n",
       "      <td>3.63</td>\n",
       "      <td>1.41</td>\n",
       "      <td>8.08</td>\n",
       "      <td>NaN</td>\n",
       "      <td>NaN</td>\n",
       "      <td>1.76</td>\n",
       "      <td>5.28</td>\n",
       "      <td>96.18</td>\n",
       "      <td>294.81</td>\n",
       "      <td>10.06</td>\n",
       "    </tr>\n",
       "    <tr>\n",
       "      <th>1970-10-03</th>\n",
       "      <td>1970-10-03</td>\n",
       "      <td>8.64</td>\n",
       "      <td>1.14</td>\n",
       "      <td>9.08</td>\n",
       "      <td>NaN</td>\n",
       "      <td>NaN</td>\n",
       "      <td>1.37</td>\n",
       "      <td>5.57</td>\n",
       "      <td>63.18</td>\n",
       "      <td>322.15</td>\n",
       "      <td>5.38</td>\n",
       "    </tr>\n",
       "    <tr>\n",
       "      <th>1970-10-04</th>\n",
       "      <td>1970-10-04</td>\n",
       "      <td>3.60</td>\n",
       "      <td>0.19</td>\n",
       "      <td>10.14</td>\n",
       "      <td>NaN</td>\n",
       "      <td>NaN</td>\n",
       "      <td>0.30</td>\n",
       "      <td>7.74</td>\n",
       "      <td>43.08</td>\n",
       "      <td>343.07</td>\n",
       "      <td>6.92</td>\n",
       "    </tr>\n",
       "    <tr>\n",
       "      <th>1970-10-05</th>\n",
       "      <td>1970-10-05</td>\n",
       "      <td>0.38</td>\n",
       "      <td>1.56</td>\n",
       "      <td>9.98</td>\n",
       "      <td>NaN</td>\n",
       "      <td>NaN</td>\n",
       "      <td>1.85</td>\n",
       "      <td>5.68</td>\n",
       "      <td>93.72</td>\n",
       "      <td>300.81</td>\n",
       "      <td>7.65</td>\n",
       "    </tr>\n",
       "  </tbody>\n",
       "</table>\n",
       "</div>"
      ],
      "text/plain": [
       "                 date  precipitation   pet  temperature  discharge_spec  \\\n",
       "date                                                                      \n",
       "1970-10-01 1970-10-01           9.18  1.00         9.15             NaN   \n",
       "1970-10-02 1970-10-02           3.63  1.41         8.08             NaN   \n",
       "1970-10-03 1970-10-03           8.64  1.14         9.08             NaN   \n",
       "1970-10-04 1970-10-04           3.60  0.19        10.14             NaN   \n",
       "1970-10-05 1970-10-05           0.38  1.56         9.98             NaN   \n",
       "\n",
       "            discharge_vol  peti  humidity  shortwave_rad  longwave_rad  \\\n",
       "date                                                                     \n",
       "1970-10-01            NaN  1.27      6.11          63.83        325.31   \n",
       "1970-10-02            NaN  1.76      5.28          96.18        294.81   \n",
       "1970-10-03            NaN  1.37      5.57          63.18        322.15   \n",
       "1970-10-04            NaN  0.30      7.74          43.08        343.07   \n",
       "1970-10-05            NaN  1.85      5.68          93.72        300.81   \n",
       "\n",
       "            windspeed  \n",
       "date                   \n",
       "1970-10-01       7.30  \n",
       "1970-10-02      10.06  \n",
       "1970-10-03       5.38  \n",
       "1970-10-04       6.92  \n",
       "1970-10-05       7.65  "
      ]
     },
     "execution_count": 11,
     "metadata": {},
     "output_type": "execute_result"
    }
   ],
   "source": [
    "df_1001_data.head()"
   ]
  },
  {
   "cell_type": "code",
   "execution_count": 12,
   "metadata": {},
   "outputs": [],
   "source": [
    "df_1001_precipitation = df_1001_data[['precipitation']]\n",
    "df_1001_flow = df_1001_data[['discharge_vol']]"
   ]
  },
  {
   "cell_type": "code",
   "execution_count": 13,
   "metadata": {},
   "outputs": [],
   "source": [
    "df_precipitation_flow = pd.merge(df_1001_precipitation,df_1001_flow, on=['date'])"
   ]
  },
  {
   "cell_type": "code",
   "execution_count": 14,
   "metadata": {},
   "outputs": [
    {
     "data": {
      "text/plain": [
       "<AxesSubplot:xlabel='precipitation', ylabel='discharge_vol'>"
      ]
     },
     "execution_count": 14,
     "metadata": {},
     "output_type": "execute_result"
    },
    {
     "data": {
      "image/png": "[encoded data removed]",
      "text/plain": [
       "<Figure size 432x288 with 1 Axes>"
      ]
     },
     "metadata": {
      "needs_background": "light"
     },
     "output_type": "display_data"
    }
   ],
   "source": [
    "df_precipitation_flow.plot.scatter(x='precipitation',y='discharge_vol')"
   ]
  },
  {
   "cell_type": "code",
   "execution_count": null,
   "metadata": {},
   "outputs": [],
   "source": []
  }
 ],
 "metadata": {
  "kernelspec": {
   "display_name": "Python 3",
   "language": "python",
   "name": "python3"
  },
  "language_info": {
   "codemirror_mode": {
    "name": "ipython",
    "version": 3
   },
   "file_extension": ".py",
   "mimetype": "text/x-python",
   "name": "python",
   "nbconvert_exporter": "python",
   "pygments_lexer": "ipython3",
   "version": "3.8.6"
  }
 },
 "nbformat": 4,
 "nbformat_minor": 4
}
