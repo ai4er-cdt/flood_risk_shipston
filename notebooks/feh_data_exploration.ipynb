{
 "cells": [
  {
   "cell_type": "markdown",
   "metadata": {
    "id": "zG9lvIudI-QX"
   },
   "source": [
    "## FEH data exploration\n"
   ]
  },
  {
   "cell_type": "code",
   "execution_count": 2,
   "metadata": {
    "colab": {
     "base_uri": "https://localhost:8080/",
     "height": 68
    },
    "id": "5EGuBs82KhZG",
    "outputId": "5e67447a-eeb9-4f75-ff15-14a5b5e5090b"
   },
   "outputs": [
    {
     "name": "stdout",
     "output_type": "stream",
     "text": [
      "Requirement already satisfied: beautifulsoup4 in c:\\users\\lukec\\appdata\\local\\programs\\python\\python38-32\\lib\\site-packages (4.9.3)\n",
      "Requirement already satisfied: lxml in c:\\users\\lukec\\appdata\\local\\programs\\python\\python38-32\\lib\\site-packages (4.5.2)\n",
      "Requirement already satisfied: soupsieve>1.2; python_version >= \"3.0\" in c:\\users\\lukec\\appdata\\local\\programs\\python\\python38-32\\lib\\site-packages (from beautifulsoup4) (2.0.1)\n",
      "Note: you may need to restart the kernel to use updated packages.\n"
     ]
    }
   ],
   "source": [
    "# If necessary import bs\n",
    "%pip install beautifulsoup4 lxml"
   ]
  },
  {
   "cell_type": "code",
   "execution_count": 3,
   "metadata": {
    "id": "1hY9Axr86p-e"
   },
   "outputs": [],
   "source": [
    "# Read FEH data\n",
    "from bs4 import BeautifulSoup\n",
    "\n",
    "with open('../data/FEH data/FEH_Catchment_Descriptors_426050_240500 (compatible with ReFHS2.3+).xml', 'r') as f: #for local\n",
    "    rawData = f.read() \n",
    "fehData = BeautifulSoup(rawData, \"xml\")\n",
    "\n",
    "# Google Colab\n",
    "# from google.colab import drive\n",
    "# drive.mount('/content/drive')\n",
    "# with open('/content/drive/My Drive/EA_hackathon/FEH data/FEH_Catchment_Descriptors_426050_240500 (compatible with ReFHS2.3+).xml', 'r') as f: #for colab"
   ]
  },
  {
   "cell_type": "code",
   "execution_count": 4,
   "metadata": {
    "colab": {
     "base_uri": "https://localhost:8080/",
     "height": 71
    },
    "id": "ycqO6lGOMkm6",
    "outputId": "b65c9178-a75d-4ec6-d846-98ff2a235c2c"
   },
   "outputs": [
    {
     "name": "stdout",
     "output_type": "stream",
     "text": [
      "['FEHCDROMExportedDescriptors', 'CatchmentDescriptors', 'CatchmentCentroid', 'area', 'altbar', 'aspbar', 'aspvar', 'bfihost', 'bfihost19', 'dplbar', 'dpsbar', 'farl', 'fpext', 'fpdbar', 'fploc', 'ldp', 'propwet', 'rmed_1h', 'rmed_1d', 'rmed_2d', 'saar', 'saar4170', 'sprhost', 'urbconc1990', 'urbext1990', 'urbloc1990', 'urbconc2000', 'urbext2000', 'urbloc2000', 'CatchmentAverageDDFValues', 'c', 'd1', 'd2', 'd3', 'e', 'f', 'PointDDFValues', 'c_1_km', 'd1_1_km', 'd2_1_km', 'd3_1_km', 'e_1_km', 'f_1_km', 'CatchmentAverageDDF2013Values', 'ReturnPeriods', 'Depths', 'Depths', 'Depths', 'Depths', 'Depths', 'Depths', 'Depths', 'Depths', 'Depths', 'Depths', 'Depths', 'Depths', 'Depths', 'Depths', 'Depths']\n",
      "<area>185.16</area>\n"
     ]
    }
   ],
   "source": [
    "# View all property names\n",
    "print([tag.name for tag in fehData.find_all()])\n",
    "\n",
    "# View value for specific property\n",
    "print(fehData.area)"
   ]
  },
  {
   "cell_type": "code",
   "execution_count": 5,
   "metadata": {
    "colab": {
     "base_uri": "https://localhost:8080/",
     "height": 34
    },
    "id": "vmvcHMs5OMtX",
    "outputId": "75fa8f07-45c1-486a-8a6e-8a37be009d90"
   },
   "outputs": [],
   "source": [
    "# Get values for Depth-Duration-Frequency of rainfall\n",
    "import numpy as np\n",
    "returnPeriods = np.asarray(fehData.find(\"ReturnPeriods\").contents[0].split(','))\n",
    "\n",
    "depths = []\n",
    "for value in fehData.find_all(\"Depths\"):\n",
    "    depths.append(value.attrs['duration'])\n",
    "depths = np.asarray(depths)\n",
    "\n",
    "DDF = []\n",
    "for value in fehData.find_all(\"Depths\"):\n",
    "    DDF.append(value.contents[0].split(','))\n",
    "DDF = np.asarray(DDF)"
   ]
  },
  {
   "cell_type": "markdown",
   "metadata": {},
   "source": [
    "Depth Duration Frequency explanation: https://opw.hydronet.com/data/files/Work%20Package1_2%20Final%20Report.pdf\n"
   ]
  },
  {
   "cell_type": "code",
   "execution_count": 6,
   "metadata": {
    "id": "UMMBXTq9PQai"
   },
   "outputs": [
    {
     "data": {
      "image/png": "[encoded data removed]",
      "text/plain": [
       "<Figure size 1080x432 with 2 Axes>"
      ]
     },
     "metadata": {
      "needs_background": "light"
     },
     "output_type": "display_data"
    }
   ],
   "source": [
    "# DDF plot\n",
    "import matplotlib.pyplot as plt\n",
    "fig = plt.figure(figsize=[15,6])\n",
    "ax = fig.add_subplot(xlabel=\"Return Periods (~hours?)\", ylabel=\"Depth (m?)\", title=\"Depth Duration Frequency of Rainfall\")\n",
    "cm = ax.contourf(returnPeriods,depths,DDF)\n",
    "ax.invert_yaxis()\n",
    "cbar = fig.colorbar(cm)\n",
    "cbar.set_label('DDF (relative frequency)')"
   ]
  },
  {
   "cell_type": "code",
   "execution_count": null,
   "metadata": {},
   "outputs": [],
   "source": []
  }
 ],
 "metadata": {
  "colab": {
   "collapsed_sections": [],
   "name": "dataFormatting.ipynb",
   "provenance": []
  },
  "kernelspec": {
   "display_name": "Python 3",
   "language": "python",
   "name": "python3"
  },
  "language_info": {
   "codemirror_mode": {
    "name": "ipython",
    "version": 3
   },
   "file_extension": ".py",
   "mimetype": "text/x-python",
   "name": "python",
   "nbconvert_exporter": "python",
   "pygments_lexer": "ipython3",
   "version": "3.8.5"
  }
 },
 "nbformat": 4,
 "nbformat_minor": 1
}
