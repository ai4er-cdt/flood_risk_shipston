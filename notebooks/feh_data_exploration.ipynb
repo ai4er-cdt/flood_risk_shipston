{
  "nbformat": 4,
  "nbformat_minor": 0,
  "metadata": {
    "colab": {
      "name": "dataFormatting.ipynb",
      "provenance": [],
      "collapsed_sections": []
    },
    "kernelspec": {
      "name": "Python 3.8.5 32-bit",
      "display_name": "Python 3.8.5 32-bit",
      "metadata": {
        "interpreter": {
          "hash": "6b1ae7c734c930fef6fe1dfb50c12e4a226ae6ee42f6aeddc07e3a77b791447f"
        }
      }
    }
  },
  "cells": [
    {
      "cell_type": "markdown",
      "metadata": {
        "id": "zG9lvIudI-QX"
      },
      "source": [
        "Formatting FEH XML data"
      ]
    },
    {
      "cell_type": "code",
      "metadata": {
        "id": "5EGuBs82KhZG",
        "outputId": "5e67447a-eeb9-4f75-ff15-14a5b5e5090b",
        "colab": {
          "base_uri": "https://localhost:8080/",
          "height": 68
        }
      },
      "source": [
        "# Mount drive and install beautiful soup for google colab\n",
        "#from google.colab import drive\n",
        "#drive.mount('/content/drive')\n",
        "%pip install beautifulsoup4 lxml"
      ],
      "execution_count": 1,
      "outputs": [
        {
          "output_type": "stream",
          "name": "stdout",
          "text": [
            "Collecting beautifulsoup4\n  Downloading beautifulsoup4-4.9.3-py3-none-any.whl (115 kB)\nCollecting lxml\n  Downloading lxml-4.5.2-cp38-cp38-win32.whl (3.2 MB)\nCollecting soupsieve>1.2; python_version >= \"3.0\"\n  Downloading soupsieve-2.0.1-py3-none-any.whl (32 kB)\nInstalling collected packages: soupsieve, beautifulsoup4, lxml\nSuccessfully installed beautifulsoup4-4.9.3 lxml-4.5.2 soupsieve-2.0.1\nNote: you may need to restart the kernel to use updated packages.\n"
          ]
        }
      ]
    },
    {
      "cell_type": "code",
      "metadata": {
        "id": "1hY9Axr86p-e"
      },
      "source": [
        "# Read FEH data\n",
        "from bs4 import BeautifulSoup\n",
        "#with open('/content/drive/My Drive/EA_hackathon/FEH data/FEH_Catchment_Descriptors_426050_240500 (compatible with ReFHS2.3+).xml', 'r') as f: \n",
        "with open('../data/FEH data/FEH_Catchment_Descriptors_426050_240500 (compatible with ReFHS2.3+).xml', 'r') as f: \n",
        "    rawData = f.read() \n",
        "fehData = BeautifulSoup(rawData, \"xml\")"
      ],
      "execution_count": 2,
      "outputs": []
    },
    {
      "cell_type": "code",
      "metadata": {
        "id": "ycqO6lGOMkm6",
        "outputId": "b65c9178-a75d-4ec6-d846-98ff2a235c2c",
        "colab": {
          "base_uri": "https://localhost:8080/",
          "height": 71
        }
      },
      "source": [
        "# View all property names\n",
        "print([tag.name for tag in fehData.find_all()])\n",
        "\n",
        "# View value for specific property\n",
        "print(fehData.area)"
      ],
      "execution_count": 3,
      "outputs": [
        {
          "output_type": "stream",
          "name": "stdout",
          "text": [
            "['FEHCDROMExportedDescriptors', 'CatchmentDescriptors', 'CatchmentCentroid', 'area', 'altbar', 'aspbar', 'aspvar', 'bfihost', 'bfihost19', 'dplbar', 'dpsbar', 'farl', 'fpext', 'fpdbar', 'fploc', 'ldp', 'propwet', 'rmed_1h', 'rmed_1d', 'rmed_2d', 'saar', 'saar4170', 'sprhost', 'urbconc1990', 'urbext1990', 'urbloc1990', 'urbconc2000', 'urbext2000', 'urbloc2000', 'CatchmentAverageDDFValues', 'c', 'd1', 'd2', 'd3', 'e', 'f', 'PointDDFValues', 'c_1_km', 'd1_1_km', 'd2_1_km', 'd3_1_km', 'e_1_km', 'f_1_km', 'CatchmentAverageDDF2013Values', 'ReturnPeriods', 'Depths', 'Depths', 'Depths', 'Depths', 'Depths', 'Depths', 'Depths', 'Depths', 'Depths', 'Depths', 'Depths', 'Depths', 'Depths', 'Depths', 'Depths']\n<area>185.16</area>\n"
          ]
        }
      ]
    },
    {
      "cell_type": "code",
      "metadata": {
        "id": "vmvcHMs5OMtX",
        "outputId": "75fa8f07-45c1-486a-8a6e-8a37be009d90",
        "colab": {
          "base_uri": "https://localhost:8080/",
          "height": 34
        }
      },
      "source": [
        "# Get values for Depth-Duration-Frequency of rainfall\n",
        "import numpy as np\n",
        "returnPeriods = np.asarray(fehData.find(\"ReturnPeriods\").contents[0].split(','))\n",
        "\n",
        "depths = []\n",
        "for value in fehData.find_all(\"Depths\"):\n",
        "    depths.append(value.attrs['duration'])\n",
        "depths = np.asarray(depths)\n",
        "\n",
        "DDF = []\n",
        "for value in fehData.find_all(\"Depths\"):\n",
        "    DDF.append(value.contents[0].split(','))\n",
        "DDF = np.asarray(DDF)"
      ],
      "execution_count": 55,
      "outputs": []
    },
    {
      "cell_type": "code",
      "metadata": {
        "id": "UMMBXTq9PQai"
      },
      "source": [
        "# DDF plot\n",
        "import matplotlib.pyplot as plt\n",
        "returnPeriods, depths = np.meshgrid(returnPeriods, depths)\n",
        "plt.figure(figsize=[10,6])\n",
        "print(returnPeriods)\n",
        "print(depths)\n",
        "print(DDF)\n",
        "plt.contourf(returnPeriods,depths,DDF)"
      ],
      "execution_count": 56,
      "outputs": [
        {
          "output_type": "stream",
          "name": "stdout",
          "text": [
            "[['1.3' ' 1.58' ' 2' ' 3' ' 6' ' 10' ' 18' ' 31' ' 56' ' 100' ' 180'\n  ' 310' ' 560' ' 1000' ' 1800' ' 3100' ' 5600' ' 10000' ' 18000'\n  ' 31000' ' 56000' ' 100000']\n ['1.3' ' 1.58' ' 2' ' 3' ' 6' ' 10' ' 18' ' 31' ' 56' ' 100' ' 180'\n  ' 310' ' 560' ' 1000' ' 1800' ' 3100' ' 5600' ' 10000' ' 18000'\n  ' 31000' ' 56000' ' 100000']\n ['1.3' ' 1.58' ' 2' ' 3' ' 6' ' 10' ' 18' ' 31' ' 56' ' 100' ' 180'\n  ' 310' ' 560' ' 1000' ' 1800' ' 3100' ' 5600' ' 10000' ' 18000'\n  ' 31000' ' 56000' ' 100000']\n ['1.3' ' 1.58' ' 2' ' 3' ' 6' ' 10' ' 18' ' 31' ' 56' ' 100' ' 180'\n  ' 310' ' 560' ' 1000' ' 1800' ' 3100' ' 5600' ' 10000' ' 18000'\n  ' 31000' ' 56000' ' 100000']\n ['1.3' ' 1.58' ' 2' ' 3' ' 6' ' 10' ' 18' ' 31' ' 56' ' 100' ' 180'\n  ' 310' ' 560' ' 1000' ' 1800' ' 3100' ' 5600' ' 10000' ' 18000'\n  ' 31000' ' 56000' ' 100000']\n ['1.3' ' 1.58' ' 2' ' 3' ' 6' ' 10' ' 18' ' 31' ' 56' ' 100' ' 180'\n  ' 310' ' 560' ' 1000' ' 1800' ' 3100' ' 5600' ' 10000' ' 18000'\n  ' 31000' ' 56000' ' 100000']\n ['1.3' ' 1.58' ' 2' ' 3' ' 6' ' 10' ' 18' ' 31' ' 56' ' 100' ' 180'\n  ' 310' ' 560' ' 1000' ' 1800' ' 3100' ' 5600' ' 10000' ' 18000'\n  ' 31000' ' 56000' ' 100000']\n ['1.3' ' 1.58' ' 2' ' 3' ' 6' ' 10' ' 18' ' 31' ' 56' ' 100' ' 180'\n  ' 310' ' 560' ' 1000' ' 1800' ' 3100' ' 5600' ' 10000' ' 18000'\n  ' 31000' ' 56000' ' 100000']\n ['1.3' ' 1.58' ' 2' ' 3' ' 6' ' 10' ' 18' ' 31' ' 56' ' 100' ' 180'\n  ' 310' ' 560' ' 1000' ' 1800' ' 3100' ' 5600' ' 10000' ' 18000'\n  ' 31000' ' 56000' ' 100000']\n ['1.3' ' 1.58' ' 2' ' 3' ' 6' ' 10' ' 18' ' 31' ' 56' ' 100' ' 180'\n  ' 310' ' 560' ' 1000' ' 1800' ' 3100' ' 5600' ' 10000' ' 18000'\n  ' 31000' ' 56000' ' 100000']\n ['1.3' ' 1.58' ' 2' ' 3' ' 6' ' 10' ' 18' ' 31' ' 56' ' 100' ' 180'\n  ' 310' ' 560' ' 1000' ' 1800' ' 3100' ' 5600' ' 10000' ' 18000'\n  ' 31000' ' 56000' ' 100000']\n ['1.3' ' 1.58' ' 2' ' 3' ' 6' ' 10' ' 18' ' 31' ' 56' ' 100' ' 180'\n  ' 310' ' 560' ' 1000' ' 1800' ' 3100' ' 5600' ' 10000' ' 18000'\n  ' 31000' ' 56000' ' 100000']\n ['1.3' ' 1.58' ' 2' ' 3' ' 6' ' 10' ' 18' ' 31' ' 56' ' 100' ' 180'\n  ' 310' ' 560' ' 1000' ' 1800' ' 3100' ' 5600' ' 10000' ' 18000'\n  ' 31000' ' 56000' ' 100000']\n ['1.3' ' 1.58' ' 2' ' 3' ' 6' ' 10' ' 18' ' 31' ' 56' ' 100' ' 180'\n  ' 310' ' 560' ' 1000' ' 1800' ' 3100' ' 5600' ' 10000' ' 18000'\n  ' 31000' ' 56000' ' 100000']\n ['1.3' ' 1.58' ' 2' ' 3' ' 6' ' 10' ' 18' ' 31' ' 56' ' 100' ' 180'\n  ' 310' ' 560' ' 1000' ' 1800' ' 3100' ' 5600' ' 10000' ' 18000'\n  ' 31000' ' 56000' ' 100000']]\n[['0.083' '0.083' '0.083' '0.083' '0.083' '0.083' '0.083' '0.083' '0.083'\n  '0.083' '0.083' '0.083' '0.083' '0.083' '0.083' '0.083' '0.083' '0.083'\n  '0.083' '0.083' '0.083' '0.083']\n ['0.25' '0.25' '0.25' '0.25' '0.25' '0.25' '0.25' '0.25' '0.25' '0.25'\n  '0.25' '0.25' '0.25' '0.25' '0.25' '0.25' '0.25' '0.25' '0.25' '0.25'\n  '0.25' '0.25']\n ['0.5' '0.5' '0.5' '0.5' '0.5' '0.5' '0.5' '0.5' '0.5' '0.5' '0.5' '0.5'\n  '0.5' '0.5' '0.5' '0.5' '0.5' '0.5' '0.5' '0.5' '0.5' '0.5']\n ['0.75' '0.75' '0.75' '0.75' '0.75' '0.75' '0.75' '0.75' '0.75' '0.75'\n  '0.75' '0.75' '0.75' '0.75' '0.75' '0.75' '0.75' '0.75' '0.75' '0.75'\n  '0.75' '0.75']\n ['1' '1' '1' '1' '1' '1' '1' '1' '1' '1' '1' '1' '1' '1' '1' '1' '1' '1'\n  '1' '1' '1' '1']\n ['2' '2' '2' '2' '2' '2' '2' '2' '2' '2' '2' '2' '2' '2' '2' '2' '2' '2'\n  '2' '2' '2' '2']\n ['4' '4' '4' '4' '4' '4' '4' '4' '4' '4' '4' '4' '4' '4' '4' '4' '4' '4'\n  '4' '4' '4' '4']\n ['6' '6' '6' '6' '6' '6' '6' '6' '6' '6' '6' '6' '6' '6' '6' '6' '6' '6'\n  '6' '6' '6' '6']\n ['12' '12' '12' '12' '12' '12' '12' '12' '12' '12' '12' '12' '12' '12'\n  '12' '12' '12' '12' '12' '12' '12' '12']\n ['18' '18' '18' '18' '18' '18' '18' '18' '18' '18' '18' '18' '18' '18'\n  '18' '18' '18' '18' '18' '18' '18' '18']\n ['24' '24' '24' '24' '24' '24' '24' '24' '24' '24' '24' '24' '24' '24'\n  '24' '24' '24' '24' '24' '24' '24' '24']\n ['48' '48' '48' '48' '48' '48' '48' '48' '48' '48' '48' '48' '48' '48'\n  '48' '48' '48' '48' '48' '48' '48' '48']\n ['96' '96' '96' '96' '96' '96' '96' '96' '96' '96' '96' '96' '96' '96'\n  '96' '96' '96' '96' '96' '96' '96' '96']\n ['192' '192' '192' '192' '192' '192' '192' '192' '192' '192' '192' '192'\n  '192' '192' '192' '192' '192' '192' '192' '192' '192' '192']\n ['240' '240' '240' '240' '240' '240' '240' '240' '240' '240' '240' '240'\n  '240' '240' '240' '240' '240' '240' '240' '240' '240' '240']]\n[['3' ' 3.8' ' 4.5' ' 5.7' ' 7.4' ' 8.7' ' 10.1' ' 11.4' ' 12.9' ' 14.5'\n  ' 16.2' ' 17.9' ' 19.9' ' 21.9' ' 24.2' ' 26.3' ' 28.6' ' 30.7' ' 32.9'\n  ' 34.8' ' 36.8' ' 38.8']\n ['5.1' ' 6.4' ' 7.6' ' 9.7' ' 12.8' ' 15.1' ' 17.7' ' 20.4' ' 23.2'\n  ' 26.3' ' 29.9' ' 33.4' ' 37.5' ' 41.9' ' 46.7' ' 51.3' ' 56.3' ' 61.3'\n  ' 66.4' ' 71' ' 75.9' ' 80.9']\n ['6.6' ' 8.3' ' 9.9' ' 12.4' ' 16.6' ' 19.6' ' 23.2' ' 26.7' ' 30.6'\n  ' 34.9' ' 39.7' ' 44.5' ' 50.3' ' 56.5' ' 63.1' ' 69.7' ' 76.8' ' 84'\n  ' 91.4' ' 98.1' ' 105.5' ' 112.8']\n ['7.6' ' 9.4' ' 11.3' ' 14.2' ' 18.9' ' 22.5' ' 26.5' ' 30.7' ' 35.2'\n  ' 40.3' ' 45.8' ' 51.5' ' 58.2' ' 65.5' ' 73.3' ' 81' ' 89.5' ' 98'\n  ' 106.7' ' 114.8' ' 123.6' ' 132.4']\n ['8.3' ' 10.3' ' 12.3' ' 15.5' ' 20.7' ' 24.5' ' 29' ' 33.5' ' 38.6'\n  ' 44.1' ' 50.2' ' 56.5' ' 64' ' 72' ' 80.7' ' 89.2' ' 98.6' ' 108'\n  ' 117.7' ' 126.7' ' 136.5' ' 146.3']\n ['12.3' ' 14.6' ' 16.9' ' 20.5' ' 26.3' ' 30.5' ' 35.6' ' 40.7' ' 46.7'\n  ' 53.1' ' 60.4' ' 67.8' ' 76.5' ' 85.6' ' 95.1' ' 104.1' ' 114.1'\n  ' 123.9' ' 133.8' ' 143.1' ' 153.3' ' 163.3']\n ['16.9' ' 19.6' ' 22.2' ' 26.3' ' 32.7' ' 37.6' ' 43.5' ' 49.4' ' 56.4'\n  ' 64.1' ' 72.7' ' 81.3' ' 91.1' ' 100.9' ' 111.1' ' 120.6' ' 131'\n  ' 141.3' ' 151.6' ' 161.2' ' 171.7' ' 182']\n ['19.9' ' 22.7' ' 25.6' ' 29.9' ' 36.9' ' 42.1' ' 48.5' ' 54.9' ' 62.7'\n  ' 71.1' ' 80.4' ' 89.5' ' 99.8' ' 110' ' 120.5' ' 130.3' ' 141'\n  ' 151.4' ' 162' ' 171.9' ' 182.6' ' 193']\n ['25.2' ' 28.3' ' 31.5' ' 36.4' ' 44.1' ' 50' ' 57.2' ' 64.5' ' 73.3'\n  ' 82.7' ' 92.8' ' 102.6' ' 113.5' ' 124.2' ' 135.2' ' 145.4' ' 156.4'\n  ' 167.3' ' 178.2' ' 188.4' ' 199.4' ' 210.1']\n ['28.3' ' 31.7' ' 35' ' 40.2' ' 48.4' ' 54.6' ' 62.1' ' 69.8' ' 78.9'\n  ' 88.6' ' 99.1' ' 109.1' ' 120.2' ' 131.2' ' 142.4' ' 152.7' ' 164'\n  ' 175' ' 186.1' ' 196.3' ' 207.5' ' 218.4']\n ['30.5' ' 34.1' ' 37.6' ' 42.9' ' 51.4' ' 57.8' ' 65.5' ' 73.3' ' 82.6'\n  ' 92.4' ' 103' ' 113.1' ' 124.3' ' 135.4' ' 146.7' ' 157.1' ' 168.5'\n  ' 179.5' ' 190.7' ' 201.1' ' 212.3' ' 223.3']\n ['36.6' ' 40.6' ' 44.5' ' 50.4' ' 59.6' ' 66.3' ' 74.3' ' 82.1' ' 91.1'\n  ' 100.6' ' 110.9' ' 120.9' ' 132.1' ' 143.2' ' 154.6' ' 165.2' ' 176.7'\n  ' 187.9' ' 199.3' ' 209.8' ' 221.2' ' 232.3']\n ['45.2' ' 49.8' ' 54.4' ' 61' ' 71.3' ' 78.5' ' 86.7' ' 94.5' ' 103.1'\n  ' 111.9' ' 121.1' ' 130' ' 140.2' ' 150.6' ' 161.3' ' 171.5' ' 182.7'\n  ' 193.8' ' 205.2' ' 215.7' ' 227.2' ' 238.4']\n ['60.3' ' 66.2' ' 72' ' 80.3' ' 92.9' ' 101.5' ' 111.1' ' 119.9'\n  ' 129.3' ' 138.6' ' 147.9' ' 156.6' ' 166.1' ' 175.5' ' 184.9' ' 194'\n  ' 203.9' ' 213.7' ' 223.7' ' 233.1' ' 243.3' ' 253.5']\n ['67.6' ' 74.2' ' 80.6' ' 89.8' ' 103.7' ' 113.2' ' 123.8' ' 133.3'\n  ' 143.6' ' 153.7' ' 163.8' ' 173.1' ' 183.3' ' 193.3' ' 203.3' ' 212.8'\n  ' 223.2' ' 233.3' ' 243.6' ' 253.2' ' 263.6' ' 273.8']]\n"
          ]
        },
        {
          "output_type": "error",
          "ename": "TypeError",
          "evalue": "unhashable type: 'numpy.ndarray'",
          "traceback": [
            "\u001b[1;31m---------------------------------------------------------------------------\u001b[0m",
            "\u001b[1;31mTypeError\u001b[0m                                 Traceback (most recent call last)",
            "\u001b[1;32m<ipython-input-56-720e2ed0fc54>\u001b[0m in \u001b[0;36m<module>\u001b[1;34m\u001b[0m\n\u001b[0;32m      6\u001b[0m \u001b[0mprint\u001b[0m\u001b[1;33m(\u001b[0m\u001b[0mdepths\u001b[0m\u001b[1;33m)\u001b[0m\u001b[1;33m\u001b[0m\u001b[1;33m\u001b[0m\u001b[0m\n\u001b[0;32m      7\u001b[0m \u001b[0mprint\u001b[0m\u001b[1;33m(\u001b[0m\u001b[0mDDF\u001b[0m\u001b[1;33m)\u001b[0m\u001b[1;33m\u001b[0m\u001b[1;33m\u001b[0m\u001b[0m\n\u001b[1;32m----> 8\u001b[1;33m \u001b[0mplt\u001b[0m\u001b[1;33m.\u001b[0m\u001b[0mcontourf\u001b[0m\u001b[1;33m(\u001b[0m\u001b[0mreturnPeriods\u001b[0m\u001b[1;33m.\u001b[0m\u001b[0mreshape\u001b[0m\u001b[1;33m(\u001b[0m\u001b[1;33m-\u001b[0m\u001b[1;36m1\u001b[0m\u001b[1;33m,\u001b[0m\u001b[1;36m1\u001b[0m\u001b[1;33m)\u001b[0m\u001b[1;33m,\u001b[0m\u001b[0mdepths\u001b[0m\u001b[1;33m.\u001b[0m\u001b[0mreshape\u001b[0m\u001b[1;33m(\u001b[0m\u001b[1;33m-\u001b[0m\u001b[1;36m1\u001b[0m\u001b[1;33m,\u001b[0m\u001b[1;36m1\u001b[0m\u001b[1;33m)\u001b[0m\u001b[1;33m,\u001b[0m\u001b[0mDDF\u001b[0m\u001b[1;33m.\u001b[0m\u001b[0mreshape\u001b[0m\u001b[1;33m(\u001b[0m\u001b[1;33m-\u001b[0m\u001b[1;36m1\u001b[0m\u001b[1;33m,\u001b[0m\u001b[1;36m1\u001b[0m\u001b[1;33m)\u001b[0m\u001b[1;33m)\u001b[0m\u001b[1;33m\u001b[0m\u001b[1;33m\u001b[0m\u001b[0m\n\u001b[0m",
            "\u001b[1;32m~\\AppData\\Local\\Programs\\Python\\Python38-32\\lib\\site-packages\\matplotlib\\pyplot.py\u001b[0m in \u001b[0;36mcontourf\u001b[1;34m(data, *args, **kwargs)\u001b[0m\n\u001b[0;32m   2575\u001b[0m \u001b[1;33m@\u001b[0m\u001b[0m_copy_docstring_and_deprecators\u001b[0m\u001b[1;33m(\u001b[0m\u001b[0mAxes\u001b[0m\u001b[1;33m.\u001b[0m\u001b[0mcontourf\u001b[0m\u001b[1;33m)\u001b[0m\u001b[1;33m\u001b[0m\u001b[1;33m\u001b[0m\u001b[0m\n\u001b[0;32m   2576\u001b[0m \u001b[1;32mdef\u001b[0m \u001b[0mcontourf\u001b[0m\u001b[1;33m(\u001b[0m\u001b[1;33m*\u001b[0m\u001b[0margs\u001b[0m\u001b[1;33m,\u001b[0m \u001b[0mdata\u001b[0m\u001b[1;33m=\u001b[0m\u001b[1;32mNone\u001b[0m\u001b[1;33m,\u001b[0m \u001b[1;33m**\u001b[0m\u001b[0mkwargs\u001b[0m\u001b[1;33m)\u001b[0m\u001b[1;33m:\u001b[0m\u001b[1;33m\u001b[0m\u001b[1;33m\u001b[0m\u001b[0m\n\u001b[1;32m-> 2577\u001b[1;33m     __ret = gca().contourf(\n\u001b[0m\u001b[0;32m   2578\u001b[0m         \u001b[1;33m*\u001b[0m\u001b[0margs\u001b[0m\u001b[1;33m,\u001b[0m \u001b[1;33m**\u001b[0m\u001b[1;33m(\u001b[0m\u001b[1;33m{\u001b[0m\u001b[1;34m\"data\"\u001b[0m\u001b[1;33m:\u001b[0m \u001b[0mdata\u001b[0m\u001b[1;33m}\u001b[0m \u001b[1;32mif\u001b[0m \u001b[0mdata\u001b[0m \u001b[1;32mis\u001b[0m \u001b[1;32mnot\u001b[0m \u001b[1;32mNone\u001b[0m \u001b[1;32melse\u001b[0m \u001b[1;33m{\u001b[0m\u001b[1;33m}\u001b[0m\u001b[1;33m)\u001b[0m\u001b[1;33m,\u001b[0m\u001b[1;33m\u001b[0m\u001b[1;33m\u001b[0m\u001b[0m\n\u001b[0;32m   2579\u001b[0m         **kwargs)\n",
            "\u001b[1;32m~\\AppData\\Local\\Programs\\Python\\Python38-32\\lib\\site-packages\\matplotlib\\__init__.py\u001b[0m in \u001b[0;36minner\u001b[1;34m(ax, data, *args, **kwargs)\u001b[0m\n\u001b[0;32m   1436\u001b[0m     \u001b[1;32mdef\u001b[0m \u001b[0minner\u001b[0m\u001b[1;33m(\u001b[0m\u001b[0max\u001b[0m\u001b[1;33m,\u001b[0m \u001b[1;33m*\u001b[0m\u001b[0margs\u001b[0m\u001b[1;33m,\u001b[0m \u001b[0mdata\u001b[0m\u001b[1;33m=\u001b[0m\u001b[1;32mNone\u001b[0m\u001b[1;33m,\u001b[0m \u001b[1;33m**\u001b[0m\u001b[0mkwargs\u001b[0m\u001b[1;33m)\u001b[0m\u001b[1;33m:\u001b[0m\u001b[1;33m\u001b[0m\u001b[1;33m\u001b[0m\u001b[0m\n\u001b[0;32m   1437\u001b[0m         \u001b[1;32mif\u001b[0m \u001b[0mdata\u001b[0m \u001b[1;32mis\u001b[0m \u001b[1;32mNone\u001b[0m\u001b[1;33m:\u001b[0m\u001b[1;33m\u001b[0m\u001b[1;33m\u001b[0m\u001b[0m\n\u001b[1;32m-> 1438\u001b[1;33m             \u001b[1;32mreturn\u001b[0m \u001b[0mfunc\u001b[0m\u001b[1;33m(\u001b[0m\u001b[0max\u001b[0m\u001b[1;33m,\u001b[0m \u001b[1;33m*\u001b[0m\u001b[0mmap\u001b[0m\u001b[1;33m(\u001b[0m\u001b[0msanitize_sequence\u001b[0m\u001b[1;33m,\u001b[0m \u001b[0margs\u001b[0m\u001b[1;33m)\u001b[0m\u001b[1;33m,\u001b[0m \u001b[1;33m**\u001b[0m\u001b[0mkwargs\u001b[0m\u001b[1;33m)\u001b[0m\u001b[1;33m\u001b[0m\u001b[1;33m\u001b[0m\u001b[0m\n\u001b[0m\u001b[0;32m   1439\u001b[0m \u001b[1;33m\u001b[0m\u001b[0m\n\u001b[0;32m   1440\u001b[0m         \u001b[0mbound\u001b[0m \u001b[1;33m=\u001b[0m \u001b[0mnew_sig\u001b[0m\u001b[1;33m.\u001b[0m\u001b[0mbind\u001b[0m\u001b[1;33m(\u001b[0m\u001b[0max\u001b[0m\u001b[1;33m,\u001b[0m \u001b[1;33m*\u001b[0m\u001b[0margs\u001b[0m\u001b[1;33m,\u001b[0m \u001b[1;33m**\u001b[0m\u001b[0mkwargs\u001b[0m\u001b[1;33m)\u001b[0m\u001b[1;33m\u001b[0m\u001b[1;33m\u001b[0m\u001b[0m\n",
            "\u001b[1;32m~\\AppData\\Local\\Programs\\Python\\Python38-32\\lib\\site-packages\\matplotlib\\axes\\_axes.py\u001b[0m in \u001b[0;36mcontourf\u001b[1;34m(self, *args, **kwargs)\u001b[0m\n\u001b[0;32m   6338\u001b[0m     \u001b[1;32mdef\u001b[0m \u001b[0mcontourf\u001b[0m\u001b[1;33m(\u001b[0m\u001b[0mself\u001b[0m\u001b[1;33m,\u001b[0m \u001b[1;33m*\u001b[0m\u001b[0margs\u001b[0m\u001b[1;33m,\u001b[0m \u001b[1;33m**\u001b[0m\u001b[0mkwargs\u001b[0m\u001b[1;33m)\u001b[0m\u001b[1;33m:\u001b[0m\u001b[1;33m\u001b[0m\u001b[1;33m\u001b[0m\u001b[0m\n\u001b[0;32m   6339\u001b[0m         \u001b[0mkwargs\u001b[0m\u001b[1;33m[\u001b[0m\u001b[1;34m'filled'\u001b[0m\u001b[1;33m]\u001b[0m \u001b[1;33m=\u001b[0m \u001b[1;32mTrue\u001b[0m\u001b[1;33m\u001b[0m\u001b[1;33m\u001b[0m\u001b[0m\n\u001b[1;32m-> 6340\u001b[1;33m         \u001b[0mcontours\u001b[0m \u001b[1;33m=\u001b[0m \u001b[0mmcontour\u001b[0m\u001b[1;33m.\u001b[0m\u001b[0mQuadContourSet\u001b[0m\u001b[1;33m(\u001b[0m\u001b[0mself\u001b[0m\u001b[1;33m,\u001b[0m \u001b[1;33m*\u001b[0m\u001b[0margs\u001b[0m\u001b[1;33m,\u001b[0m \u001b[1;33m**\u001b[0m\u001b[0mkwargs\u001b[0m\u001b[1;33m)\u001b[0m\u001b[1;33m\u001b[0m\u001b[1;33m\u001b[0m\u001b[0m\n\u001b[0m\u001b[0;32m   6341\u001b[0m         \u001b[0mself\u001b[0m\u001b[1;33m.\u001b[0m\u001b[0m_request_autoscale_view\u001b[0m\u001b[1;33m(\u001b[0m\u001b[1;33m)\u001b[0m\u001b[1;33m\u001b[0m\u001b[1;33m\u001b[0m\u001b[0m\n\u001b[0;32m   6342\u001b[0m         \u001b[1;32mreturn\u001b[0m \u001b[0mcontours\u001b[0m\u001b[1;33m\u001b[0m\u001b[1;33m\u001b[0m\u001b[0m\n",
            "\u001b[1;32m~\\AppData\\Local\\Programs\\Python\\Python38-32\\lib\\site-packages\\matplotlib\\contour.py\u001b[0m in \u001b[0;36m__init__\u001b[1;34m(self, ax, levels, filled, linewidths, linestyles, hatches, alpha, origin, extent, cmap, colors, norm, vmin, vmax, extend, antialiased, nchunk, locator, transform, *args, **kwargs)\u001b[0m\n\u001b[0;32m    814\u001b[0m         \u001b[0mself\u001b[0m\u001b[1;33m.\u001b[0m\u001b[0m_transform\u001b[0m \u001b[1;33m=\u001b[0m \u001b[0mtransform\u001b[0m\u001b[1;33m\u001b[0m\u001b[1;33m\u001b[0m\u001b[0m\n\u001b[0;32m    815\u001b[0m \u001b[1;33m\u001b[0m\u001b[0m\n\u001b[1;32m--> 816\u001b[1;33m         \u001b[0mkwargs\u001b[0m \u001b[1;33m=\u001b[0m \u001b[0mself\u001b[0m\u001b[1;33m.\u001b[0m\u001b[0m_process_args\u001b[0m\u001b[1;33m(\u001b[0m\u001b[1;33m*\u001b[0m\u001b[0margs\u001b[0m\u001b[1;33m,\u001b[0m \u001b[1;33m**\u001b[0m\u001b[0mkwargs\u001b[0m\u001b[1;33m)\u001b[0m\u001b[1;33m\u001b[0m\u001b[1;33m\u001b[0m\u001b[0m\n\u001b[0m\u001b[0;32m    817\u001b[0m         \u001b[0mself\u001b[0m\u001b[1;33m.\u001b[0m\u001b[0m_process_levels\u001b[0m\u001b[1;33m(\u001b[0m\u001b[1;33m)\u001b[0m\u001b[1;33m\u001b[0m\u001b[1;33m\u001b[0m\u001b[0m\n\u001b[0;32m    818\u001b[0m \u001b[1;33m\u001b[0m\u001b[0m\n",
            "\u001b[1;32m~\\AppData\\Local\\Programs\\Python\\Python38-32\\lib\\site-packages\\matplotlib\\contour.py\u001b[0m in \u001b[0;36m_process_args\u001b[1;34m(self, corner_mask, *args, **kwargs)\u001b[0m\n\u001b[0;32m   1428\u001b[0m             \u001b[0mself\u001b[0m\u001b[1;33m.\u001b[0m\u001b[0m_corner_mask\u001b[0m \u001b[1;33m=\u001b[0m \u001b[0mcorner_mask\u001b[0m\u001b[1;33m\u001b[0m\u001b[1;33m\u001b[0m\u001b[0m\n\u001b[0;32m   1429\u001b[0m \u001b[1;33m\u001b[0m\u001b[0m\n\u001b[1;32m-> 1430\u001b[1;33m             \u001b[0mx\u001b[0m\u001b[1;33m,\u001b[0m \u001b[0my\u001b[0m\u001b[1;33m,\u001b[0m \u001b[0mz\u001b[0m \u001b[1;33m=\u001b[0m \u001b[0mself\u001b[0m\u001b[1;33m.\u001b[0m\u001b[0m_contour_args\u001b[0m\u001b[1;33m(\u001b[0m\u001b[0margs\u001b[0m\u001b[1;33m,\u001b[0m \u001b[0mkwargs\u001b[0m\u001b[1;33m)\u001b[0m\u001b[1;33m\u001b[0m\u001b[1;33m\u001b[0m\u001b[0m\n\u001b[0m\u001b[0;32m   1431\u001b[0m \u001b[1;33m\u001b[0m\u001b[0m\n\u001b[0;32m   1432\u001b[0m             \u001b[0m_mask\u001b[0m \u001b[1;33m=\u001b[0m \u001b[0mma\u001b[0m\u001b[1;33m.\u001b[0m\u001b[0mgetmask\u001b[0m\u001b[1;33m(\u001b[0m\u001b[0mz\u001b[0m\u001b[1;33m)\u001b[0m\u001b[1;33m\u001b[0m\u001b[1;33m\u001b[0m\u001b[0m\n",
            "\u001b[1;32m~\\AppData\\Local\\Programs\\Python\\Python38-32\\lib\\site-packages\\matplotlib\\contour.py\u001b[0m in \u001b[0;36m_contour_args\u001b[1;34m(self, args, kwargs)\u001b[0m\n\u001b[0;32m   1486\u001b[0m             \u001b[0margs\u001b[0m \u001b[1;33m=\u001b[0m \u001b[0margs\u001b[0m\u001b[1;33m[\u001b[0m\u001b[1;36m1\u001b[0m\u001b[1;33m:\u001b[0m\u001b[1;33m]\u001b[0m\u001b[1;33m\u001b[0m\u001b[1;33m\u001b[0m\u001b[0m\n\u001b[0;32m   1487\u001b[0m         \u001b[1;32melif\u001b[0m \u001b[0mNargs\u001b[0m \u001b[1;33m<=\u001b[0m \u001b[1;36m4\u001b[0m\u001b[1;33m:\u001b[0m\u001b[1;33m\u001b[0m\u001b[1;33m\u001b[0m\u001b[0m\n\u001b[1;32m-> 1488\u001b[1;33m             \u001b[0mx\u001b[0m\u001b[1;33m,\u001b[0m \u001b[0my\u001b[0m\u001b[1;33m,\u001b[0m \u001b[0mz\u001b[0m \u001b[1;33m=\u001b[0m \u001b[0mself\u001b[0m\u001b[1;33m.\u001b[0m\u001b[0m_check_xyz\u001b[0m\u001b[1;33m(\u001b[0m\u001b[0margs\u001b[0m\u001b[1;33m[\u001b[0m\u001b[1;33m:\u001b[0m\u001b[1;36m3\u001b[0m\u001b[1;33m]\u001b[0m\u001b[1;33m,\u001b[0m \u001b[0mkwargs\u001b[0m\u001b[1;33m)\u001b[0m\u001b[1;33m\u001b[0m\u001b[1;33m\u001b[0m\u001b[0m\n\u001b[0m\u001b[0;32m   1489\u001b[0m             \u001b[0margs\u001b[0m \u001b[1;33m=\u001b[0m \u001b[0margs\u001b[0m\u001b[1;33m[\u001b[0m\u001b[1;36m3\u001b[0m\u001b[1;33m:\u001b[0m\u001b[1;33m]\u001b[0m\u001b[1;33m\u001b[0m\u001b[1;33m\u001b[0m\u001b[0m\n\u001b[0;32m   1490\u001b[0m         \u001b[1;32melse\u001b[0m\u001b[1;33m:\u001b[0m\u001b[1;33m\u001b[0m\u001b[1;33m\u001b[0m\u001b[0m\n",
            "\u001b[1;32m~\\AppData\\Local\\Programs\\Python\\Python38-32\\lib\\site-packages\\matplotlib\\contour.py\u001b[0m in \u001b[0;36m_check_xyz\u001b[1;34m(self, args, kwargs)\u001b[0m\n\u001b[0;32m   1508\u001b[0m         \"\"\"\n\u001b[0;32m   1509\u001b[0m         \u001b[0mx\u001b[0m\u001b[1;33m,\u001b[0m \u001b[0my\u001b[0m \u001b[1;33m=\u001b[0m \u001b[0margs\u001b[0m\u001b[1;33m[\u001b[0m\u001b[1;33m:\u001b[0m\u001b[1;36m2\u001b[0m\u001b[1;33m]\u001b[0m\u001b[1;33m\u001b[0m\u001b[1;33m\u001b[0m\u001b[0m\n\u001b[1;32m-> 1510\u001b[1;33m         \u001b[0mkwargs\u001b[0m \u001b[1;33m=\u001b[0m \u001b[0mself\u001b[0m\u001b[1;33m.\u001b[0m\u001b[0maxes\u001b[0m\u001b[1;33m.\u001b[0m\u001b[0m_process_unit_info\u001b[0m\u001b[1;33m(\u001b[0m\u001b[0mxdata\u001b[0m\u001b[1;33m=\u001b[0m\u001b[0mx\u001b[0m\u001b[1;33m,\u001b[0m \u001b[0mydata\u001b[0m\u001b[1;33m=\u001b[0m\u001b[0my\u001b[0m\u001b[1;33m,\u001b[0m \u001b[0mkwargs\u001b[0m\u001b[1;33m=\u001b[0m\u001b[0mkwargs\u001b[0m\u001b[1;33m)\u001b[0m\u001b[1;33m\u001b[0m\u001b[1;33m\u001b[0m\u001b[0m\n\u001b[0m\u001b[0;32m   1511\u001b[0m         \u001b[0mx\u001b[0m \u001b[1;33m=\u001b[0m \u001b[0mself\u001b[0m\u001b[1;33m.\u001b[0m\u001b[0maxes\u001b[0m\u001b[1;33m.\u001b[0m\u001b[0mconvert_xunits\u001b[0m\u001b[1;33m(\u001b[0m\u001b[0mx\u001b[0m\u001b[1;33m)\u001b[0m\u001b[1;33m\u001b[0m\u001b[1;33m\u001b[0m\u001b[0m\n\u001b[0;32m   1512\u001b[0m         \u001b[0my\u001b[0m \u001b[1;33m=\u001b[0m \u001b[0mself\u001b[0m\u001b[1;33m.\u001b[0m\u001b[0maxes\u001b[0m\u001b[1;33m.\u001b[0m\u001b[0mconvert_yunits\u001b[0m\u001b[1;33m(\u001b[0m\u001b[0my\u001b[0m\u001b[1;33m)\u001b[0m\u001b[1;33m\u001b[0m\u001b[1;33m\u001b[0m\u001b[0m\n",
            "\u001b[1;32m~\\AppData\\Local\\Programs\\Python\\Python38-32\\lib\\site-packages\\matplotlib\\axes\\_base.py\u001b[0m in \u001b[0;36m_process_unit_info\u001b[1;34m(self, xdata, ydata, kwargs)\u001b[0m\n\u001b[0;32m   2187\u001b[0m             \u001b[1;32mreturn\u001b[0m \u001b[0mkwargs\u001b[0m\u001b[1;33m\u001b[0m\u001b[1;33m\u001b[0m\u001b[0m\n\u001b[0;32m   2188\u001b[0m \u001b[1;33m\u001b[0m\u001b[0m\n\u001b[1;32m-> 2189\u001b[1;33m         \u001b[0mkwargs\u001b[0m \u001b[1;33m=\u001b[0m \u001b[0m_process_single_axis\u001b[0m\u001b[1;33m(\u001b[0m\u001b[0mxdata\u001b[0m\u001b[1;33m,\u001b[0m \u001b[0mself\u001b[0m\u001b[1;33m.\u001b[0m\u001b[0mxaxis\u001b[0m\u001b[1;33m,\u001b[0m \u001b[1;34m'xunits'\u001b[0m\u001b[1;33m,\u001b[0m \u001b[0mkwargs\u001b[0m\u001b[1;33m)\u001b[0m\u001b[1;33m\u001b[0m\u001b[1;33m\u001b[0m\u001b[0m\n\u001b[0m\u001b[0;32m   2190\u001b[0m         \u001b[0mkwargs\u001b[0m \u001b[1;33m=\u001b[0m \u001b[0m_process_single_axis\u001b[0m\u001b[1;33m(\u001b[0m\u001b[0mydata\u001b[0m\u001b[1;33m,\u001b[0m \u001b[0mself\u001b[0m\u001b[1;33m.\u001b[0m\u001b[0myaxis\u001b[0m\u001b[1;33m,\u001b[0m \u001b[1;34m'yunits'\u001b[0m\u001b[1;33m,\u001b[0m \u001b[0mkwargs\u001b[0m\u001b[1;33m)\u001b[0m\u001b[1;33m\u001b[0m\u001b[1;33m\u001b[0m\u001b[0m\n\u001b[0;32m   2191\u001b[0m         \u001b[1;32mreturn\u001b[0m \u001b[0mkwargs\u001b[0m\u001b[1;33m\u001b[0m\u001b[1;33m\u001b[0m\u001b[0m\n",
            "\u001b[1;32m~\\AppData\\Local\\Programs\\Python\\Python38-32\\lib\\site-packages\\matplotlib\\axes\\_base.py\u001b[0m in \u001b[0;36m_process_single_axis\u001b[1;34m(data, axis, unit_name, kwargs)\u001b[0m\n\u001b[0;32m   2170\u001b[0m                 \u001b[1;31m# We only need to update if there is nothing set yet.\u001b[0m\u001b[1;33m\u001b[0m\u001b[1;33m\u001b[0m\u001b[1;33m\u001b[0m\u001b[0m\n\u001b[0;32m   2171\u001b[0m                 \u001b[1;32mif\u001b[0m \u001b[1;32mnot\u001b[0m \u001b[0maxis\u001b[0m\u001b[1;33m.\u001b[0m\u001b[0mhave_units\u001b[0m\u001b[1;33m(\u001b[0m\u001b[1;33m)\u001b[0m\u001b[1;33m:\u001b[0m\u001b[1;33m\u001b[0m\u001b[1;33m\u001b[0m\u001b[0m\n\u001b[1;32m-> 2172\u001b[1;33m                     \u001b[0maxis\u001b[0m\u001b[1;33m.\u001b[0m\u001b[0mupdate_units\u001b[0m\u001b[1;33m(\u001b[0m\u001b[0mdata\u001b[0m\u001b[1;33m)\u001b[0m\u001b[1;33m\u001b[0m\u001b[1;33m\u001b[0m\u001b[0m\n\u001b[0m\u001b[0;32m   2173\u001b[0m \u001b[1;33m\u001b[0m\u001b[0m\n\u001b[0;32m   2174\u001b[0m             \u001b[1;31m# Check for units in the kwargs, and if present update axis\u001b[0m\u001b[1;33m\u001b[0m\u001b[1;33m\u001b[0m\u001b[1;33m\u001b[0m\u001b[0m\n",
            "\u001b[1;32m~\\AppData\\Local\\Programs\\Python\\Python38-32\\lib\\site-packages\\matplotlib\\axis.py\u001b[0m in \u001b[0;36mupdate_units\u001b[1;34m(self, data)\u001b[0m\n\u001b[0;32m   1461\u001b[0m         \u001b[0mneednew\u001b[0m \u001b[1;33m=\u001b[0m \u001b[0mself\u001b[0m\u001b[1;33m.\u001b[0m\u001b[0mconverter\u001b[0m \u001b[1;33m!=\u001b[0m \u001b[0mconverter\u001b[0m\u001b[1;33m\u001b[0m\u001b[1;33m\u001b[0m\u001b[0m\n\u001b[0;32m   1462\u001b[0m         \u001b[0mself\u001b[0m\u001b[1;33m.\u001b[0m\u001b[0mconverter\u001b[0m \u001b[1;33m=\u001b[0m \u001b[0mconverter\u001b[0m\u001b[1;33m\u001b[0m\u001b[1;33m\u001b[0m\u001b[0m\n\u001b[1;32m-> 1463\u001b[1;33m         \u001b[0mdefault\u001b[0m \u001b[1;33m=\u001b[0m \u001b[0mself\u001b[0m\u001b[1;33m.\u001b[0m\u001b[0mconverter\u001b[0m\u001b[1;33m.\u001b[0m\u001b[0mdefault_units\u001b[0m\u001b[1;33m(\u001b[0m\u001b[0mdata\u001b[0m\u001b[1;33m,\u001b[0m \u001b[0mself\u001b[0m\u001b[1;33m)\u001b[0m\u001b[1;33m\u001b[0m\u001b[1;33m\u001b[0m\u001b[0m\n\u001b[0m\u001b[0;32m   1464\u001b[0m         \u001b[1;32mif\u001b[0m \u001b[0mdefault\u001b[0m \u001b[1;32mis\u001b[0m \u001b[1;32mnot\u001b[0m \u001b[1;32mNone\u001b[0m \u001b[1;32mand\u001b[0m \u001b[0mself\u001b[0m\u001b[1;33m.\u001b[0m\u001b[0munits\u001b[0m \u001b[1;32mis\u001b[0m \u001b[1;32mNone\u001b[0m\u001b[1;33m:\u001b[0m\u001b[1;33m\u001b[0m\u001b[1;33m\u001b[0m\u001b[0m\n\u001b[0;32m   1465\u001b[0m             \u001b[0mself\u001b[0m\u001b[1;33m.\u001b[0m\u001b[0mset_units\u001b[0m\u001b[1;33m(\u001b[0m\u001b[0mdefault\u001b[0m\u001b[1;33m)\u001b[0m\u001b[1;33m\u001b[0m\u001b[1;33m\u001b[0m\u001b[0m\n",
            "\u001b[1;32m~\\AppData\\Local\\Programs\\Python\\Python38-32\\lib\\site-packages\\matplotlib\\category.py\u001b[0m in \u001b[0;36mdefault_units\u001b[1;34m(data, axis)\u001b[0m\n\u001b[0;32m    105\u001b[0m         \u001b[1;31m# the conversion call stack is default_units -> axis_info -> convert\u001b[0m\u001b[1;33m\u001b[0m\u001b[1;33m\u001b[0m\u001b[1;33m\u001b[0m\u001b[0m\n\u001b[0;32m    106\u001b[0m         \u001b[1;32mif\u001b[0m \u001b[0maxis\u001b[0m\u001b[1;33m.\u001b[0m\u001b[0munits\u001b[0m \u001b[1;32mis\u001b[0m \u001b[1;32mNone\u001b[0m\u001b[1;33m:\u001b[0m\u001b[1;33m\u001b[0m\u001b[1;33m\u001b[0m\u001b[0m\n\u001b[1;32m--> 107\u001b[1;33m             \u001b[0maxis\u001b[0m\u001b[1;33m.\u001b[0m\u001b[0mset_units\u001b[0m\u001b[1;33m(\u001b[0m\u001b[0mUnitData\u001b[0m\u001b[1;33m(\u001b[0m\u001b[0mdata\u001b[0m\u001b[1;33m)\u001b[0m\u001b[1;33m)\u001b[0m\u001b[1;33m\u001b[0m\u001b[1;33m\u001b[0m\u001b[0m\n\u001b[0m\u001b[0;32m    108\u001b[0m         \u001b[1;32melse\u001b[0m\u001b[1;33m:\u001b[0m\u001b[1;33m\u001b[0m\u001b[1;33m\u001b[0m\u001b[0m\n\u001b[0;32m    109\u001b[0m             \u001b[0maxis\u001b[0m\u001b[1;33m.\u001b[0m\u001b[0munits\u001b[0m\u001b[1;33m.\u001b[0m\u001b[0mupdate\u001b[0m\u001b[1;33m(\u001b[0m\u001b[0mdata\u001b[0m\u001b[1;33m)\u001b[0m\u001b[1;33m\u001b[0m\u001b[1;33m\u001b[0m\u001b[0m\n",
            "\u001b[1;32m~\\AppData\\Local\\Programs\\Python\\Python38-32\\lib\\site-packages\\matplotlib\\category.py\u001b[0m in \u001b[0;36m__init__\u001b[1;34m(self, data)\u001b[0m\n\u001b[0;32m    174\u001b[0m         \u001b[0mself\u001b[0m\u001b[1;33m.\u001b[0m\u001b[0m_counter\u001b[0m \u001b[1;33m=\u001b[0m \u001b[0mitertools\u001b[0m\u001b[1;33m.\u001b[0m\u001b[0mcount\u001b[0m\u001b[1;33m(\u001b[0m\u001b[1;33m)\u001b[0m\u001b[1;33m\u001b[0m\u001b[1;33m\u001b[0m\u001b[0m\n\u001b[0;32m    175\u001b[0m         \u001b[1;32mif\u001b[0m \u001b[0mdata\u001b[0m \u001b[1;32mis\u001b[0m \u001b[1;32mnot\u001b[0m \u001b[1;32mNone\u001b[0m\u001b[1;33m:\u001b[0m\u001b[1;33m\u001b[0m\u001b[1;33m\u001b[0m\u001b[0m\n\u001b[1;32m--> 176\u001b[1;33m             \u001b[0mself\u001b[0m\u001b[1;33m.\u001b[0m\u001b[0mupdate\u001b[0m\u001b[1;33m(\u001b[0m\u001b[0mdata\u001b[0m\u001b[1;33m)\u001b[0m\u001b[1;33m\u001b[0m\u001b[1;33m\u001b[0m\u001b[0m\n\u001b[0m\u001b[0;32m    177\u001b[0m \u001b[1;33m\u001b[0m\u001b[0m\n\u001b[0;32m    178\u001b[0m     \u001b[1;33m@\u001b[0m\u001b[0mstaticmethod\u001b[0m\u001b[1;33m\u001b[0m\u001b[1;33m\u001b[0m\u001b[0m\n",
            "\u001b[1;32m~\\AppData\\Local\\Programs\\Python\\Python38-32\\lib\\site-packages\\matplotlib\\category.py\u001b[0m in \u001b[0;36mupdate\u001b[1;34m(self, data)\u001b[0m\n\u001b[0;32m    207\u001b[0m         \u001b[1;31m# check if convertible to number:\u001b[0m\u001b[1;33m\u001b[0m\u001b[1;33m\u001b[0m\u001b[1;33m\u001b[0m\u001b[0m\n\u001b[0;32m    208\u001b[0m         \u001b[0mconvertible\u001b[0m \u001b[1;33m=\u001b[0m \u001b[1;32mTrue\u001b[0m\u001b[1;33m\u001b[0m\u001b[1;33m\u001b[0m\u001b[0m\n\u001b[1;32m--> 209\u001b[1;33m         \u001b[1;32mfor\u001b[0m \u001b[0mval\u001b[0m \u001b[1;32min\u001b[0m \u001b[0mOrderedDict\u001b[0m\u001b[1;33m.\u001b[0m\u001b[0mfromkeys\u001b[0m\u001b[1;33m(\u001b[0m\u001b[0mdata\u001b[0m\u001b[1;33m)\u001b[0m\u001b[1;33m:\u001b[0m\u001b[1;33m\u001b[0m\u001b[1;33m\u001b[0m\u001b[0m\n\u001b[0m\u001b[0;32m    210\u001b[0m             \u001b[1;31m# OrderedDict just iterates over unique values in data.\u001b[0m\u001b[1;33m\u001b[0m\u001b[1;33m\u001b[0m\u001b[1;33m\u001b[0m\u001b[0m\n\u001b[0;32m    211\u001b[0m             \u001b[0mcbook\u001b[0m\u001b[1;33m.\u001b[0m\u001b[0m_check_isinstance\u001b[0m\u001b[1;33m(\u001b[0m\u001b[1;33m(\u001b[0m\u001b[0mstr\u001b[0m\u001b[1;33m,\u001b[0m \u001b[0mbytes\u001b[0m\u001b[1;33m)\u001b[0m\u001b[1;33m,\u001b[0m \u001b[0mvalue\u001b[0m\u001b[1;33m=\u001b[0m\u001b[0mval\u001b[0m\u001b[1;33m)\u001b[0m\u001b[1;33m\u001b[0m\u001b[1;33m\u001b[0m\u001b[0m\n",
            "\u001b[1;31mTypeError\u001b[0m: unhashable type: 'numpy.ndarray'"
          ]
        }
      ]
    },
    {
      "cell_type": "code",
      "execution_count": null,
      "metadata": {},
      "outputs": [],
      "source": []
    }
  ]
}