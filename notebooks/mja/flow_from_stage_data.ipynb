{
 "cells": [
  {
   "cell_type": "code",
   "execution_count": 1,
   "metadata": {
    "id": "qsvksbpKko7O"
   },
   "outputs": [
    {
     "name": "stderr",
     "output_type": "stream",
     "text": [
      "In C:\\Users\\Matt\\Anaconda3\\lib\\site-packages\\matplotlib\\mpl-data\\stylelib\\_classic_test.mplstyle: \n",
      "The text.latex.preview rcparam was deprecated in Matplotlib 3.3 and will be removed two minor releases later.\n",
      "In C:\\Users\\Matt\\Anaconda3\\lib\\site-packages\\matplotlib\\mpl-data\\stylelib\\_classic_test.mplstyle: \n",
      "The mathtext.fallback_to_cm rcparam was deprecated in Matplotlib 3.3 and will be removed two minor releases later.\n",
      "In C:\\Users\\Matt\\Anaconda3\\lib\\site-packages\\matplotlib\\mpl-data\\stylelib\\_classic_test.mplstyle: Support for setting the 'mathtext.fallback_to_cm' rcParam is deprecated since 3.3 and will be removed two minor releases later; use 'mathtext.fallback : 'cm' instead.\n",
      "In C:\\Users\\Matt\\Anaconda3\\lib\\site-packages\\matplotlib\\mpl-data\\stylelib\\_classic_test.mplstyle: \n",
      "The validate_bool_maybe_none function was deprecated in Matplotlib 3.3 and will be removed two minor releases later.\n",
      "In C:\\Users\\Matt\\Anaconda3\\lib\\site-packages\\matplotlib\\mpl-data\\stylelib\\_classic_test.mplstyle: \n",
      "The savefig.jpeg_quality rcparam was deprecated in Matplotlib 3.3 and will be removed two minor releases later.\n",
      "In C:\\Users\\Matt\\Anaconda3\\lib\\site-packages\\matplotlib\\mpl-data\\stylelib\\_classic_test.mplstyle: \n",
      "The keymap.all_axes rcparam was deprecated in Matplotlib 3.3 and will be removed two minor releases later.\n",
      "In C:\\Users\\Matt\\Anaconda3\\lib\\site-packages\\matplotlib\\mpl-data\\stylelib\\_classic_test.mplstyle: \n",
      "The animation.avconv_path rcparam was deprecated in Matplotlib 3.3 and will be removed two minor releases later.\n",
      "In C:\\Users\\Matt\\Anaconda3\\lib\\site-packages\\matplotlib\\mpl-data\\stylelib\\_classic_test.mplstyle: \n",
      "The animation.avconv_args rcparam was deprecated in Matplotlib 3.3 and will be removed two minor releases later.\n"
     ]
    }
   ],
   "source": [
    "import matplotlib.pyplot as plt\n",
    "import pandas as pd\n",
    "import numpy as np\n",
    "import os\n",
    "\n",
    "from datetime import datetime"
   ]
  },
  {
   "cell_type": "markdown",
   "metadata": {
    "id": "Bh_g0wwncIQ8"
   },
   "source": [
    "## Import data sets into dataframes and plot time series"
   ]
  },
  {
   "cell_type": "markdown",
   "metadata": {
    "id": "C2hC_8EicMBY"
   },
   "source": [
    "#### Flow data at 60min resolution"
   ]
  },
  {
   "cell_type": "markdown",
   "metadata": {
    "id": "zr6ppEDWMPYm"
   },
   "source": [
    "Import data into Pandas dataframe"
   ]
  },
  {
   "cell_type": "code",
   "execution_count": 2,
   "metadata": {
    "colab": {
     "base_uri": "https://localhost:8080/"
    },
    "id": "QXLPRvN4lguI",
    "outputId": "7ba6c6a6-7102-4f59-b7a4-af89da1bc14d"
   },
   "outputs": [
    {
     "name": "stdout",
     "output_type": "stream",
     "text": [
      "Wall time: 1min 43s\n"
     ]
    }
   ],
   "source": [
    "%%time\n",
    "flow60 = pd.read_excel('Shipston Wiski data - 60 min.xlsx', \n",
    "                      sheet_name = 1, parse_dates=[['Date', 'Time']])"
   ]
  },
  {
   "cell_type": "markdown",
   "metadata": {
    "id": "wbu2t89jMYwX"
   },
   "source": [
    "Explore data (5 top rows) "
   ]
  },
  {
   "cell_type": "code",
   "execution_count": 3,
   "metadata": {
    "colab": {
     "base_uri": "https://localhost:8080/",
     "height": 203
    },
    "id": "hvhP0NT6vbQJ",
    "outputId": "e1cb3260-396d-4d42-920a-5229bd166f9c"
   },
   "outputs": [
    {
     "data": {
      "text/html": [
       "<div>\n",
       "<style scoped>\n",
       "    .dataframe tbody tr th:only-of-type {\n",
       "        vertical-align: middle;\n",
       "    }\n",
       "\n",
       "    .dataframe tbody tr th {\n",
       "        vertical-align: top;\n",
       "    }\n",
       "\n",
       "    .dataframe thead th {\n",
       "        text-align: right;\n",
       "    }\n",
       "</style>\n",
       "<table border=\"1\" class=\"dataframe\">\n",
       "  <thead>\n",
       "    <tr style=\"text-align: right;\">\n",
       "      <th></th>\n",
       "      <th>Date_Time</th>\n",
       "      <th>Flow [m³/s]</th>\n",
       "      <th>Quality</th>\n",
       "      <th>Interpolation</th>\n",
       "      <th>Tags</th>\n",
       "      <th>Remarks</th>\n",
       "    </tr>\n",
       "  </thead>\n",
       "  <tbody>\n",
       "    <tr>\n",
       "      <th>0</th>\n",
       "      <td>1986-01-08 14:00:00</td>\n",
       "      <td>5.73</td>\n",
       "      <td>200 (U)</td>\n",
       "      <td>linear interpolation</td>\n",
       "      <td>NaN</td>\n",
       "      <td>NaN</td>\n",
       "    </tr>\n",
       "    <tr>\n",
       "      <th>1</th>\n",
       "      <td>1986-01-08 15:00:00</td>\n",
       "      <td>5.85</td>\n",
       "      <td>200 (U)</td>\n",
       "      <td>linear interpolation</td>\n",
       "      <td>NaN</td>\n",
       "      <td>NaN</td>\n",
       "    </tr>\n",
       "    <tr>\n",
       "      <th>2</th>\n",
       "      <td>1986-01-08 16:00:00</td>\n",
       "      <td>5.97</td>\n",
       "      <td>200 (U)</td>\n",
       "      <td>linear interpolation</td>\n",
       "      <td>NaN</td>\n",
       "      <td>NaN</td>\n",
       "    </tr>\n",
       "    <tr>\n",
       "      <th>3</th>\n",
       "      <td>1986-01-08 17:00:00</td>\n",
       "      <td>6.09</td>\n",
       "      <td>200 (U)</td>\n",
       "      <td>linear interpolation</td>\n",
       "      <td>NaN</td>\n",
       "      <td>NaN</td>\n",
       "    </tr>\n",
       "    <tr>\n",
       "      <th>4</th>\n",
       "      <td>1986-01-08 18:00:00</td>\n",
       "      <td>6.18</td>\n",
       "      <td>200 (U)</td>\n",
       "      <td>linear interpolation</td>\n",
       "      <td>NaN</td>\n",
       "      <td>NaN</td>\n",
       "    </tr>\n",
       "  </tbody>\n",
       "</table>\n",
       "</div>"
      ],
      "text/plain": [
       "            Date_Time Flow [m³/s]  Quality         Interpolation  Tags Remarks\n",
       "0 1986-01-08 14:00:00        5.73  200 (U)  linear interpolation   NaN     NaN\n",
       "1 1986-01-08 15:00:00        5.85  200 (U)  linear interpolation   NaN     NaN\n",
       "2 1986-01-08 16:00:00        5.97  200 (U)  linear interpolation   NaN     NaN\n",
       "3 1986-01-08 17:00:00        6.09  200 (U)  linear interpolation   NaN     NaN\n",
       "4 1986-01-08 18:00:00        6.18  200 (U)  linear interpolation   NaN     NaN"
      ]
     },
     "execution_count": 3,
     "metadata": {},
     "output_type": "execute_result"
    }
   ],
   "source": [
    "flow60.head()"
   ]
  },
  {
   "cell_type": "markdown",
   "metadata": {
    "id": "Dkao58iTMfF3"
   },
   "source": [
    "Replace missing values to NaNs (to avoid plotting errors)"
   ]
  },
  {
   "cell_type": "code",
   "execution_count": 4,
   "metadata": {
    "id": "Ee5nAigullBx"
   },
   "outputs": [],
   "source": [
    "flow60_filtered = flow60.replace(\" ---\",\"NaN\")"
   ]
  },
  {
   "cell_type": "markdown",
   "metadata": {
    "id": "4b-0SLtxMxZ-"
   },
   "source": [
    "Print dates with missing values"
   ]
  },
  {
   "cell_type": "code",
   "execution_count": 5,
   "metadata": {
    "colab": {
     "base_uri": "https://localhost:8080/"
    },
    "id": "qvZYXpfipLQ-",
    "outputId": "3839e85b-0c6d-4230-94d9-0c65462c2ab4"
   },
   "outputs": [
    {
     "name": "stdout",
     "output_type": "stream",
     "text": [
      "['1987-02-11T16:00:00.000000000' '1987-02-11T17:00:00.000000000'\n",
      " '1987-02-11T18:00:00.000000000' '1987-02-11T19:00:00.000000000'\n",
      " '1987-02-11T20:00:00.000000000' '1987-02-11T21:00:00.000000000'\n",
      " '1987-02-11T22:00:00.000000000' '1987-02-11T23:00:00.000000000'\n",
      " '1987-02-12T00:00:00.000000000' '1987-02-12T01:00:00.000000000'\n",
      " '1987-02-12T02:00:00.000000000' '1987-02-12T03:00:00.000000000'\n",
      " '1987-02-12T04:00:00.000000000' '1987-02-12T05:00:00.000000000'\n",
      " '1987-02-12T06:00:00.000000000' '1987-02-12T07:00:00.000000000'\n",
      " '1987-02-12T08:00:00.000000000' '1987-02-12T09:00:00.000000000'\n",
      " '1987-02-12T10:00:00.000000000' '1987-02-12T11:00:00.000000000'\n",
      " '1987-02-12T12:00:00.000000000' '1987-02-12T13:00:00.000000000'\n",
      " '1987-02-12T14:00:00.000000000' '1987-02-12T15:00:00.000000000'\n",
      " '1987-02-12T16:00:00.000000000' '1987-02-12T17:00:00.000000000'\n",
      " '1987-02-12T18:00:00.000000000' '1987-02-12T19:00:00.000000000'\n",
      " '1987-02-12T20:00:00.000000000' '1987-02-12T21:00:00.000000000'\n",
      " '1987-02-12T22:00:00.000000000' '1987-02-12T23:00:00.000000000'\n",
      " '1987-02-13T00:00:00.000000000' '1987-02-13T01:00:00.000000000'\n",
      " '1987-02-13T02:00:00.000000000' '1987-02-13T03:00:00.000000000'\n",
      " '1987-02-13T04:00:00.000000000' '1987-02-13T05:00:00.000000000'\n",
      " '1987-02-13T06:00:00.000000000' '1987-02-13T07:00:00.000000000'\n",
      " '1987-02-13T08:00:00.000000000' '1987-02-13T09:00:00.000000000'\n",
      " '1987-02-13T10:00:00.000000000' '1987-02-13T11:00:00.000000000'\n",
      " '1987-02-13T12:00:00.000000000' '1987-02-13T13:00:00.000000000'\n",
      " '1987-02-13T14:00:00.000000000' '1987-02-13T15:00:00.000000000'\n",
      " '1987-02-13T16:00:00.000000000' '1987-02-13T17:00:00.000000000'\n",
      " '1987-02-13T18:00:00.000000000' '1987-02-13T19:00:00.000000000'\n",
      " '1987-02-13T20:00:00.000000000' '1987-02-13T21:00:00.000000000'\n",
      " '1987-02-13T22:00:00.000000000' '1987-02-13T23:00:00.000000000'\n",
      " '1987-02-14T00:00:00.000000000' '1987-02-14T01:00:00.000000000'\n",
      " '1987-02-14T02:00:00.000000000' '1987-02-14T03:00:00.000000000'\n",
      " '1987-02-14T04:00:00.000000000' '1987-02-14T05:00:00.000000000'\n",
      " '1987-02-14T06:00:00.000000000' '1987-02-14T07:00:00.000000000'\n",
      " '1987-02-14T08:00:00.000000000' '1987-02-14T09:00:00.000000000'\n",
      " '1987-02-14T10:00:00.000000000' '1987-02-14T11:00:00.000000000'\n",
      " '1987-02-14T12:00:00.000000000' '1987-02-14T13:00:00.000000000'\n",
      " '1987-02-14T14:00:00.000000000' '1987-02-14T15:00:00.000000000'\n",
      " '1987-02-14T16:00:00.000000000' '1987-02-14T17:00:00.000000000'\n",
      " '1987-02-14T18:00:00.000000000' '1987-02-14T19:00:00.000000000'\n",
      " '1987-02-14T20:00:00.000000000' '1987-02-14T21:00:00.000000000'\n",
      " '1987-02-14T22:00:00.000000000' '1987-02-14T23:00:00.000000000'\n",
      " '1987-02-15T00:00:00.000000000' '1987-02-15T01:00:00.000000000'\n",
      " '1987-02-15T02:00:00.000000000' '1987-02-15T03:00:00.000000000'\n",
      " '1987-02-15T04:00:00.000000000' '1987-02-15T05:00:00.000000000'\n",
      " '1987-02-15T06:00:00.000000000' '1987-02-15T07:00:00.000000000'\n",
      " '1987-02-15T08:00:00.000000000' '1987-02-15T09:00:00.000000000'\n",
      " '1987-02-15T10:00:00.000000000' '1987-02-15T11:00:00.000000000'\n",
      " '1987-02-15T12:00:00.000000000' '1987-02-15T13:00:00.000000000'\n",
      " '1987-02-15T14:00:00.000000000' '1987-02-15T15:00:00.000000000'\n",
      " '1987-02-15T16:00:00.000000000' '1987-02-15T17:00:00.000000000'\n",
      " '1987-02-15T18:00:00.000000000' '1987-02-15T19:00:00.000000000'\n",
      " '1987-02-15T20:00:00.000000000' '1987-02-15T21:00:00.000000000'\n",
      " '1987-02-15T22:00:00.000000000' '1987-02-15T23:00:00.000000000'\n",
      " '1987-02-16T00:00:00.000000000' '1987-02-16T01:00:00.000000000'\n",
      " '1987-02-16T02:00:00.000000000' '1987-02-16T03:00:00.000000000'\n",
      " '1987-02-16T04:00:00.000000000' '1987-02-16T05:00:00.000000000'\n",
      " '1987-02-16T06:00:00.000000000' '1987-02-16T07:00:00.000000000'\n",
      " '1987-02-16T08:00:00.000000000' '1987-02-16T09:00:00.000000000'\n",
      " '1987-02-16T10:00:00.000000000' '1987-02-16T11:00:00.000000000'\n",
      " '1987-02-16T12:00:00.000000000' '1987-02-16T13:00:00.000000000'\n",
      " '1987-02-16T14:00:00.000000000' '1987-02-16T15:00:00.000000000'\n",
      " '1987-02-16T16:00:00.000000000' '1987-02-16T17:00:00.000000000'\n",
      " '1987-02-16T18:00:00.000000000' '1987-02-16T19:00:00.000000000'\n",
      " '1987-02-16T20:00:00.000000000' '1987-02-16T21:00:00.000000000'\n",
      " '1987-02-16T22:00:00.000000000' '1987-02-16T23:00:00.000000000'\n",
      " '1987-02-17T00:00:00.000000000' '1987-02-17T01:00:00.000000000'\n",
      " '1987-02-17T02:00:00.000000000' '1987-02-17T03:00:00.000000000'\n",
      " '1987-02-17T04:00:00.000000000' '1987-02-17T05:00:00.000000000'\n",
      " '1987-02-17T06:00:00.000000000' '1987-02-17T07:00:00.000000000'\n",
      " '1987-02-17T08:00:00.000000000' '1987-02-17T09:00:00.000000000'\n",
      " '1987-02-17T10:00:00.000000000' '1987-02-17T11:00:00.000000000'\n",
      " '1987-02-17T12:00:00.000000000' '1987-02-17T13:00:00.000000000'\n",
      " '1987-02-17T14:00:00.000000000' '1987-02-17T15:00:00.000000000'\n",
      " '1987-02-17T16:00:00.000000000' '1987-02-17T17:00:00.000000000'\n",
      " '1987-02-17T18:00:00.000000000' '1987-02-17T19:00:00.000000000'\n",
      " '1987-02-17T20:00:00.000000000' '1987-02-17T21:00:00.000000000'\n",
      " '1987-02-17T22:00:00.000000000' '1987-02-17T23:00:00.000000000'\n",
      " '1987-02-18T00:00:00.000000000' '1987-02-18T01:00:00.000000000'\n",
      " '1987-02-18T02:00:00.000000000' '1987-02-18T03:00:00.000000000'\n",
      " '1987-02-18T04:00:00.000000000' '1987-02-18T05:00:00.000000000'\n",
      " '1987-02-18T06:00:00.000000000' '1987-02-18T07:00:00.000000000'\n",
      " '1987-02-18T08:00:00.000000000' '1987-02-18T09:00:00.000000000'\n",
      " '1987-02-18T10:00:00.000000000' '1987-02-18T11:00:00.000000000'\n",
      " '1987-02-18T12:00:00.000000000' '1987-03-25T13:00:00.000000000'\n",
      " '1987-03-25T14:00:00.000000000' '1987-03-25T15:00:00.000000000'\n",
      " '1987-03-25T16:00:00.000000000' '1987-03-25T17:00:00.000000000'\n",
      " '1987-03-25T18:00:00.000000000' '1987-03-25T19:00:00.000000000'\n",
      " '1987-03-25T20:00:00.000000000' '1987-03-25T21:00:00.000000000'\n",
      " '1987-03-25T22:00:00.000000000' '1987-03-25T23:00:00.000000000'\n",
      " '1987-03-26T00:00:00.000000000' '1987-03-26T01:00:00.000000000'\n",
      " '1987-03-26T02:00:00.000000000' '1987-03-26T03:00:00.000000000'\n",
      " '1987-03-26T04:00:00.000000000' '1987-03-26T05:00:00.000000000'\n",
      " '1987-03-26T06:00:00.000000000' '1987-03-26T07:00:00.000000000'\n",
      " '1987-03-26T08:00:00.000000000' '1987-03-26T09:00:00.000000000'\n",
      " '1987-03-26T10:00:00.000000000' '1987-03-26T11:00:00.000000000'\n",
      " '1987-03-26T12:00:00.000000000' '1987-03-26T13:00:00.000000000'\n",
      " '1987-03-26T14:00:00.000000000' '1987-03-26T15:00:00.000000000'\n",
      " '1987-03-26T16:00:00.000000000' '1987-03-26T17:00:00.000000000'\n",
      " '1987-03-26T18:00:00.000000000' '1987-03-26T19:00:00.000000000'\n",
      " '1987-03-26T20:00:00.000000000' '1987-03-26T21:00:00.000000000'\n",
      " '1987-03-26T22:00:00.000000000' '1987-03-26T23:00:00.000000000'\n",
      " '1987-03-27T00:00:00.000000000' '1987-03-27T01:00:00.000000000'\n",
      " '1987-03-27T02:00:00.000000000' '1987-03-27T03:00:00.000000000'\n",
      " '1987-03-27T04:00:00.000000000' '1987-03-27T05:00:00.000000000'\n",
      " '1987-03-27T06:00:00.000000000' '1987-03-27T07:00:00.000000000'\n",
      " '1987-03-27T08:00:00.000000000' '1987-03-27T09:00:00.000000000'\n",
      " '1987-03-27T10:00:00.000000000' '1987-03-27T11:00:00.000000000'\n",
      " '1987-03-27T12:00:00.000000000' '1987-03-27T13:00:00.000000000'\n",
      " '1987-03-27T14:00:00.000000000' '1987-03-27T15:00:00.000000000'\n",
      " '1987-03-27T16:00:00.000000000' '1987-03-27T17:00:00.000000000'\n",
      " '1987-03-27T18:00:00.000000000' '1987-03-27T19:00:00.000000000'\n",
      " '1987-03-27T20:00:00.000000000' '1987-03-27T21:00:00.000000000'\n",
      " '1987-03-27T22:00:00.000000000' '1987-03-27T23:00:00.000000000'\n",
      " '1987-03-28T00:00:00.000000000' '1987-03-28T01:00:00.000000000'\n",
      " '1987-03-28T02:00:00.000000000' '1987-03-28T03:00:00.000000000'\n",
      " '1987-03-28T04:00:00.000000000' '1987-03-28T05:00:00.000000000'\n",
      " '1987-03-28T06:00:00.000000000' '1987-03-28T07:00:00.000000000'\n",
      " '1987-03-28T08:00:00.000000000' '1987-03-28T09:00:00.000000000'\n",
      " '1987-03-28T10:00:00.000000000' '1987-03-28T11:00:00.000000000'\n",
      " '1987-03-28T12:00:00.000000000' '1987-03-28T13:00:00.000000000'\n",
      " '1987-03-28T14:00:00.000000000' '1987-03-28T15:00:00.000000000'\n",
      " '1987-03-28T16:00:00.000000000' '1987-03-28T17:00:00.000000000'\n",
      " '1987-03-28T18:00:00.000000000' '1987-03-28T19:00:00.000000000'\n",
      " '1987-03-28T20:00:00.000000000' '1987-03-28T21:00:00.000000000'\n",
      " '1987-03-28T22:00:00.000000000' '1987-03-28T23:00:00.000000000'\n",
      " '1987-03-29T00:00:00.000000000' '1987-03-29T01:00:00.000000000'\n",
      " '1987-03-29T02:00:00.000000000' '1987-03-29T03:00:00.000000000'\n",
      " '1987-03-29T04:00:00.000000000' '1987-03-29T05:00:00.000000000'\n",
      " '1987-03-29T06:00:00.000000000' '1987-03-29T07:00:00.000000000'\n",
      " '1987-03-29T08:00:00.000000000' '1987-03-29T09:00:00.000000000'\n",
      " '1987-03-29T10:00:00.000000000' '1987-03-29T11:00:00.000000000'\n",
      " '1987-03-29T12:00:00.000000000' '1987-03-29T13:00:00.000000000'\n",
      " '1987-03-29T14:00:00.000000000' '1987-03-29T15:00:00.000000000'\n",
      " '1987-03-29T16:00:00.000000000' '1987-03-29T17:00:00.000000000'\n",
      " '1987-03-29T18:00:00.000000000' '1987-03-29T19:00:00.000000000'\n",
      " '1987-03-29T20:00:00.000000000' '1987-03-29T21:00:00.000000000'\n",
      " '1987-03-29T22:00:00.000000000' '1987-03-29T23:00:00.000000000'\n",
      " '1987-03-30T00:00:00.000000000' '1987-03-30T01:00:00.000000000'\n",
      " '1987-03-30T02:00:00.000000000' '1987-03-30T03:00:00.000000000'\n",
      " '1987-03-30T04:00:00.000000000' '1987-03-30T05:00:00.000000000'\n",
      " '1987-03-30T06:00:00.000000000' '1987-03-30T07:00:00.000000000'\n",
      " '1987-03-30T08:00:00.000000000' '1987-03-30T09:00:00.000000000'\n",
      " '1987-03-30T10:00:00.000000000' '1987-03-30T11:00:00.000000000'\n",
      " '1987-03-30T12:00:00.000000000' '1987-03-30T13:00:00.000000000'\n",
      " '1987-03-30T14:00:00.000000000' '1987-03-30T15:00:00.000000000'\n",
      " '1987-03-30T16:00:00.000000000' '1987-03-30T17:00:00.000000000'\n",
      " '1987-03-30T18:00:00.000000000' '1987-03-30T19:00:00.000000000'\n",
      " '1987-03-30T20:00:00.000000000' '1987-03-30T21:00:00.000000000'\n",
      " '1987-03-30T22:00:00.000000000' '1987-03-30T23:00:00.000000000'\n",
      " '1987-03-31T00:00:00.000000000' '1987-03-31T01:00:00.000000000'\n",
      " '1987-03-31T02:00:00.000000000' '1987-03-31T03:00:00.000000000'\n",
      " '1987-03-31T04:00:00.000000000' '1987-03-31T05:00:00.000000000'\n",
      " '1987-03-31T06:00:00.000000000' '1987-03-31T07:00:00.000000000'\n",
      " '1987-03-31T08:00:00.000000000' '1987-03-31T09:00:00.000000000'\n",
      " '1987-03-31T10:00:00.000000000' '1987-03-31T11:00:00.000000000'\n",
      " '1987-03-31T12:00:00.000000000' '1987-03-31T13:00:00.000000000'\n",
      " '1987-03-31T14:00:00.000000000' '1987-03-31T15:00:00.000000000'\n",
      " '1987-03-31T16:00:00.000000000' '1987-03-31T17:00:00.000000000'\n",
      " '1987-03-31T18:00:00.000000000' '1987-03-31T19:00:00.000000000'\n",
      " '1987-03-31T20:00:00.000000000' '1987-03-31T21:00:00.000000000'\n",
      " '1987-03-31T22:00:00.000000000' '1987-03-31T23:00:00.000000000'\n",
      " '1987-04-01T00:00:00.000000000' '1987-04-01T01:00:00.000000000'\n",
      " '1987-04-01T02:00:00.000000000' '1987-04-01T03:00:00.000000000'\n",
      " '1987-04-01T04:00:00.000000000' '1987-04-01T05:00:00.000000000'\n",
      " '1987-04-01T06:00:00.000000000' '1987-04-01T07:00:00.000000000'\n",
      " '1987-04-01T08:00:00.000000000' '1987-04-01T09:00:00.000000000'\n",
      " '1987-04-01T10:00:00.000000000' '1987-04-01T11:00:00.000000000'\n",
      " '1987-04-01T12:00:00.000000000' '1987-04-01T13:00:00.000000000'\n",
      " '1987-04-01T14:00:00.000000000']\n"
     ]
    }
   ],
   "source": [
    "print(flow60['Date_Time'][flow60['Quality']=='missing'].unique())"
   ]
  },
  {
   "cell_type": "markdown",
   "metadata": {
    "id": "i9u3vCLnM35q"
   },
   "source": [
    "Plot flow time series"
   ]
  },
  {
   "cell_type": "code",
   "execution_count": 6,
   "metadata": {
    "colab": {
     "base_uri": "https://localhost:8080/",
     "height": 298
    },
    "id": "iruxTmMZ4ryP",
    "outputId": "28e12726-1310-4355-f189-860aa0a2c5cb"
   },
   "outputs": [
    {
     "data": {
      "text/plain": [
       "Text(0.5, 1.0, 'Flow (m3/s)')"
      ]
     },
     "execution_count": 6,
     "metadata": {},
     "output_type": "execute_result"
    },
    {
     "data": {
      "image/png": "[encoded data removed]",
      "text/plain": [
       "<Figure size 1440x288 with 1 Axes>"
      ]
     },
     "metadata": {
      "needs_background": "light"
     },
     "output_type": "display_data"
    }
   ],
   "source": [
    "plt.figure(figsize=(20,4))\n",
    "plt.plot(flow60_filtered['Date_Time'],flow60_filtered['Flow [m³/s]'], 'blue')\n",
    "plt.title(\"Flow (m3/s)\")"
   ]
  },
  {
   "cell_type": "markdown",
   "metadata": {
    "id": "dUOxCNy12eH1"
   },
   "source": [
    "#### Stage data at 60min resolution"
   ]
  },
  {
   "cell_type": "markdown",
   "metadata": {
    "id": "AXhRfIklNCSp"
   },
   "source": [
    "Import data from Excel spreadsheet into a Pandas dataframe"
   ]
  },
  {
   "cell_type": "code",
   "execution_count": 7,
   "metadata": {
    "colab": {
     "base_uri": "https://localhost:8080/"
    },
    "id": "Wm8CL5ePrrD2",
    "outputId": "edbd3805-69dd-46d1-e7d4-10cc20594e5a"
   },
   "outputs": [
    {
     "name": "stdout",
     "output_type": "stream",
     "text": [
      "Wall time: 1min 55s\n"
     ]
    }
   ],
   "source": [
    "%%time\n",
    "stage60 = pd.read_excel('Shipston Wiski data - 60 min.xlsx', \n",
    "                      sheet_name = 2, parse_dates=[['Date', 'Time']])"
   ]
  },
  {
   "cell_type": "markdown",
   "metadata": {
    "id": "2b6Fx1hPNFjp"
   },
   "source": [
    "Replace missing values to NaNs (to avoid plotting errors)"
   ]
  },
  {
   "cell_type": "code",
   "execution_count": 8,
   "metadata": {
    "id": "yW2iZc7_0VrD"
   },
   "outputs": [],
   "source": [
    "stage60_filtered = stage60.replace(\" ---\",\"NaN\")"
   ]
  },
  {
   "cell_type": "markdown",
   "metadata": {
    "id": "Tc9Bz6lwOjJ-"
   },
   "source": [
    "Print dates with missing values"
   ]
  },
  {
   "cell_type": "code",
   "execution_count": 9,
   "metadata": {
    "colab": {
     "base_uri": "https://localhost:8080/"
    },
    "id": "n0vnN1fxNTOT",
    "outputId": "18fc8c75-5089-4374-d9f5-a9416978d0ae"
   },
   "outputs": [
    {
     "name": "stdout",
     "output_type": "stream",
     "text": [
      "['1974-01-29T15:00:00.000000000' '1974-01-29T16:00:00.000000000'\n",
      " '1974-01-29T17:00:00.000000000' ... '1987-04-01T12:00:00.000000000'\n",
      " '1987-04-01T13:00:00.000000000' '1987-04-01T14:00:00.000000000']\n"
     ]
    }
   ],
   "source": [
    "print(stage60['Date_Time'][stage60['Quality']=='missing'].unique())"
   ]
  },
  {
   "cell_type": "markdown",
   "metadata": {
    "id": "eVjmcX7xNMR4"
   },
   "source": [
    "Plot stage time series"
   ]
  },
  {
   "cell_type": "code",
   "execution_count": 10,
   "metadata": {
    "colab": {
     "base_uri": "https://localhost:8080/",
     "height": 298
    },
    "id": "hEnKJJ69u7yW",
    "outputId": "22707ebb-7704-47d4-ad38-861dcbe3ade3"
   },
   "outputs": [
    {
     "data": {
      "text/plain": [
       "Text(0.5, 1.0, 'Stage (m)')"
      ]
     },
     "execution_count": 10,
     "metadata": {},
     "output_type": "execute_result"
    },
    {
     "data": {
      "image/png": "[encoded data removed]",
      "text/plain": [
       "<Figure size 1440x288 with 1 Axes>"
      ]
     },
     "metadata": {
      "needs_background": "light"
     },
     "output_type": "display_data"
    }
   ],
   "source": [
    "plt.figure(figsize=(20,4))\n",
    "plt.plot(stage60_filtered['Date_Time'],stage60_filtered['Stage [m]'], 'green')\n",
    "plt.title(\"Stage (m)\")"
   ]
  },
  {
   "cell_type": "markdown",
   "metadata": {},
   "source": [
    "## Regression to fill missing data"
   ]
  },
  {
   "cell_type": "markdown",
   "metadata": {},
   "source": [
    "Merge the dataframes on date and time:"
   ]
  },
  {
   "cell_type": "code",
   "execution_count": 11,
   "metadata": {
    "id": "gse4CqPUgAJ3"
   },
   "outputs": [
    {
     "data": {
      "text/html": [
       "<div>\n",
       "<style scoped>\n",
       "    .dataframe tbody tr th:only-of-type {\n",
       "        vertical-align: middle;\n",
       "    }\n",
       "\n",
       "    .dataframe tbody tr th {\n",
       "        vertical-align: top;\n",
       "    }\n",
       "\n",
       "    .dataframe thead th {\n",
       "        text-align: right;\n",
       "    }\n",
       "</style>\n",
       "<table border=\"1\" class=\"dataframe\">\n",
       "  <thead>\n",
       "    <tr style=\"text-align: right;\">\n",
       "      <th></th>\n",
       "      <th>Date_Time</th>\n",
       "      <th>stage</th>\n",
       "      <th>Quality_stage</th>\n",
       "      <th>Interpolation_x</th>\n",
       "      <th>Tags_x</th>\n",
       "      <th>Remarks_x</th>\n",
       "      <th>flow</th>\n",
       "      <th>Quality_flow</th>\n",
       "      <th>Interpolation_y</th>\n",
       "      <th>Tags_y</th>\n",
       "      <th>Remarks_y</th>\n",
       "    </tr>\n",
       "  </thead>\n",
       "  <tbody>\n",
       "    <tr>\n",
       "      <th>0</th>\n",
       "      <td>1973-07-23 11:00:00</td>\n",
       "      <td>0.472</td>\n",
       "      <td>200 (U)</td>\n",
       "      <td>linear interpolation</td>\n",
       "      <td>NaN</td>\n",
       "      <td>Digitised by CDS - Batch: Nov 2002</td>\n",
       "      <td>NaN</td>\n",
       "      <td>NaN</td>\n",
       "      <td>NaN</td>\n",
       "      <td>NaN</td>\n",
       "      <td>NaN</td>\n",
       "    </tr>\n",
       "    <tr>\n",
       "      <th>1</th>\n",
       "      <td>1973-07-23 12:00:00</td>\n",
       "      <td>0.468</td>\n",
       "      <td>200 (U)</td>\n",
       "      <td>linear interpolation</td>\n",
       "      <td>NaN</td>\n",
       "      <td>Digitised by CDS - Batch: Nov 2002</td>\n",
       "      <td>NaN</td>\n",
       "      <td>NaN</td>\n",
       "      <td>NaN</td>\n",
       "      <td>NaN</td>\n",
       "      <td>NaN</td>\n",
       "    </tr>\n",
       "    <tr>\n",
       "      <th>2</th>\n",
       "      <td>1973-07-23 13:00:00</td>\n",
       "      <td>0.463</td>\n",
       "      <td>200 (U)</td>\n",
       "      <td>linear interpolation</td>\n",
       "      <td>NaN</td>\n",
       "      <td>Digitised by CDS - Batch: Nov 2002</td>\n",
       "      <td>NaN</td>\n",
       "      <td>NaN</td>\n",
       "      <td>NaN</td>\n",
       "      <td>NaN</td>\n",
       "      <td>NaN</td>\n",
       "    </tr>\n",
       "    <tr>\n",
       "      <th>3</th>\n",
       "      <td>1973-07-23 14:00:00</td>\n",
       "      <td>0.458</td>\n",
       "      <td>200 (U)</td>\n",
       "      <td>linear interpolation</td>\n",
       "      <td>NaN</td>\n",
       "      <td>Digitised by CDS - Batch: Nov 2002</td>\n",
       "      <td>NaN</td>\n",
       "      <td>NaN</td>\n",
       "      <td>NaN</td>\n",
       "      <td>NaN</td>\n",
       "      <td>NaN</td>\n",
       "    </tr>\n",
       "    <tr>\n",
       "      <th>4</th>\n",
       "      <td>1973-07-23 15:00:00</td>\n",
       "      <td>0.454</td>\n",
       "      <td>200 (U)</td>\n",
       "      <td>linear interpolation</td>\n",
       "      <td>NaN</td>\n",
       "      <td>Digitised by CDS - Batch: Nov 2002</td>\n",
       "      <td>NaN</td>\n",
       "      <td>NaN</td>\n",
       "      <td>NaN</td>\n",
       "      <td>NaN</td>\n",
       "      <td>NaN</td>\n",
       "    </tr>\n",
       "  </tbody>\n",
       "</table>\n",
       "</div>"
      ],
      "text/plain": [
       "            Date_Time  stage Quality_stage       Interpolation_x  Tags_x  \\\n",
       "0 1973-07-23 11:00:00  0.472       200 (U)  linear interpolation     NaN   \n",
       "1 1973-07-23 12:00:00  0.468       200 (U)  linear interpolation     NaN   \n",
       "2 1973-07-23 13:00:00  0.463       200 (U)  linear interpolation     NaN   \n",
       "3 1973-07-23 14:00:00  0.458       200 (U)  linear interpolation     NaN   \n",
       "4 1973-07-23 15:00:00  0.454       200 (U)  linear interpolation     NaN   \n",
       "\n",
       "                            Remarks_x flow Quality_flow Interpolation_y  \\\n",
       "0  Digitised by CDS - Batch: Nov 2002  NaN          NaN             NaN   \n",
       "1  Digitised by CDS - Batch: Nov 2002  NaN          NaN             NaN   \n",
       "2  Digitised by CDS - Batch: Nov 2002  NaN          NaN             NaN   \n",
       "3  Digitised by CDS - Batch: Nov 2002  NaN          NaN             NaN   \n",
       "4  Digitised by CDS - Batch: Nov 2002  NaN          NaN             NaN   \n",
       "\n",
       "   Tags_y Remarks_y  \n",
       "0     NaN       NaN  \n",
       "1     NaN       NaN  \n",
       "2     NaN       NaN  \n",
       "3     NaN       NaN  \n",
       "4     NaN       NaN  "
      ]
     },
     "execution_count": 11,
     "metadata": {},
     "output_type": "execute_result"
    }
   ],
   "source": [
    "df_flow_and_stage = pd.merge(stage60_filtered, flow60_filtered, on=['Date_Time'], how='left') #Merge the dataframes\n",
    "\n",
    "df_flow_and_stage = df_flow_and_stage.rename(columns= #Renaming columns for ease of use\n",
    "                                             {'Quality_x':'Quality_stage', \n",
    "                                              'Quality_y':'Quality_flow', \n",
    "                                              'Flow [m³/s]':'flow',\n",
    "                                              'Stage [m]':'stage'})\n",
    "\n",
    "df_flow_and_stage.head()"
   ]
  },
  {
   "cell_type": "code",
   "execution_count": 12,
   "metadata": {},
   "outputs": [
    {
     "name": "stdout",
     "output_type": "stream",
     "text": [
      "['1987-02-11T16:00:00.000000000' '1987-02-11T17:00:00.000000000'\n",
      " '1987-02-11T18:00:00.000000000' '1987-02-11T19:00:00.000000000'\n",
      " '1987-02-11T20:00:00.000000000' '1987-02-11T21:00:00.000000000'\n",
      " '1987-02-11T22:00:00.000000000' '1987-02-11T23:00:00.000000000'\n",
      " '1987-02-12T00:00:00.000000000' '1987-02-12T01:00:00.000000000'\n",
      " '1987-02-12T02:00:00.000000000' '1987-02-12T03:00:00.000000000'\n",
      " '1987-02-12T04:00:00.000000000' '1987-02-12T05:00:00.000000000'\n",
      " '1987-02-12T06:00:00.000000000' '1987-02-12T07:00:00.000000000'\n",
      " '1987-02-12T08:00:00.000000000' '1987-02-12T09:00:00.000000000'\n",
      " '1987-02-12T10:00:00.000000000' '1987-02-12T11:00:00.000000000'\n",
      " '1987-02-12T12:00:00.000000000' '1987-02-12T13:00:00.000000000'\n",
      " '1987-02-12T14:00:00.000000000' '1987-02-12T15:00:00.000000000'\n",
      " '1987-02-12T16:00:00.000000000' '1987-02-12T17:00:00.000000000'\n",
      " '1987-02-12T18:00:00.000000000' '1987-02-12T19:00:00.000000000'\n",
      " '1987-02-12T20:00:00.000000000' '1987-02-12T21:00:00.000000000'\n",
      " '1987-02-12T22:00:00.000000000' '1987-02-12T23:00:00.000000000'\n",
      " '1987-02-13T00:00:00.000000000' '1987-02-13T01:00:00.000000000'\n",
      " '1987-02-13T02:00:00.000000000' '1987-02-13T03:00:00.000000000'\n",
      " '1987-02-13T04:00:00.000000000' '1987-02-13T05:00:00.000000000'\n",
      " '1987-02-13T06:00:00.000000000' '1987-02-13T07:00:00.000000000'\n",
      " '1987-02-13T08:00:00.000000000' '1987-02-13T09:00:00.000000000'\n",
      " '1987-02-13T10:00:00.000000000' '1987-02-13T11:00:00.000000000'\n",
      " '1987-02-13T12:00:00.000000000' '1987-02-13T13:00:00.000000000'\n",
      " '1987-02-13T14:00:00.000000000' '1987-02-13T15:00:00.000000000'\n",
      " '1987-02-13T16:00:00.000000000' '1987-02-13T17:00:00.000000000'\n",
      " '1987-02-13T18:00:00.000000000' '1987-02-13T19:00:00.000000000'\n",
      " '1987-02-13T20:00:00.000000000' '1987-02-13T21:00:00.000000000'\n",
      " '1987-02-13T22:00:00.000000000' '1987-02-13T23:00:00.000000000'\n",
      " '1987-02-14T00:00:00.000000000' '1987-02-14T01:00:00.000000000'\n",
      " '1987-02-14T02:00:00.000000000' '1987-02-14T03:00:00.000000000'\n",
      " '1987-02-14T04:00:00.000000000' '1987-02-14T05:00:00.000000000'\n",
      " '1987-02-14T06:00:00.000000000' '1987-02-14T07:00:00.000000000'\n",
      " '1987-02-14T08:00:00.000000000' '1987-02-14T09:00:00.000000000'\n",
      " '1987-02-14T10:00:00.000000000' '1987-02-14T11:00:00.000000000'\n",
      " '1987-02-14T12:00:00.000000000' '1987-02-14T13:00:00.000000000'\n",
      " '1987-02-14T14:00:00.000000000' '1987-02-14T15:00:00.000000000'\n",
      " '1987-02-14T16:00:00.000000000' '1987-02-14T17:00:00.000000000'\n",
      " '1987-02-14T18:00:00.000000000' '1987-02-14T19:00:00.000000000'\n",
      " '1987-02-14T20:00:00.000000000' '1987-02-14T21:00:00.000000000'\n",
      " '1987-02-14T22:00:00.000000000' '1987-02-14T23:00:00.000000000'\n",
      " '1987-02-15T00:00:00.000000000' '1987-02-15T01:00:00.000000000'\n",
      " '1987-02-15T02:00:00.000000000' '1987-02-15T03:00:00.000000000'\n",
      " '1987-02-15T04:00:00.000000000' '1987-02-15T05:00:00.000000000'\n",
      " '1987-02-15T06:00:00.000000000' '1987-02-15T07:00:00.000000000'\n",
      " '1987-02-15T08:00:00.000000000' '1987-02-15T09:00:00.000000000'\n",
      " '1987-02-15T10:00:00.000000000' '1987-02-15T11:00:00.000000000'\n",
      " '1987-02-15T12:00:00.000000000' '1987-02-15T13:00:00.000000000'\n",
      " '1987-02-15T14:00:00.000000000' '1987-02-15T15:00:00.000000000'\n",
      " '1987-02-15T16:00:00.000000000' '1987-02-15T17:00:00.000000000'\n",
      " '1987-02-15T18:00:00.000000000' '1987-02-15T19:00:00.000000000'\n",
      " '1987-02-15T20:00:00.000000000' '1987-02-15T21:00:00.000000000'\n",
      " '1987-02-15T22:00:00.000000000' '1987-02-15T23:00:00.000000000'\n",
      " '1987-02-16T00:00:00.000000000' '1987-02-16T01:00:00.000000000'\n",
      " '1987-02-16T02:00:00.000000000' '1987-02-16T03:00:00.000000000'\n",
      " '1987-02-16T04:00:00.000000000' '1987-02-16T05:00:00.000000000'\n",
      " '1987-02-16T06:00:00.000000000' '1987-02-16T07:00:00.000000000'\n",
      " '1987-02-16T08:00:00.000000000' '1987-02-16T09:00:00.000000000'\n",
      " '1987-02-16T10:00:00.000000000' '1987-02-16T11:00:00.000000000'\n",
      " '1987-02-16T12:00:00.000000000' '1987-02-16T13:00:00.000000000'\n",
      " '1987-02-16T14:00:00.000000000' '1987-02-16T15:00:00.000000000'\n",
      " '1987-02-16T16:00:00.000000000' '1987-02-16T17:00:00.000000000'\n",
      " '1987-02-16T18:00:00.000000000' '1987-02-16T19:00:00.000000000'\n",
      " '1987-02-16T20:00:00.000000000' '1987-02-16T21:00:00.000000000'\n",
      " '1987-02-16T22:00:00.000000000' '1987-02-16T23:00:00.000000000'\n",
      " '1987-02-17T00:00:00.000000000' '1987-02-17T01:00:00.000000000'\n",
      " '1987-02-17T02:00:00.000000000' '1987-02-17T03:00:00.000000000'\n",
      " '1987-02-17T04:00:00.000000000' '1987-02-17T05:00:00.000000000'\n",
      " '1987-02-17T06:00:00.000000000' '1987-02-17T07:00:00.000000000'\n",
      " '1987-02-17T08:00:00.000000000' '1987-02-17T09:00:00.000000000'\n",
      " '1987-02-17T10:00:00.000000000' '1987-02-17T11:00:00.000000000'\n",
      " '1987-02-17T12:00:00.000000000' '1987-02-17T13:00:00.000000000'\n",
      " '1987-02-17T14:00:00.000000000' '1987-02-17T15:00:00.000000000'\n",
      " '1987-02-17T16:00:00.000000000' '1987-02-17T17:00:00.000000000'\n",
      " '1987-02-17T18:00:00.000000000' '1987-02-17T19:00:00.000000000'\n",
      " '1987-02-17T20:00:00.000000000' '1987-02-17T21:00:00.000000000'\n",
      " '1987-02-17T22:00:00.000000000' '1987-02-17T23:00:00.000000000'\n",
      " '1987-02-18T00:00:00.000000000' '1987-02-18T01:00:00.000000000'\n",
      " '1987-02-18T02:00:00.000000000' '1987-02-18T03:00:00.000000000'\n",
      " '1987-02-18T04:00:00.000000000' '1987-02-18T05:00:00.000000000'\n",
      " '1987-02-18T06:00:00.000000000' '1987-02-18T07:00:00.000000000'\n",
      " '1987-02-18T08:00:00.000000000' '1987-02-18T09:00:00.000000000'\n",
      " '1987-02-18T10:00:00.000000000' '1987-02-18T11:00:00.000000000'\n",
      " '1987-02-18T12:00:00.000000000' '1987-03-25T13:00:00.000000000'\n",
      " '1987-03-25T14:00:00.000000000' '1987-03-25T15:00:00.000000000'\n",
      " '1987-03-25T16:00:00.000000000' '1987-03-25T17:00:00.000000000'\n",
      " '1987-03-25T18:00:00.000000000' '1987-03-25T19:00:00.000000000'\n",
      " '1987-03-25T20:00:00.000000000' '1987-03-25T21:00:00.000000000'\n",
      " '1987-03-25T22:00:00.000000000' '1987-03-25T23:00:00.000000000'\n",
      " '1987-03-26T00:00:00.000000000' '1987-03-26T01:00:00.000000000'\n",
      " '1987-03-26T02:00:00.000000000' '1987-03-26T03:00:00.000000000'\n",
      " '1987-03-26T04:00:00.000000000' '1987-03-26T05:00:00.000000000'\n",
      " '1987-03-26T06:00:00.000000000' '1987-03-26T07:00:00.000000000'\n",
      " '1987-03-26T08:00:00.000000000' '1987-03-26T09:00:00.000000000'\n",
      " '1987-03-26T10:00:00.000000000' '1987-03-26T11:00:00.000000000'\n",
      " '1987-03-26T12:00:00.000000000' '1987-03-26T13:00:00.000000000'\n",
      " '1987-03-26T14:00:00.000000000' '1987-03-26T15:00:00.000000000'\n",
      " '1987-03-26T16:00:00.000000000' '1987-03-26T17:00:00.000000000'\n",
      " '1987-03-26T18:00:00.000000000' '1987-03-26T19:00:00.000000000'\n",
      " '1987-03-26T20:00:00.000000000' '1987-03-26T21:00:00.000000000'\n",
      " '1987-03-26T22:00:00.000000000' '1987-03-26T23:00:00.000000000'\n",
      " '1987-03-27T00:00:00.000000000' '1987-03-27T01:00:00.000000000'\n",
      " '1987-03-27T02:00:00.000000000' '1987-03-27T03:00:00.000000000'\n",
      " '1987-03-27T04:00:00.000000000' '1987-03-27T05:00:00.000000000'\n",
      " '1987-03-27T06:00:00.000000000' '1987-03-27T07:00:00.000000000'\n",
      " '1987-03-27T08:00:00.000000000' '1987-03-27T09:00:00.000000000'\n",
      " '1987-03-27T10:00:00.000000000' '1987-03-27T11:00:00.000000000'\n",
      " '1987-03-27T12:00:00.000000000' '1987-03-27T13:00:00.000000000'\n",
      " '1987-03-27T14:00:00.000000000' '1987-03-27T15:00:00.000000000'\n",
      " '1987-03-27T16:00:00.000000000' '1987-03-27T17:00:00.000000000'\n",
      " '1987-03-27T18:00:00.000000000' '1987-03-27T19:00:00.000000000'\n",
      " '1987-03-27T20:00:00.000000000' '1987-03-27T21:00:00.000000000'\n",
      " '1987-03-27T22:00:00.000000000' '1987-03-27T23:00:00.000000000'\n",
      " '1987-03-28T00:00:00.000000000' '1987-03-28T01:00:00.000000000'\n",
      " '1987-03-28T02:00:00.000000000' '1987-03-28T03:00:00.000000000'\n",
      " '1987-03-28T04:00:00.000000000' '1987-03-28T05:00:00.000000000'\n",
      " '1987-03-28T06:00:00.000000000' '1987-03-28T07:00:00.000000000'\n",
      " '1987-03-28T08:00:00.000000000' '1987-03-28T09:00:00.000000000'\n",
      " '1987-03-28T10:00:00.000000000' '1987-03-28T11:00:00.000000000'\n",
      " '1987-03-28T12:00:00.000000000' '1987-03-28T13:00:00.000000000'\n",
      " '1987-03-28T14:00:00.000000000' '1987-03-28T15:00:00.000000000'\n",
      " '1987-03-28T16:00:00.000000000' '1987-03-28T17:00:00.000000000'\n",
      " '1987-03-28T18:00:00.000000000' '1987-03-28T19:00:00.000000000'\n",
      " '1987-03-28T20:00:00.000000000' '1987-03-28T21:00:00.000000000'\n",
      " '1987-03-28T22:00:00.000000000' '1987-03-28T23:00:00.000000000'\n",
      " '1987-03-29T00:00:00.000000000' '1987-03-29T01:00:00.000000000'\n",
      " '1987-03-29T02:00:00.000000000' '1987-03-29T03:00:00.000000000'\n",
      " '1987-03-29T04:00:00.000000000' '1987-03-29T05:00:00.000000000'\n",
      " '1987-03-29T06:00:00.000000000' '1987-03-29T07:00:00.000000000'\n",
      " '1987-03-29T08:00:00.000000000' '1987-03-29T09:00:00.000000000'\n",
      " '1987-03-29T10:00:00.000000000' '1987-03-29T11:00:00.000000000'\n",
      " '1987-03-29T12:00:00.000000000' '1987-03-29T13:00:00.000000000'\n",
      " '1987-03-29T14:00:00.000000000' '1987-03-29T15:00:00.000000000'\n",
      " '1987-03-29T16:00:00.000000000' '1987-03-29T17:00:00.000000000'\n",
      " '1987-03-29T18:00:00.000000000' '1987-03-29T19:00:00.000000000'\n",
      " '1987-03-29T20:00:00.000000000' '1987-03-29T21:00:00.000000000'\n",
      " '1987-03-29T22:00:00.000000000' '1987-03-29T23:00:00.000000000'\n",
      " '1987-03-30T00:00:00.000000000' '1987-03-30T01:00:00.000000000'\n",
      " '1987-03-30T02:00:00.000000000' '1987-03-30T03:00:00.000000000'\n",
      " '1987-03-30T04:00:00.000000000' '1987-03-30T05:00:00.000000000'\n",
      " '1987-03-30T06:00:00.000000000' '1987-03-30T07:00:00.000000000'\n",
      " '1987-03-30T08:00:00.000000000' '1987-03-30T09:00:00.000000000'\n",
      " '1987-03-30T10:00:00.000000000' '1987-03-30T11:00:00.000000000'\n",
      " '1987-03-30T12:00:00.000000000' '1987-03-30T13:00:00.000000000'\n",
      " '1987-03-30T14:00:00.000000000' '1987-03-30T15:00:00.000000000'\n",
      " '1987-03-30T16:00:00.000000000' '1987-03-30T17:00:00.000000000'\n",
      " '1987-03-30T18:00:00.000000000' '1987-03-30T19:00:00.000000000'\n",
      " '1987-03-30T20:00:00.000000000' '1987-03-30T21:00:00.000000000'\n",
      " '1987-03-30T22:00:00.000000000' '1987-03-30T23:00:00.000000000'\n",
      " '1987-03-31T00:00:00.000000000' '1987-03-31T01:00:00.000000000'\n",
      " '1987-03-31T02:00:00.000000000' '1987-03-31T03:00:00.000000000'\n",
      " '1987-03-31T04:00:00.000000000' '1987-03-31T05:00:00.000000000'\n",
      " '1987-03-31T06:00:00.000000000' '1987-03-31T07:00:00.000000000'\n",
      " '1987-03-31T08:00:00.000000000' '1987-03-31T09:00:00.000000000'\n",
      " '1987-03-31T10:00:00.000000000' '1987-03-31T11:00:00.000000000'\n",
      " '1987-03-31T12:00:00.000000000' '1987-03-31T13:00:00.000000000'\n",
      " '1987-03-31T14:00:00.000000000' '1987-03-31T15:00:00.000000000'\n",
      " '1987-03-31T16:00:00.000000000' '1987-03-31T17:00:00.000000000'\n",
      " '1987-03-31T18:00:00.000000000' '1987-03-31T19:00:00.000000000'\n",
      " '1987-03-31T20:00:00.000000000' '1987-03-31T21:00:00.000000000'\n",
      " '1987-03-31T22:00:00.000000000' '1987-03-31T23:00:00.000000000'\n",
      " '1987-04-01T00:00:00.000000000' '1987-04-01T01:00:00.000000000'\n",
      " '1987-04-01T02:00:00.000000000' '1987-04-01T03:00:00.000000000'\n",
      " '1987-04-01T04:00:00.000000000' '1987-04-01T05:00:00.000000000'\n",
      " '1987-04-01T06:00:00.000000000' '1987-04-01T07:00:00.000000000'\n",
      " '1987-04-01T08:00:00.000000000' '1987-04-01T09:00:00.000000000'\n",
      " '1987-04-01T10:00:00.000000000' '1987-04-01T11:00:00.000000000'\n",
      " '1987-04-01T12:00:00.000000000' '1987-04-01T13:00:00.000000000'\n",
      " '1987-04-01T14:00:00.000000000']\n"
     ]
    }
   ],
   "source": [
    "print(df_flow_and_stage['Date_Time'][df_flow_and_stage['Quality_flow']=='missing'].unique())"
   ]
  },
  {
   "cell_type": "code",
   "execution_count": 13,
   "metadata": {},
   "outputs": [
    {
     "name": "stdout",
     "output_type": "stream",
     "text": [
      "['1987-02-11T16:00:00.000000000' '1987-02-11T17:00:00.000000000'\n",
      " '1987-02-11T18:00:00.000000000' '1987-02-11T19:00:00.000000000'\n",
      " '1987-02-11T20:00:00.000000000' '1987-02-11T21:00:00.000000000'\n",
      " '1987-02-11T22:00:00.000000000' '1987-02-11T23:00:00.000000000'\n",
      " '1987-02-12T00:00:00.000000000' '1987-02-12T01:00:00.000000000'\n",
      " '1987-02-12T02:00:00.000000000' '1987-02-12T03:00:00.000000000'\n",
      " '1987-02-12T04:00:00.000000000' '1987-02-12T05:00:00.000000000'\n",
      " '1987-02-12T06:00:00.000000000' '1987-02-12T07:00:00.000000000'\n",
      " '1987-02-12T08:00:00.000000000' '1987-02-12T09:00:00.000000000'\n",
      " '1987-02-12T10:00:00.000000000' '1987-02-12T11:00:00.000000000'\n",
      " '1987-02-12T12:00:00.000000000' '1987-02-12T13:00:00.000000000'\n",
      " '1987-02-12T14:00:00.000000000' '1987-02-12T15:00:00.000000000'\n",
      " '1987-02-12T16:00:00.000000000' '1987-02-12T17:00:00.000000000'\n",
      " '1987-02-12T18:00:00.000000000' '1987-02-12T19:00:00.000000000'\n",
      " '1987-02-12T20:00:00.000000000' '1987-02-12T21:00:00.000000000'\n",
      " '1987-02-12T22:00:00.000000000' '1987-02-12T23:00:00.000000000'\n",
      " '1987-02-13T00:00:00.000000000' '1987-02-13T01:00:00.000000000'\n",
      " '1987-02-13T02:00:00.000000000' '1987-02-13T03:00:00.000000000'\n",
      " '1987-02-13T04:00:00.000000000' '1987-02-13T05:00:00.000000000'\n",
      " '1987-02-13T06:00:00.000000000' '1987-02-13T07:00:00.000000000'\n",
      " '1987-02-13T08:00:00.000000000' '1987-02-13T09:00:00.000000000'\n",
      " '1987-02-13T10:00:00.000000000' '1987-02-13T11:00:00.000000000'\n",
      " '1987-02-13T12:00:00.000000000' '1987-02-13T13:00:00.000000000'\n",
      " '1987-02-13T14:00:00.000000000' '1987-02-13T15:00:00.000000000'\n",
      " '1987-02-13T16:00:00.000000000' '1987-02-13T17:00:00.000000000'\n",
      " '1987-02-13T18:00:00.000000000' '1987-02-13T19:00:00.000000000'\n",
      " '1987-02-13T20:00:00.000000000' '1987-02-13T21:00:00.000000000'\n",
      " '1987-02-13T22:00:00.000000000' '1987-02-13T23:00:00.000000000'\n",
      " '1987-02-14T00:00:00.000000000' '1987-02-14T01:00:00.000000000'\n",
      " '1987-02-14T02:00:00.000000000' '1987-02-14T03:00:00.000000000'\n",
      " '1987-02-14T04:00:00.000000000' '1987-02-14T05:00:00.000000000'\n",
      " '1987-02-14T06:00:00.000000000' '1987-02-14T07:00:00.000000000'\n",
      " '1987-02-14T08:00:00.000000000' '1987-02-14T09:00:00.000000000'\n",
      " '1987-02-14T10:00:00.000000000' '1987-02-14T11:00:00.000000000'\n",
      " '1987-02-14T12:00:00.000000000' '1987-02-14T13:00:00.000000000'\n",
      " '1987-02-14T14:00:00.000000000' '1987-02-14T15:00:00.000000000'\n",
      " '1987-02-14T16:00:00.000000000' '1987-02-14T17:00:00.000000000'\n",
      " '1987-02-14T18:00:00.000000000' '1987-02-14T19:00:00.000000000'\n",
      " '1987-02-14T20:00:00.000000000' '1987-02-14T21:00:00.000000000'\n",
      " '1987-02-14T22:00:00.000000000' '1987-02-14T23:00:00.000000000'\n",
      " '1987-02-15T00:00:00.000000000' '1987-02-15T01:00:00.000000000'\n",
      " '1987-02-15T02:00:00.000000000' '1987-02-15T03:00:00.000000000'\n",
      " '1987-02-15T04:00:00.000000000' '1987-02-15T05:00:00.000000000'\n",
      " '1987-02-15T06:00:00.000000000' '1987-02-15T07:00:00.000000000'\n",
      " '1987-02-15T08:00:00.000000000' '1987-02-15T09:00:00.000000000'\n",
      " '1987-02-15T10:00:00.000000000' '1987-02-15T11:00:00.000000000'\n",
      " '1987-02-15T12:00:00.000000000' '1987-02-15T13:00:00.000000000'\n",
      " '1987-02-15T14:00:00.000000000' '1987-02-15T15:00:00.000000000'\n",
      " '1987-02-15T16:00:00.000000000' '1987-02-15T17:00:00.000000000'\n",
      " '1987-02-15T18:00:00.000000000' '1987-02-15T19:00:00.000000000'\n",
      " '1987-02-15T20:00:00.000000000' '1987-02-15T21:00:00.000000000'\n",
      " '1987-02-15T22:00:00.000000000' '1987-02-15T23:00:00.000000000'\n",
      " '1987-02-16T00:00:00.000000000' '1987-02-16T01:00:00.000000000'\n",
      " '1987-02-16T02:00:00.000000000' '1987-02-16T03:00:00.000000000'\n",
      " '1987-02-16T04:00:00.000000000' '1987-02-16T05:00:00.000000000'\n",
      " '1987-02-16T06:00:00.000000000' '1987-02-16T07:00:00.000000000'\n",
      " '1987-02-16T08:00:00.000000000' '1987-02-16T09:00:00.000000000'\n",
      " '1987-02-16T10:00:00.000000000' '1987-02-16T11:00:00.000000000'\n",
      " '1987-02-16T12:00:00.000000000' '1987-02-16T13:00:00.000000000'\n",
      " '1987-02-16T14:00:00.000000000' '1987-02-16T15:00:00.000000000'\n",
      " '1987-02-16T16:00:00.000000000' '1987-02-16T17:00:00.000000000'\n",
      " '1987-02-16T18:00:00.000000000' '1987-02-16T19:00:00.000000000'\n",
      " '1987-02-16T20:00:00.000000000' '1987-02-16T21:00:00.000000000'\n",
      " '1987-02-16T22:00:00.000000000' '1987-02-16T23:00:00.000000000'\n",
      " '1987-02-17T00:00:00.000000000' '1987-02-17T01:00:00.000000000'\n",
      " '1987-02-17T02:00:00.000000000' '1987-02-17T03:00:00.000000000'\n",
      " '1987-02-17T04:00:00.000000000' '1987-02-17T05:00:00.000000000'\n",
      " '1987-02-17T06:00:00.000000000' '1987-02-17T07:00:00.000000000'\n",
      " '1987-02-17T08:00:00.000000000' '1987-02-17T09:00:00.000000000'\n",
      " '1987-02-17T10:00:00.000000000' '1987-02-17T11:00:00.000000000'\n",
      " '1987-02-17T12:00:00.000000000' '1987-02-17T13:00:00.000000000'\n",
      " '1987-02-17T14:00:00.000000000' '1987-02-17T15:00:00.000000000'\n",
      " '1987-02-17T16:00:00.000000000' '1987-02-17T17:00:00.000000000'\n",
      " '1987-02-17T18:00:00.000000000' '1987-02-17T19:00:00.000000000'\n",
      " '1987-02-17T20:00:00.000000000' '1987-02-17T21:00:00.000000000'\n",
      " '1987-02-17T22:00:00.000000000' '1987-02-17T23:00:00.000000000'\n",
      " '1987-02-18T00:00:00.000000000' '1987-02-18T01:00:00.000000000'\n",
      " '1987-02-18T02:00:00.000000000' '1987-02-18T03:00:00.000000000'\n",
      " '1987-02-18T04:00:00.000000000' '1987-02-18T05:00:00.000000000'\n",
      " '1987-02-18T06:00:00.000000000' '1987-02-18T07:00:00.000000000'\n",
      " '1987-02-18T08:00:00.000000000' '1987-02-18T09:00:00.000000000'\n",
      " '1987-02-18T10:00:00.000000000' '1987-02-18T11:00:00.000000000'\n",
      " '1987-02-18T12:00:00.000000000' '1987-03-25T13:00:00.000000000'\n",
      " '1987-03-25T14:00:00.000000000' '1987-03-25T15:00:00.000000000'\n",
      " '1987-03-25T16:00:00.000000000' '1987-03-25T17:00:00.000000000'\n",
      " '1987-03-25T18:00:00.000000000' '1987-03-25T19:00:00.000000000'\n",
      " '1987-03-25T20:00:00.000000000' '1987-03-25T21:00:00.000000000'\n",
      " '1987-03-25T22:00:00.000000000' '1987-03-25T23:00:00.000000000'\n",
      " '1987-03-26T00:00:00.000000000' '1987-03-26T01:00:00.000000000'\n",
      " '1987-03-26T02:00:00.000000000' '1987-03-26T03:00:00.000000000'\n",
      " '1987-03-26T04:00:00.000000000' '1987-03-26T05:00:00.000000000'\n",
      " '1987-03-26T06:00:00.000000000' '1987-03-26T07:00:00.000000000'\n",
      " '1987-03-26T08:00:00.000000000' '1987-03-26T09:00:00.000000000'\n",
      " '1987-03-26T10:00:00.000000000' '1987-03-26T11:00:00.000000000'\n",
      " '1987-03-26T12:00:00.000000000' '1987-03-26T13:00:00.000000000'\n",
      " '1987-03-26T14:00:00.000000000' '1987-03-26T15:00:00.000000000'\n",
      " '1987-03-26T16:00:00.000000000' '1987-03-26T17:00:00.000000000'\n",
      " '1987-03-26T18:00:00.000000000' '1987-03-26T19:00:00.000000000'\n",
      " '1987-03-26T20:00:00.000000000' '1987-03-26T21:00:00.000000000'\n",
      " '1987-03-26T22:00:00.000000000' '1987-03-26T23:00:00.000000000'\n",
      " '1987-03-27T00:00:00.000000000' '1987-03-27T01:00:00.000000000'\n",
      " '1987-03-27T02:00:00.000000000' '1987-03-27T03:00:00.000000000'\n",
      " '1987-03-27T04:00:00.000000000' '1987-03-27T05:00:00.000000000'\n",
      " '1987-03-27T06:00:00.000000000' '1987-03-27T07:00:00.000000000'\n",
      " '1987-03-27T08:00:00.000000000' '1987-03-27T09:00:00.000000000'\n",
      " '1987-03-27T10:00:00.000000000' '1987-03-27T11:00:00.000000000'\n",
      " '1987-03-27T12:00:00.000000000' '1987-03-27T13:00:00.000000000'\n",
      " '1987-03-27T14:00:00.000000000' '1987-03-27T15:00:00.000000000'\n",
      " '1987-03-27T16:00:00.000000000' '1987-03-27T17:00:00.000000000'\n",
      " '1987-03-27T18:00:00.000000000' '1987-03-27T19:00:00.000000000'\n",
      " '1987-03-27T20:00:00.000000000' '1987-03-27T21:00:00.000000000'\n",
      " '1987-03-27T22:00:00.000000000' '1987-03-27T23:00:00.000000000'\n",
      " '1987-03-28T00:00:00.000000000' '1987-03-28T01:00:00.000000000'\n",
      " '1987-03-28T02:00:00.000000000' '1987-03-28T03:00:00.000000000'\n",
      " '1987-03-28T04:00:00.000000000' '1987-03-28T05:00:00.000000000'\n",
      " '1987-03-28T06:00:00.000000000' '1987-03-28T07:00:00.000000000'\n",
      " '1987-03-28T08:00:00.000000000' '1987-03-28T09:00:00.000000000'\n",
      " '1987-03-28T10:00:00.000000000' '1987-03-28T11:00:00.000000000'\n",
      " '1987-03-28T12:00:00.000000000' '1987-03-28T13:00:00.000000000'\n",
      " '1987-03-28T14:00:00.000000000' '1987-03-28T15:00:00.000000000'\n",
      " '1987-03-28T16:00:00.000000000' '1987-03-28T17:00:00.000000000'\n",
      " '1987-03-28T18:00:00.000000000' '1987-03-28T19:00:00.000000000'\n",
      " '1987-03-28T20:00:00.000000000' '1987-03-28T21:00:00.000000000'\n",
      " '1987-03-28T22:00:00.000000000' '1987-03-28T23:00:00.000000000'\n",
      " '1987-03-29T00:00:00.000000000' '1987-03-29T01:00:00.000000000'\n",
      " '1987-03-29T02:00:00.000000000' '1987-03-29T03:00:00.000000000'\n",
      " '1987-03-29T04:00:00.000000000' '1987-03-29T05:00:00.000000000'\n",
      " '1987-03-29T06:00:00.000000000' '1987-03-29T07:00:00.000000000'\n",
      " '1987-03-29T08:00:00.000000000' '1987-03-29T09:00:00.000000000'\n",
      " '1987-03-29T10:00:00.000000000' '1987-03-29T11:00:00.000000000'\n",
      " '1987-03-29T12:00:00.000000000' '1987-03-29T13:00:00.000000000'\n",
      " '1987-03-29T14:00:00.000000000' '1987-03-29T15:00:00.000000000'\n",
      " '1987-03-29T16:00:00.000000000' '1987-03-29T17:00:00.000000000'\n",
      " '1987-03-29T18:00:00.000000000' '1987-03-29T19:00:00.000000000'\n",
      " '1987-03-29T20:00:00.000000000' '1987-03-29T21:00:00.000000000'\n",
      " '1987-03-29T22:00:00.000000000' '1987-03-29T23:00:00.000000000'\n",
      " '1987-03-30T00:00:00.000000000' '1987-03-30T01:00:00.000000000'\n",
      " '1987-03-30T02:00:00.000000000' '1987-03-30T03:00:00.000000000'\n",
      " '1987-03-30T04:00:00.000000000' '1987-03-30T05:00:00.000000000'\n",
      " '1987-03-30T06:00:00.000000000' '1987-03-30T07:00:00.000000000'\n",
      " '1987-03-30T08:00:00.000000000' '1987-03-30T09:00:00.000000000'\n",
      " '1987-03-30T10:00:00.000000000' '1987-03-30T11:00:00.000000000'\n",
      " '1987-03-30T12:00:00.000000000' '1987-03-30T13:00:00.000000000'\n",
      " '1987-03-30T14:00:00.000000000' '1987-03-30T15:00:00.000000000'\n",
      " '1987-03-30T16:00:00.000000000' '1987-03-30T17:00:00.000000000'\n",
      " '1987-03-30T18:00:00.000000000' '1987-03-30T19:00:00.000000000'\n",
      " '1987-03-30T20:00:00.000000000' '1987-03-30T21:00:00.000000000'\n",
      " '1987-03-30T22:00:00.000000000' '1987-03-30T23:00:00.000000000'\n",
      " '1987-03-31T00:00:00.000000000' '1987-03-31T01:00:00.000000000'\n",
      " '1987-03-31T02:00:00.000000000' '1987-03-31T03:00:00.000000000'\n",
      " '1987-03-31T04:00:00.000000000' '1987-03-31T05:00:00.000000000'\n",
      " '1987-03-31T06:00:00.000000000' '1987-03-31T07:00:00.000000000'\n",
      " '1987-03-31T08:00:00.000000000' '1987-03-31T09:00:00.000000000'\n",
      " '1987-03-31T10:00:00.000000000' '1987-03-31T11:00:00.000000000'\n",
      " '1987-03-31T12:00:00.000000000' '1987-03-31T13:00:00.000000000'\n",
      " '1987-03-31T14:00:00.000000000' '1987-03-31T15:00:00.000000000'\n",
      " '1987-03-31T16:00:00.000000000' '1987-03-31T17:00:00.000000000'\n",
      " '1987-03-31T18:00:00.000000000' '1987-03-31T19:00:00.000000000'\n",
      " '1987-03-31T20:00:00.000000000' '1987-03-31T21:00:00.000000000'\n",
      " '1987-03-31T22:00:00.000000000' '1987-03-31T23:00:00.000000000'\n",
      " '1987-04-01T00:00:00.000000000' '1987-04-01T01:00:00.000000000'\n",
      " '1987-04-01T02:00:00.000000000' '1987-04-01T03:00:00.000000000'\n",
      " '1987-04-01T04:00:00.000000000' '1987-04-01T05:00:00.000000000'\n",
      " '1987-04-01T06:00:00.000000000' '1987-04-01T07:00:00.000000000'\n",
      " '1987-04-01T08:00:00.000000000' '1987-04-01T09:00:00.000000000'\n",
      " '1987-04-01T10:00:00.000000000' '1987-04-01T11:00:00.000000000'\n",
      " '1987-04-01T12:00:00.000000000' '1987-04-01T13:00:00.000000000'\n",
      " '1987-04-01T14:00:00.000000000']\n"
     ]
    }
   ],
   "source": [
    "print(df_flow_and_stage['Date_Time'][df_flow_and_stage['Quality_flow']=='missing'].unique())"
   ]
  },
  {
   "cell_type": "markdown",
   "metadata": {},
   "source": [
    "# Attempting to predict missing flow data from stage data:"
   ]
  },
  {
   "cell_type": "code",
   "execution_count": 14,
   "metadata": {},
   "outputs": [],
   "source": [
    "#Get rid of any input pairs to the regression with missing values\n",
    "df_flow_and_stage_complete = df_flow_and_stage[df_flow_and_stage['Quality_flow'] != 'missing']  \n",
    "df_flow_and_stage_complete = df_flow_and_stage_complete[ df_flow_and_stage_complete['flow'].notnull() ] \n"
   ]
  },
  {
   "cell_type": "markdown",
   "metadata": {},
   "source": [
    "Post both sensors being installed, if one of either stage or flow data is missing then the other is also missing. There's not much missing though."
   ]
  },
  {
   "cell_type": "markdown",
   "metadata": {},
   "source": [
    "### Scatter plot Flow vs. Stage"
   ]
  },
  {
   "cell_type": "code",
   "execution_count": 15,
   "metadata": {},
   "outputs": [
    {
     "data": {
      "text/plain": [
       "<AxesSubplot:xlabel='stage', ylabel='flow'>"
      ]
     },
     "execution_count": 15,
     "metadata": {},
     "output_type": "execute_result"
    },
    {
     "data": {
      "image/png": "[encoded data removed]",
      "text/plain": [
       "<Figure size 432x288 with 1 Axes>"
      ]
     },
     "metadata": {
      "needs_background": "light"
     },
     "output_type": "display_data"
    }
   ],
   "source": [
    "df_flow_and_stage_complete.plot.scatter(x='stage', y='flow')"
   ]
  },
  {
   "cell_type": "markdown",
   "metadata": {},
   "source": [
    "It looks like pretty straightforward curve with a little noise at first"
   ]
  },
  {
   "cell_type": "code",
   "execution_count": 16,
   "metadata": {},
   "outputs": [
    {
     "data": {
      "text/plain": [
       "(15.0, 25.0)"
      ]
     },
     "execution_count": 16,
     "metadata": {},
     "output_type": "execute_result"
    },
    {
     "data": {
      "image/png": "[encoded data removed]",
      "text/plain": [
       "<Figure size 432x288 with 1 Axes>"
      ]
     },
     "metadata": {
      "needs_background": "light"
     },
     "output_type": "display_data"
    }
   ],
   "source": [
    "df_flow_and_stage_complete.plot.scatter(x='stage', y='flow')\n",
    "plt.xlim([2,3])\n",
    "plt.ylim([15,25])"
   ]
  },
  {
   "cell_type": "markdown",
   "metadata": {},
   "source": [
    "But if we zoom in it actually looks more like a few curves on top of each other. I would imagine that this is probably because it's not exactly the same set of sensors that were used in 1974. It would probably be best to try and separate them by time slicing the data, but we'll leave it for now."
   ]
  },
  {
   "cell_type": "markdown",
   "metadata": {},
   "source": [
    "### Gaussian Process Fit"
   ]
  },
  {
   "cell_type": "markdown",
   "metadata": {},
   "source": [
    "Use a Gaussian process to predict flow data from stage data - taking every 500th data point to save memory, and also including the 100 data points with the highest value, because there aren't very many in that range and most of them would get missed by only taking 1/500th of the data."
   ]
  },
  {
   "cell_type": "code",
   "execution_count": 17,
   "metadata": {},
   "outputs": [
    {
     "name": "stdout",
     "output_type": "stream",
     "text": [
      "RBF(length_scale=0.712)\n"
     ]
    }
   ],
   "source": [
    "from sklearn.gaussian_process import GaussianProcessRegressor\n",
    "from sklearn.gaussian_process.kernels import ConstantKernel, RBF\n",
    "\n",
    "X = df_flow_and_stage_complete['stage'].values.reshape(-1,1)\n",
    "y = df_flow_and_stage_complete['flow'].values\n",
    "\n",
    "y = y[np.argsort(X, axis=0)] #Reorder them from time order to ascending by value\n",
    "X = np.sort(X, axis=0) #So that the line plot looks sensible\n",
    "\n",
    "X_train = np.append(X[0::500], X[-100:], axis = 0) #Every 500th data point and the last 100\n",
    "y_train = np.append(y[0::500], y[-100:], axis = 0)\n",
    "\n",
    "\n",
    "#Sort X_train into ascending order (for plotting)\n",
    "\n",
    "\n",
    "kernel = RBF(1, (1e-2, 1e2))\n",
    "\n",
    "gp = GaussianProcessRegressor(kernel=kernel,\n",
    "                              n_restarts_optimizer=10, alpha = 0.1**2)\n",
    "\n",
    "gp.fit(X_train, y_train)\n",
    "\n",
    "print(gp.kernel_)"
   ]
  },
  {
   "cell_type": "markdown",
   "metadata": {},
   "source": [
    "R^2 Score for the predictions:\n",
    "\n",
    "(Note that this does actually include the training data too but it only makes up 1/500th~ish of the dataset, so it's probably ok, and I don't have to write code to take it out)"
   ]
  },
  {
   "cell_type": "code",
   "execution_count": 18,
   "metadata": {},
   "outputs": [
    {
     "data": {
      "text/plain": [
       "0.9959571302964758"
      ]
     },
     "execution_count": 18,
     "metadata": {},
     "output_type": "execute_result"
    }
   ],
   "source": [
    "gp.score(X, y)"
   ]
  },
  {
   "cell_type": "code",
   "execution_count": 19,
   "metadata": {},
   "outputs": [
    {
     "name": "stdout",
     "output_type": "stream",
     "text": [
      "RMS error in flow is: 0.17866404033793779 [m³/s]\n",
      "MAP error in flow is: 6.083800714384365%\n"
     ]
    }
   ],
   "source": [
    "y_pred, sigma = gp.predict(X, return_std=True)\n",
    "\n",
    "mean_sq_err = ((y_pred - y)**2).mean()\n",
    "\n",
    "print(\"RMS error in flow is: \" + str(np.sqrt(mean_sq_err)) + \" [m³/s]\")\n",
    "\n",
    "mean_abs_prc_err = (abs( (y_pred - y) / y) ).mean()\n",
    "\n",
    "print(\"MAP error in flow is: \" + str(100*mean_abs_prc_err) + \"%\")"
   ]
  },
  {
   "cell_type": "markdown",
   "metadata": {},
   "source": [
    "We could probably get those numbers down by separating the apparent curves in the data as above. 5% doesn't seem too awful so we can come back to it later"
   ]
  },
  {
   "cell_type": "code",
   "execution_count": 20,
   "metadata": {},
   "outputs": [
    {
     "data": {
      "image/png": "[encoded data removed]",
      "text/plain": [
       "<Figure size 432x288 with 1 Axes>"
      ]
     },
     "metadata": {
      "needs_background": "light"
     },
     "output_type": "display_data"
    }
   ],
   "source": [
    "#Plot predictions based on the training data to avoid memory errors\n",
    "y_pred_train, sigma = gp.predict(X_train, return_std=True) \n",
    "\n",
    "plt.figure()\n",
    "plt.plot(X_train, y_pred_train, 'firebrick', label='Prediction')\n",
    "#plt.scatter(X, y, marker='x', color='coral', label = 'Observations')\n",
    "plt.xlabel('Stage [m]')\n",
    "plt.ylabel('Flow [m³/s]')\n",
    "plt.title('Prediction of flow from stage data')\n",
    "\n",
    "plt.legend(loc='upper left')\n",
    "\n",
    "plt.show()"
   ]
  },
  {
   "cell_type": "code",
   "execution_count": 21,
   "metadata": {},
   "outputs": [
    {
     "data": {
      "image/png": "[encoded data removed]",
      "text/plain": [
       "<Figure size 432x288 with 1 Axes>"
      ]
     },
     "metadata": {
      "needs_background": "light"
     },
     "output_type": "display_data"
    }
   ],
   "source": [
    "y_pred, sigma = gp.predict(X_train, return_std=True)\n",
    "\n",
    "plt.figure()\n",
    "#plt.plot(x, f(x), 'r:', label=r'$f(x) = x\\,\\sin(x)$')\n",
    "#plt.errorbar(X_train.ravel(), y, dy, fmt='r.', markersize=10, label='Observations')\n",
    "plt.plot(X_train, y_pred, 'firebrick', label='Prediction')\n",
    "plt.fill(np.concatenate([X_train, X_train[::-1]]),\n",
    "         np.concatenate([y_pred - 1.9600 * sigma,\n",
    "                        (y_pred + 1.9600 * sigma)[::-1]]),\n",
    "         alpha=.5, fc='darksalmon', ec='None')\n",
    "plt.xlabel('$x$')\n",
    "plt.ylabel('$f(x)$')\n",
    "\n",
    "plt.xlabel('Stage [m]')\n",
    "plt.ylabel('Flow [m³/s]')\n",
    "plt.title('Prediction of flow from stage data - 95% confidence interval')\n",
    "\n",
    "plt.legend(loc='upper left')\n",
    "\n",
    "plt.xlim([2.1,2.2])\n",
    "plt.ylim([17,17.5])\n",
    "\n",
    "plt.show()"
   ]
  },
  {
   "cell_type": "markdown",
   "metadata": {},
   "source": [
    "This looks pretty reasonable so far - try predicting the flow time series from the stage data."
   ]
  },
  {
   "cell_type": "code",
   "execution_count": 22,
   "metadata": {},
   "outputs": [
    {
     "name": "stderr",
     "output_type": "stream",
     "text": [
      "C:\\Users\\Matt\\Anaconda3\\lib\\site-packages\\ipykernel_launcher.py:10: SettingWithCopyWarning: \n",
      "A value is trying to be set on a copy of a slice from a DataFrame.\n",
      "Try using .loc[row_indexer,col_indexer] = value instead\n",
      "\n",
      "See the caveats in the documentation: https://pandas.pydata.org/pandas-docs/stable/user_guide/indexing.html#returning-a-view-versus-a-copy\n",
      "  # Remove the CWD from sys.path while we load stuff.\n"
     ]
    },
    {
     "data": {
      "text/plain": [
       "<matplotlib.legend.Legend at 0x26ee0432848>"
      ]
     },
     "execution_count": 22,
     "metadata": {},
     "output_type": "execute_result"
    },
    {
     "data": {
      "image/png": "[encoded data removed]",
      "text/plain": [
       "<Figure size 1440x288 with 1 Axes>"
      ]
     },
     "metadata": {
      "needs_background": "light"
     },
     "output_type": "display_data"
    },
    {
     "data": {
      "image/png": "[encoded data removed]",
      "text/plain": [
       "<Figure size 1440x288 with 1 Axes>"
      ]
     },
     "metadata": {
      "needs_background": "light"
     },
     "output_type": "display_data"
    }
   ],
   "source": [
    "plt.figure(figsize=(20,4))\n",
    "\n",
    "plt.plot(flow60_filtered['Date_Time'],flow60_filtered['Flow [m³/s]'], 'blue', label = 'Flow (Observed)')\n",
    "\n",
    "stage60_filtered_no_missing = stage60_filtered[stage60_filtered['Quality']!='missing'] #Remove rows with stage missing\n",
    "\n",
    "#Predict the flow from the remaining stage values\n",
    "predicted_flow = gp.predict(stage60_filtered_no_missing['Stage [m]'].values.reshape(-1,1)) \n",
    "\n",
    "stage60_filtered_no_missing['predicted_flow'] = predicted_flow\n",
    "\n",
    "plt.plot(stage60_filtered_no_missing['Date_Time'], predicted_flow, 'firebrick', label = 'Flow (Predicted)', linestyle='--')\n",
    "\n",
    "lims = plt.xlim()\n",
    "\n",
    "plt.title(\"Flow [m³/s]\")\n",
    "plt.xlabel('Date')\n",
    "plt.ylabel('Flow [m³/s]')\n",
    "\n",
    "plt.legend(loc='upper left')\n",
    "\n",
    "\n",
    "plt.figure(figsize=(20,4))\n",
    "plt.plot(flow60_filtered['Date_Time'],flow60_filtered['Flow [m³/s]'], 'blue', label = 'Flow (Observed)')\n",
    "plt.xlim(lims)\n",
    "\n",
    "plt.xlabel('Date')\n",
    "plt.ylabel('Flow [m³/s]')\n",
    "\n",
    "plt.legend(loc='upper left')\n",
    "\n",
    "#N.B I've not managed to get rid of the SettingWithCopyWarning which is probably fairly important but I can't be bothered \n",
    "#and I don't do much more with it so it works anyway.\n"
   ]
  },
  {
   "cell_type": "code",
   "execution_count": 23,
   "metadata": {},
   "outputs": [
    {
     "data": {
      "text/plain": [
       "(0.0, 75.0)"
      ]
     },
     "execution_count": 23,
     "metadata": {},
     "output_type": "execute_result"
    },
    {
     "data": {
      "image/png": "[encoded data removed]",
      "text/plain": [
       "<Figure size 1080x720 with 1 Axes>"
      ]
     },
     "metadata": {
      "needs_background": "light"
     },
     "output_type": "display_data"
    }
   ],
   "source": [
    "plt.figure(figsize=(15,10))\n",
    "\n",
    "plt.plot(flow60_filtered['Date_Time'],flow60_filtered['Flow [m³/s]'], 'blue', label = 'Flow (Observed)', linewidth = 3)\n",
    "\n",
    "plt.plot(stage60_filtered['Date_Time'], stage60_filtered['Stage [m]'], 'firebrick', label = 'Flow (Predicted)', linestyle = '--')\n",
    "\n",
    "plt.title(\"Flow [m³/s]\")\n",
    "plt.xlabel('Date')\n",
    "plt.ylabel('Flow [m³/s]')\n",
    "\n",
    "plt.legend(loc='upper left')\n",
    "\n",
    "#plt.xlim(['2019-11-01T00:00:00.000000000','2020-06-03T00:00:00.000000000'])\n",
    "plt.ylim([0,75])"
   ]
  },
  {
   "cell_type": "markdown",
   "metadata": {},
   "source": [
    "### Save the predicted flow data to a new spreadsheet"
   ]
  },
  {
   "cell_type": "code",
   "execution_count": 24,
   "metadata": {},
   "outputs": [
    {
     "data": {
      "text/html": [
       "<div>\n",
       "<style scoped>\n",
       "    .dataframe tbody tr th:only-of-type {\n",
       "        vertical-align: middle;\n",
       "    }\n",
       "\n",
       "    .dataframe tbody tr th {\n",
       "        vertical-align: top;\n",
       "    }\n",
       "\n",
       "    .dataframe thead th {\n",
       "        text-align: right;\n",
       "    }\n",
       "</style>\n",
       "<table border=\"1\" class=\"dataframe\">\n",
       "  <thead>\n",
       "    <tr style=\"text-align: right;\">\n",
       "      <th></th>\n",
       "      <th>Date_Time</th>\n",
       "      <th>Stage [m]</th>\n",
       "      <th>Quality</th>\n",
       "      <th>Interpolation</th>\n",
       "      <th>Tags</th>\n",
       "      <th>Remarks</th>\n",
       "      <th>predicted_flow</th>\n",
       "      <th>Flow [m³/s]</th>\n",
       "    </tr>\n",
       "  </thead>\n",
       "  <tbody>\n",
       "    <tr>\n",
       "      <th>0</th>\n",
       "      <td>1973-07-23 11:00:00</td>\n",
       "      <td>0.472</td>\n",
       "      <td>200 (U)</td>\n",
       "      <td>linear interpolation</td>\n",
       "      <td>NaN</td>\n",
       "      <td>Digitised by CDS - Batch: Nov 2002</td>\n",
       "      <td>1.350968</td>\n",
       "      <td>NaN</td>\n",
       "    </tr>\n",
       "    <tr>\n",
       "      <th>1</th>\n",
       "      <td>1973-07-23 12:00:00</td>\n",
       "      <td>0.468</td>\n",
       "      <td>200 (U)</td>\n",
       "      <td>linear interpolation</td>\n",
       "      <td>NaN</td>\n",
       "      <td>Digitised by CDS - Batch: Nov 2002</td>\n",
       "      <td>1.330038</td>\n",
       "      <td>NaN</td>\n",
       "    </tr>\n",
       "    <tr>\n",
       "      <th>2</th>\n",
       "      <td>1973-07-23 13:00:00</td>\n",
       "      <td>0.463</td>\n",
       "      <td>200 (U)</td>\n",
       "      <td>linear interpolation</td>\n",
       "      <td>NaN</td>\n",
       "      <td>Digitised by CDS - Batch: Nov 2002</td>\n",
       "      <td>1.304078</td>\n",
       "      <td>NaN</td>\n",
       "    </tr>\n",
       "    <tr>\n",
       "      <th>3</th>\n",
       "      <td>1973-07-23 14:00:00</td>\n",
       "      <td>0.458</td>\n",
       "      <td>200 (U)</td>\n",
       "      <td>linear interpolation</td>\n",
       "      <td>NaN</td>\n",
       "      <td>Digitised by CDS - Batch: Nov 2002</td>\n",
       "      <td>1.278345</td>\n",
       "      <td>NaN</td>\n",
       "    </tr>\n",
       "    <tr>\n",
       "      <th>4</th>\n",
       "      <td>1973-07-23 15:00:00</td>\n",
       "      <td>0.454</td>\n",
       "      <td>200 (U)</td>\n",
       "      <td>linear interpolation</td>\n",
       "      <td>NaN</td>\n",
       "      <td>Digitised by CDS - Batch: Nov 2002</td>\n",
       "      <td>1.257923</td>\n",
       "      <td>NaN</td>\n",
       "    </tr>\n",
       "  </tbody>\n",
       "</table>\n",
       "</div>"
      ],
      "text/plain": [
       "            Date_Time Stage [m]  Quality         Interpolation  Tags  \\\n",
       "0 1973-07-23 11:00:00     0.472  200 (U)  linear interpolation   NaN   \n",
       "1 1973-07-23 12:00:00     0.468  200 (U)  linear interpolation   NaN   \n",
       "2 1973-07-23 13:00:00     0.463  200 (U)  linear interpolation   NaN   \n",
       "3 1973-07-23 14:00:00     0.458  200 (U)  linear interpolation   NaN   \n",
       "4 1973-07-23 15:00:00     0.454  200 (U)  linear interpolation   NaN   \n",
       "\n",
       "                              Remarks  predicted_flow Flow [m³/s]  \n",
       "0  Digitised by CDS - Batch: Nov 2002        1.350968         NaN  \n",
       "1  Digitised by CDS - Batch: Nov 2002        1.330038         NaN  \n",
       "2  Digitised by CDS - Batch: Nov 2002        1.304078         NaN  \n",
       "3  Digitised by CDS - Batch: Nov 2002        1.278345         NaN  \n",
       "4  Digitised by CDS - Batch: Nov 2002        1.257923         NaN  "
      ]
     },
     "execution_count": 24,
     "metadata": {},
     "output_type": "execute_result"
    }
   ],
   "source": [
    "stage60_filtered = stage60_filtered.merge(stage60_filtered_no_missing[['Date_Time','predicted_flow']], on='Date_Time', how='left')\n",
    "\n",
    "#Merge stage60 and flow60 so that we can use the real data where it exists\n",
    "all_wiski_data = stage60_filtered.merge(flow60_filtered[['Date_Time','Flow [m³/s]']], on='Date_Time', how='left')\n",
    "\n",
    "all_wiski_data.head()"
   ]
  },
  {
   "cell_type": "markdown",
   "metadata": {},
   "source": [
    "#### Import Rainfall Data"
   ]
  },
  {
   "cell_type": "code",
   "execution_count": 25,
   "metadata": {},
   "outputs": [
    {
     "name": "stdout",
     "output_type": "stream",
     "text": [
      "Wall time: 4min 21s\n"
     ]
    }
   ],
   "source": [
    "%%time\n",
    "\n",
    "shipston_rainfall60 = pd.read_excel('Shipston Wiski data - 60 min.xlsx', \n",
    "                      sheet_name = 3, parse_dates=[['Date', 'Time']])\n",
    "\n",
    "#Remove rows with missing datetime (empty)\n",
    "shipston_rainfall60 = shipston_rainfall60[shipston_rainfall60['Date_Time'] != ' '] \n",
    "\n",
    "#Fix the datetimes (not sure why it doesn't parse correctly)\n",
    "shipston_rainfall60['Date_Time'] = pd.to_datetime(shipston_rainfall60['Date_Time']) \n",
    "\n",
    "\n",
    "\n",
    "\n",
    "\n",
    "campden_rainfall60 = pd.read_excel('Shipston Wiski data - 60 min.xlsx', \n",
    "                      sheet_name = 4, parse_dates=[['Date', 'Time']])\n",
    "\n",
    "#Remove rows with missing datetime (empty)\n",
    "campden_rainfall60 = campden_rainfall60[campden_rainfall60['Date_Time'] != ' '] \n",
    "\n",
    "#Fix the datetimes (not sure why it doesn't parse correctly)\n",
    "campden_rainfall60['Date_Time'] = pd.to_datetime(campden_rainfall60['Date_Time']) \n"
   ]
  },
  {
   "cell_type": "code",
   "execution_count": 26,
   "metadata": {},
   "outputs": [],
   "source": [
    "shipston_rainfall60_filtered = shipston_rainfall60.replace([\".\",\"  ---\"],[0,\"NaN\"]) #Replace periods with zero, missing values with NaNs\n",
    "\n",
    "campden_rainfall60_filtered = campden_rainfall60.replace([\".\",\"  ---\"],[0,\"NaN\"])"
   ]
  },
  {
   "cell_type": "markdown",
   "metadata": {},
   "source": [
    "### Merge into dataframe & Save"
   ]
  },
  {
   "cell_type": "code",
   "execution_count": 27,
   "metadata": {},
   "outputs": [],
   "source": [
    "all_wiski_data = all_wiski_data.merge(shipston_rainfall60_filtered[['Date_Time','Precipitation [mm]']], on='Date_Time', how='left')\n",
    "\n",
    "all_wiski_data = all_wiski_data.rename(columns={'Precipitation [mm]':'shipston_rainfall'})\n",
    "\n",
    "\n",
    "\n",
    "all_wiski_data = all_wiski_data.merge(campden_rainfall60_filtered[['Date_Time','Precipitation [mm]']], on='Date_Time', how='left')\n",
    "all_wiski_data = all_wiski_data.rename(columns={'Precipitation [mm]':'campden_rainfall'})"
   ]
  },
  {
   "cell_type": "code",
   "execution_count": 29,
   "metadata": {},
   "outputs": [],
   "source": [
    "all_wiski_data = all_wiski_data.drop(labels = ['Interpolation','Tags','Remarks','Quality'], axis = 'columns')\n",
    "\n",
    "all_wiski_data = all_wiski_data.rename(columns= #decapitalising the columns because i hate pressing shift/remove units\n",
    "                                            {'Date_Time':'datetime', \n",
    "                                              'Time':'time', \n",
    "                                              'Flow [m³/s]':'flow',\n",
    "                                              'Stage [m]':'stage',\n",
    "                                              })\n",
    "\n"
   ]
  },
  {
   "cell_type": "code",
   "execution_count": 30,
   "metadata": {},
   "outputs": [
    {
     "data": {
      "text/html": [
       "<div>\n",
       "<style scoped>\n",
       "    .dataframe tbody tr th:only-of-type {\n",
       "        vertical-align: middle;\n",
       "    }\n",
       "\n",
       "    .dataframe tbody tr th {\n",
       "        vertical-align: top;\n",
       "    }\n",
       "\n",
       "    .dataframe thead th {\n",
       "        text-align: right;\n",
       "    }\n",
       "</style>\n",
       "<table border=\"1\" class=\"dataframe\">\n",
       "  <thead>\n",
       "    <tr style=\"text-align: right;\">\n",
       "      <th></th>\n",
       "      <th>datetime</th>\n",
       "      <th>stage</th>\n",
       "      <th>predicted_flow</th>\n",
       "      <th>flow</th>\n",
       "      <th>shipston_rainfall</th>\n",
       "      <th>campden_rainfall</th>\n",
       "    </tr>\n",
       "  </thead>\n",
       "  <tbody>\n",
       "    <tr>\n",
       "      <th>0</th>\n",
       "      <td>1973-07-23 11:00:00</td>\n",
       "      <td>0.472</td>\n",
       "      <td>1.350968</td>\n",
       "      <td>NaN</td>\n",
       "      <td>NaN</td>\n",
       "      <td>NaN</td>\n",
       "    </tr>\n",
       "    <tr>\n",
       "      <th>1</th>\n",
       "      <td>1973-07-23 12:00:00</td>\n",
       "      <td>0.468</td>\n",
       "      <td>1.330038</td>\n",
       "      <td>NaN</td>\n",
       "      <td>NaN</td>\n",
       "      <td>NaN</td>\n",
       "    </tr>\n",
       "    <tr>\n",
       "      <th>2</th>\n",
       "      <td>1973-07-23 13:00:00</td>\n",
       "      <td>0.463</td>\n",
       "      <td>1.304078</td>\n",
       "      <td>NaN</td>\n",
       "      <td>NaN</td>\n",
       "      <td>NaN</td>\n",
       "    </tr>\n",
       "    <tr>\n",
       "      <th>3</th>\n",
       "      <td>1973-07-23 14:00:00</td>\n",
       "      <td>0.458</td>\n",
       "      <td>1.278345</td>\n",
       "      <td>NaN</td>\n",
       "      <td>NaN</td>\n",
       "      <td>NaN</td>\n",
       "    </tr>\n",
       "    <tr>\n",
       "      <th>4</th>\n",
       "      <td>1973-07-23 15:00:00</td>\n",
       "      <td>0.454</td>\n",
       "      <td>1.257923</td>\n",
       "      <td>NaN</td>\n",
       "      <td>NaN</td>\n",
       "      <td>NaN</td>\n",
       "    </tr>\n",
       "  </tbody>\n",
       "</table>\n",
       "</div>"
      ],
      "text/plain": [
       "             datetime  stage  predicted_flow flow shipston_rainfall  \\\n",
       "0 1973-07-23 11:00:00  0.472        1.350968  NaN               NaN   \n",
       "1 1973-07-23 12:00:00  0.468        1.330038  NaN               NaN   \n",
       "2 1973-07-23 13:00:00  0.463        1.304078  NaN               NaN   \n",
       "3 1973-07-23 14:00:00  0.458        1.278345  NaN               NaN   \n",
       "4 1973-07-23 15:00:00  0.454        1.257923  NaN               NaN   \n",
       "\n",
       "  campden_rainfall  \n",
       "0              NaN  \n",
       "1              NaN  \n",
       "2              NaN  \n",
       "3              NaN  \n",
       "4              NaN  "
      ]
     },
     "execution_count": 30,
     "metadata": {},
     "output_type": "execute_result"
    }
   ],
   "source": [
    "all_wiski_data.head()"
   ]
  },
  {
   "cell_type": "code",
   "execution_count": 36,
   "metadata": {},
   "outputs": [
    {
     "data": {
      "text/plain": [
       "[<matplotlib.lines.Line2D at 0x26eca465a08>]"
      ]
     },
     "execution_count": 36,
     "metadata": {},
     "output_type": "execute_result"
    },
    {
     "data": {
      "image/png": "[encoded data removed]",
      "text/plain": [
       "<Figure size 432x288 with 1 Axes>"
      ]
     },
     "metadata": {
      "needs_background": "light"
     },
     "output_type": "display_data"
    }
   ],
   "source": [
    "all_wiski_data.to_excel('all_wiski_data.xlsx')"
   ]
  },
  {
   "cell_type": "code",
   "execution_count": null,
   "metadata": {},
   "outputs": [],
   "source": []
  },
  {
   "cell_type": "code",
   "execution_count": null,
   "metadata": {},
   "outputs": [],
   "source": []
  },
  {
   "cell_type": "code",
   "execution_count": null,
   "metadata": {},
   "outputs": [],
   "source": []
  },
  {
   "cell_type": "code",
   "execution_count": null,
   "metadata": {},
   "outputs": [],
   "source": []
  }
 ],
 "metadata": {
  "colab": {
   "name": "hackathon-data_prep.ipynb",
   "provenance": [],
   "toc_visible": true
  },
  "kernelspec": {
   "display_name": "Python 3",
   "language": "python",
   "name": "python3"
  },
  "language_info": {
   "codemirror_mode": {
    "name": "ipython",
    "version": 3
   },
   "file_extension": ".py",
   "mimetype": "text/x-python",
   "name": "python",
   "nbconvert_exporter": "python",
   "pygments_lexer": "ipython3",
   "version": "3.7.4"
  }
 },
 "nbformat": 4,
 "nbformat_minor": 1
}
