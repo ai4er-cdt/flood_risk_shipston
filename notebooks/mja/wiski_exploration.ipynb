{
 "cells": [
  {
   "cell_type": "code",
   "execution_count": 1,
   "metadata": {
    "id": "qsvksbpKko7O"
   },
   "outputs": [
    {
     "name": "stderr",
     "output_type": "stream",
     "text": [
      "In C:\\Users\\Matt\\Anaconda3\\lib\\site-packages\\matplotlib\\mpl-data\\stylelib\\_classic_test.mplstyle: \n",
      "The text.latex.preview rcparam was deprecated in Matplotlib 3.3 and will be removed two minor releases later.\n",
      "In C:\\Users\\Matt\\Anaconda3\\lib\\site-packages\\matplotlib\\mpl-data\\stylelib\\_classic_test.mplstyle: \n",
      "The mathtext.fallback_to_cm rcparam was deprecated in Matplotlib 3.3 and will be removed two minor releases later.\n",
      "In C:\\Users\\Matt\\Anaconda3\\lib\\site-packages\\matplotlib\\mpl-data\\stylelib\\_classic_test.mplstyle: Support for setting the 'mathtext.fallback_to_cm' rcParam is deprecated since 3.3 and will be removed two minor releases later; use 'mathtext.fallback : 'cm' instead.\n",
      "In C:\\Users\\Matt\\Anaconda3\\lib\\site-packages\\matplotlib\\mpl-data\\stylelib\\_classic_test.mplstyle: \n",
      "The validate_bool_maybe_none function was deprecated in Matplotlib 3.3 and will be removed two minor releases later.\n",
      "In C:\\Users\\Matt\\Anaconda3\\lib\\site-packages\\matplotlib\\mpl-data\\stylelib\\_classic_test.mplstyle: \n",
      "The savefig.jpeg_quality rcparam was deprecated in Matplotlib 3.3 and will be removed two minor releases later.\n",
      "In C:\\Users\\Matt\\Anaconda3\\lib\\site-packages\\matplotlib\\mpl-data\\stylelib\\_classic_test.mplstyle: \n",
      "The keymap.all_axes rcparam was deprecated in Matplotlib 3.3 and will be removed two minor releases later.\n",
      "In C:\\Users\\Matt\\Anaconda3\\lib\\site-packages\\matplotlib\\mpl-data\\stylelib\\_classic_test.mplstyle: \n",
      "The animation.avconv_path rcparam was deprecated in Matplotlib 3.3 and will be removed two minor releases later.\n",
      "In C:\\Users\\Matt\\Anaconda3\\lib\\site-packages\\matplotlib\\mpl-data\\stylelib\\_classic_test.mplstyle: \n",
      "The animation.avconv_args rcparam was deprecated in Matplotlib 3.3 and will be removed two minor releases later.\n"
     ]
    }
   ],
   "source": [
    "import matplotlib.pyplot as plt\n",
    "import pandas as pd\n",
    "import numpy as np\n",
    "import os\n"
   ]
  },
  {
   "cell_type": "markdown",
   "metadata": {
    "id": "Bh_g0wwncIQ8"
   },
   "source": [
    "## Import data sets into dataframes and plot time series"
   ]
  },
  {
   "cell_type": "markdown",
   "metadata": {
    "id": "C2hC_8EicMBY"
   },
   "source": [
    "#### Flow data at 60min resolution"
   ]
  },
  {
   "cell_type": "markdown",
   "metadata": {
    "id": "zr6ppEDWMPYm"
   },
   "source": [
    "Import data into Pandas dataframe"
   ]
  },
  {
   "cell_type": "code",
   "execution_count": 2,
   "metadata": {
    "colab": {
     "base_uri": "https://localhost:8080/"
    },
    "id": "QXLPRvN4lguI",
    "outputId": "7ba6c6a6-7102-4f59-b7a4-af89da1bc14d"
   },
   "outputs": [
    {
     "name": "stdout",
     "output_type": "stream",
     "text": [
      "Wall time: 1min 16s\n"
     ]
    }
   ],
   "source": [
    "%%time\n",
    "flow60 = pd.read_excel('Shipston Wiski data - 60 min.xlsx', \n",
    "                      sheet_name = 1)"
   ]
  },
  {
   "cell_type": "markdown",
   "metadata": {
    "id": "wbu2t89jMYwX"
   },
   "source": [
    "Explore data (5 top rows) "
   ]
  },
  {
   "cell_type": "code",
   "execution_count": 3,
   "metadata": {
    "colab": {
     "base_uri": "https://localhost:8080/",
     "height": 203
    },
    "id": "hvhP0NT6vbQJ",
    "outputId": "e1cb3260-396d-4d42-920a-5229bd166f9c"
   },
   "outputs": [
    {
     "data": {
      "text/html": [
       "<div>\n",
       "<style scoped>\n",
       "    .dataframe tbody tr th:only-of-type {\n",
       "        vertical-align: middle;\n",
       "    }\n",
       "\n",
       "    .dataframe tbody tr th {\n",
       "        vertical-align: top;\n",
       "    }\n",
       "\n",
       "    .dataframe thead th {\n",
       "        text-align: right;\n",
       "    }\n",
       "</style>\n",
       "<table border=\"1\" class=\"dataframe\">\n",
       "  <thead>\n",
       "    <tr style=\"text-align: right;\">\n",
       "      <th></th>\n",
       "      <th>Date</th>\n",
       "      <th>Time</th>\n",
       "      <th>Flow [m³/s]</th>\n",
       "      <th>Quality</th>\n",
       "      <th>Interpolation</th>\n",
       "      <th>Tags</th>\n",
       "      <th>Remarks</th>\n",
       "    </tr>\n",
       "  </thead>\n",
       "  <tbody>\n",
       "    <tr>\n",
       "      <th>0</th>\n",
       "      <td>1986-01-08</td>\n",
       "      <td>14:00:00</td>\n",
       "      <td>5.73</td>\n",
       "      <td>200 (U)</td>\n",
       "      <td>linear interpolation</td>\n",
       "      <td>NaN</td>\n",
       "      <td>NaN</td>\n",
       "    </tr>\n",
       "    <tr>\n",
       "      <th>1</th>\n",
       "      <td>1986-01-08</td>\n",
       "      <td>15:00:00</td>\n",
       "      <td>5.85</td>\n",
       "      <td>200 (U)</td>\n",
       "      <td>linear interpolation</td>\n",
       "      <td>NaN</td>\n",
       "      <td>NaN</td>\n",
       "    </tr>\n",
       "    <tr>\n",
       "      <th>2</th>\n",
       "      <td>1986-01-08</td>\n",
       "      <td>16:00:00</td>\n",
       "      <td>5.97</td>\n",
       "      <td>200 (U)</td>\n",
       "      <td>linear interpolation</td>\n",
       "      <td>NaN</td>\n",
       "      <td>NaN</td>\n",
       "    </tr>\n",
       "    <tr>\n",
       "      <th>3</th>\n",
       "      <td>1986-01-08</td>\n",
       "      <td>17:00:00</td>\n",
       "      <td>6.09</td>\n",
       "      <td>200 (U)</td>\n",
       "      <td>linear interpolation</td>\n",
       "      <td>NaN</td>\n",
       "      <td>NaN</td>\n",
       "    </tr>\n",
       "    <tr>\n",
       "      <th>4</th>\n",
       "      <td>1986-01-08</td>\n",
       "      <td>18:00:00</td>\n",
       "      <td>6.18</td>\n",
       "      <td>200 (U)</td>\n",
       "      <td>linear interpolation</td>\n",
       "      <td>NaN</td>\n",
       "      <td>NaN</td>\n",
       "    </tr>\n",
       "  </tbody>\n",
       "</table>\n",
       "</div>"
      ],
      "text/plain": [
       "        Date      Time Flow [m³/s]  Quality         Interpolation  Tags  \\\n",
       "0 1986-01-08  14:00:00        5.73  200 (U)  linear interpolation   NaN   \n",
       "1 1986-01-08  15:00:00        5.85  200 (U)  linear interpolation   NaN   \n",
       "2 1986-01-08  16:00:00        5.97  200 (U)  linear interpolation   NaN   \n",
       "3 1986-01-08  17:00:00        6.09  200 (U)  linear interpolation   NaN   \n",
       "4 1986-01-08  18:00:00        6.18  200 (U)  linear interpolation   NaN   \n",
       "\n",
       "  Remarks  \n",
       "0     NaN  \n",
       "1     NaN  \n",
       "2     NaN  \n",
       "3     NaN  \n",
       "4     NaN  "
      ]
     },
     "execution_count": 3,
     "metadata": {},
     "output_type": "execute_result"
    }
   ],
   "source": [
    "flow60.head()"
   ]
  },
  {
   "cell_type": "markdown",
   "metadata": {
    "id": "Dkao58iTMfF3"
   },
   "source": [
    "Replace missing values to NaNs (to avoid plotting errors)"
   ]
  },
  {
   "cell_type": "code",
   "execution_count": 4,
   "metadata": {
    "id": "Ee5nAigullBx"
   },
   "outputs": [],
   "source": [
    "flow60_filtered = flow60.replace(\" ---\",\"NaN\")"
   ]
  },
  {
   "cell_type": "markdown",
   "metadata": {
    "id": "4b-0SLtxMxZ-"
   },
   "source": [
    "Print dates with missing values"
   ]
  },
  {
   "cell_type": "code",
   "execution_count": 5,
   "metadata": {
    "colab": {
     "base_uri": "https://localhost:8080/"
    },
    "id": "qvZYXpfipLQ-",
    "outputId": "3839e85b-0c6d-4230-94d9-0c65462c2ab4"
   },
   "outputs": [
    {
     "name": "stdout",
     "output_type": "stream",
     "text": [
      "['1987-02-11T00:00:00.000000000' '1987-02-12T00:00:00.000000000'\n",
      " '1987-02-13T00:00:00.000000000' '1987-02-14T00:00:00.000000000'\n",
      " '1987-02-15T00:00:00.000000000' '1987-02-16T00:00:00.000000000'\n",
      " '1987-02-17T00:00:00.000000000' '1987-02-18T00:00:00.000000000'\n",
      " '1987-03-25T00:00:00.000000000' '1987-03-26T00:00:00.000000000'\n",
      " '1987-03-27T00:00:00.000000000' '1987-03-28T00:00:00.000000000'\n",
      " '1987-03-29T00:00:00.000000000' '1987-03-30T00:00:00.000000000'\n",
      " '1987-03-31T00:00:00.000000000' '1987-04-01T00:00:00.000000000']\n"
     ]
    }
   ],
   "source": [
    "print(flow60['Date'][flow60['Quality']=='missing'].unique())"
   ]
  },
  {
   "cell_type": "markdown",
   "metadata": {
    "id": "i9u3vCLnM35q"
   },
   "source": [
    "Plot flow time series"
   ]
  },
  {
   "cell_type": "code",
   "execution_count": 6,
   "metadata": {
    "colab": {
     "base_uri": "https://localhost:8080/",
     "height": 298
    },
    "id": "iruxTmMZ4ryP",
    "outputId": "28e12726-1310-4355-f189-860aa0a2c5cb"
   },
   "outputs": [
    {
     "data": {
      "text/plain": [
       "Text(0.5, 1.0, 'Flow (m3/s)')"
      ]
     },
     "execution_count": 6,
     "metadata": {},
     "output_type": "execute_result"
    },
    {
     "data": {
      "image/png": "[encoded data removed]",
      "text/plain": [
       "<Figure size 1440x288 with 1 Axes>"
      ]
     },
     "metadata": {
      "needs_background": "light"
     },
     "output_type": "display_data"
    }
   ],
   "source": [
    "plt.figure(figsize=(20,4))\n",
    "plt.plot(flow60_filtered['Date'],flow60_filtered['Flow [m³/s]'], 'blue')\n",
    "plt.title(\"Flow (m3/s)\")"
   ]
  },
  {
   "cell_type": "markdown",
   "metadata": {
    "id": "dUOxCNy12eH1"
   },
   "source": [
    "#### Stage data at 60min resolution"
   ]
  },
  {
   "cell_type": "markdown",
   "metadata": {
    "id": "AXhRfIklNCSp"
   },
   "source": [
    "Import data from Excel spreadsheet into a Pandas dataframe"
   ]
  },
  {
   "cell_type": "code",
   "execution_count": 7,
   "metadata": {
    "colab": {
     "base_uri": "https://localhost:8080/"
    },
    "id": "Wm8CL5ePrrD2",
    "outputId": "edbd3805-69dd-46d1-e7d4-10cc20594e5a"
   },
   "outputs": [
    {
     "name": "stdout",
     "output_type": "stream",
     "text": [
      "Wall time: 1min 17s\n"
     ]
    }
   ],
   "source": [
    "%%time\n",
    "stage60 = pd.read_excel('Shipston Wiski data - 60 min.xlsx', \n",
    "                      sheet_name = 2)"
   ]
  },
  {
   "cell_type": "markdown",
   "metadata": {
    "id": "2b6Fx1hPNFjp"
   },
   "source": [
    "Replace missing values to NaNs (to avoid plotting errors)"
   ]
  },
  {
   "cell_type": "code",
   "execution_count": 8,
   "metadata": {
    "id": "yW2iZc7_0VrD"
   },
   "outputs": [],
   "source": [
    "stage60_filtered = stage60.replace(\" ---\",\"NaN\")"
   ]
  },
  {
   "cell_type": "markdown",
   "metadata": {
    "id": "Tc9Bz6lwOjJ-"
   },
   "source": [
    "Print dates with missing values"
   ]
  },
  {
   "cell_type": "code",
   "execution_count": 9,
   "metadata": {
    "colab": {
     "base_uri": "https://localhost:8080/"
    },
    "id": "n0vnN1fxNTOT",
    "outputId": "18fc8c75-5089-4374-d9f5-a9416978d0ae"
   },
   "outputs": [
    {
     "name": "stdout",
     "output_type": "stream",
     "text": [
      "['1974-01-29T00:00:00.000000000' '1974-01-30T00:00:00.000000000'\n",
      " '1974-01-31T00:00:00.000000000' '1974-02-01T00:00:00.000000000'\n",
      " '1974-02-02T00:00:00.000000000' '1974-02-03T00:00:00.000000000'\n",
      " '1974-02-04T00:00:00.000000000' '1974-02-05T00:00:00.000000000'\n",
      " '1974-02-06T00:00:00.000000000' '1974-02-07T00:00:00.000000000'\n",
      " '1974-02-08T00:00:00.000000000' '1974-02-09T00:00:00.000000000'\n",
      " '1974-02-10T00:00:00.000000000' '1974-02-11T00:00:00.000000000'\n",
      " '1974-02-12T00:00:00.000000000' '1974-02-13T00:00:00.000000000'\n",
      " '1974-02-14T00:00:00.000000000' '1974-02-15T00:00:00.000000000'\n",
      " '1974-02-16T00:00:00.000000000' '1974-02-17T00:00:00.000000000'\n",
      " '1974-02-18T00:00:00.000000000' '1974-02-19T00:00:00.000000000'\n",
      " '1974-02-20T00:00:00.000000000' '1974-02-21T00:00:00.000000000'\n",
      " '1974-02-22T00:00:00.000000000' '1974-02-23T00:00:00.000000000'\n",
      " '1974-02-24T00:00:00.000000000' '1974-03-09T00:00:00.000000000'\n",
      " '1974-03-10T00:00:00.000000000' '1974-03-11T00:00:00.000000000'\n",
      " '1974-03-12T00:00:00.000000000' '1974-04-12T00:00:00.000000000'\n",
      " '1974-04-13T00:00:00.000000000' '1974-04-14T00:00:00.000000000'\n",
      " '1974-04-15T00:00:00.000000000' '1974-04-16T00:00:00.000000000'\n",
      " '1974-04-17T00:00:00.000000000' '1974-04-18T00:00:00.000000000'\n",
      " '1974-04-19T00:00:00.000000000' '1974-04-20T00:00:00.000000000'\n",
      " '1974-04-21T00:00:00.000000000' '1974-04-22T00:00:00.000000000'\n",
      " '1974-04-23T00:00:00.000000000' '1974-06-18T00:00:00.000000000'\n",
      " '1974-06-19T00:00:00.000000000' '1974-06-20T00:00:00.000000000'\n",
      " '1974-06-21T00:00:00.000000000' '1974-06-22T00:00:00.000000000'\n",
      " '1974-06-23T00:00:00.000000000' '1974-06-24T00:00:00.000000000'\n",
      " '1974-07-29T00:00:00.000000000' '1974-07-30T00:00:00.000000000'\n",
      " '1975-01-11T00:00:00.000000000' '1975-01-12T00:00:00.000000000'\n",
      " '1975-01-13T00:00:00.000000000' '1975-01-14T00:00:00.000000000'\n",
      " '1976-04-06T00:00:00.000000000' '1976-04-07T00:00:00.000000000'\n",
      " '1976-04-08T00:00:00.000000000' '1976-04-09T00:00:00.000000000'\n",
      " '1976-04-10T00:00:00.000000000' '1976-04-11T00:00:00.000000000'\n",
      " '1976-04-12T00:00:00.000000000' '1976-09-28T00:00:00.000000000'\n",
      " '1976-09-29T00:00:00.000000000' '1976-09-30T00:00:00.000000000'\n",
      " '1976-10-01T00:00:00.000000000' '1976-10-02T00:00:00.000000000'\n",
      " '1976-10-03T00:00:00.000000000' '1976-10-04T00:00:00.000000000'\n",
      " '1978-04-05T00:00:00.000000000' '1978-04-06T00:00:00.000000000'\n",
      " '1984-01-05T00:00:00.000000000' '1984-01-06T00:00:00.000000000'\n",
      " '1984-01-07T00:00:00.000000000' '1984-01-08T00:00:00.000000000'\n",
      " '1984-01-09T00:00:00.000000000' '1984-01-10T00:00:00.000000000'\n",
      " '1984-01-11T00:00:00.000000000' '1984-01-12T00:00:00.000000000'\n",
      " '1984-01-13T00:00:00.000000000' '1984-01-14T00:00:00.000000000'\n",
      " '1984-01-15T00:00:00.000000000' '1984-01-16T00:00:00.000000000'\n",
      " '1984-01-17T00:00:00.000000000' '1984-01-18T00:00:00.000000000'\n",
      " '1984-01-19T00:00:00.000000000' '1984-01-20T00:00:00.000000000'\n",
      " '1984-01-21T00:00:00.000000000' '1984-01-22T00:00:00.000000000'\n",
      " '1984-01-23T00:00:00.000000000' '1984-01-24T00:00:00.000000000'\n",
      " '1984-01-25T00:00:00.000000000' '1984-01-26T00:00:00.000000000'\n",
      " '1984-01-27T00:00:00.000000000' '1984-01-28T00:00:00.000000000'\n",
      " '1984-01-29T00:00:00.000000000' '1984-01-30T00:00:00.000000000'\n",
      " '1984-01-31T00:00:00.000000000' '1984-02-01T00:00:00.000000000'\n",
      " '1984-02-02T00:00:00.000000000' '1984-02-03T00:00:00.000000000'\n",
      " '1984-02-04T00:00:00.000000000' '1984-02-05T00:00:00.000000000'\n",
      " '1984-02-06T00:00:00.000000000' '1984-02-07T00:00:00.000000000'\n",
      " '1984-02-08T00:00:00.000000000' '1984-02-09T00:00:00.000000000'\n",
      " '1984-02-10T00:00:00.000000000' '1984-02-11T00:00:00.000000000'\n",
      " '1984-02-12T00:00:00.000000000' '1984-02-13T00:00:00.000000000'\n",
      " '1984-02-14T00:00:00.000000000' '1984-02-15T00:00:00.000000000'\n",
      " '1984-02-16T00:00:00.000000000' '1984-02-17T00:00:00.000000000'\n",
      " '1984-02-18T00:00:00.000000000' '1984-02-19T00:00:00.000000000'\n",
      " '1984-02-20T00:00:00.000000000' '1984-02-21T00:00:00.000000000'\n",
      " '1984-02-22T00:00:00.000000000' '1984-02-23T00:00:00.000000000'\n",
      " '1984-02-24T00:00:00.000000000' '1984-02-25T00:00:00.000000000'\n",
      " '1984-02-26T00:00:00.000000000' '1984-02-27T00:00:00.000000000'\n",
      " '1984-02-28T00:00:00.000000000' '1984-02-29T00:00:00.000000000'\n",
      " '1984-03-01T00:00:00.000000000' '1984-03-02T00:00:00.000000000'\n",
      " '1984-03-03T00:00:00.000000000' '1984-03-04T00:00:00.000000000'\n",
      " '1984-03-05T00:00:00.000000000' '1984-03-06T00:00:00.000000000'\n",
      " '1984-03-07T00:00:00.000000000' '1984-03-08T00:00:00.000000000'\n",
      " '1984-03-09T00:00:00.000000000' '1984-03-10T00:00:00.000000000'\n",
      " '1984-03-11T00:00:00.000000000' '1984-03-12T00:00:00.000000000'\n",
      " '1984-03-13T00:00:00.000000000' '1984-03-14T00:00:00.000000000'\n",
      " '1984-03-15T00:00:00.000000000' '1984-03-16T00:00:00.000000000'\n",
      " '1984-03-17T00:00:00.000000000' '1984-03-18T00:00:00.000000000'\n",
      " '1984-03-19T00:00:00.000000000' '1984-03-20T00:00:00.000000000'\n",
      " '1984-03-21T00:00:00.000000000' '1984-03-22T00:00:00.000000000'\n",
      " '1984-03-23T00:00:00.000000000' '1984-03-24T00:00:00.000000000'\n",
      " '1984-03-25T00:00:00.000000000' '1984-03-26T00:00:00.000000000'\n",
      " '1984-03-27T00:00:00.000000000' '1984-03-28T00:00:00.000000000'\n",
      " '1984-03-29T00:00:00.000000000' '1984-03-30T00:00:00.000000000'\n",
      " '1984-03-31T00:00:00.000000000' '1984-04-01T00:00:00.000000000'\n",
      " '1984-04-02T00:00:00.000000000' '1984-04-03T00:00:00.000000000'\n",
      " '1984-04-04T00:00:00.000000000' '1984-04-05T00:00:00.000000000'\n",
      " '1984-04-06T00:00:00.000000000' '1984-04-07T00:00:00.000000000'\n",
      " '1984-04-08T00:00:00.000000000' '1984-04-09T00:00:00.000000000'\n",
      " '1984-04-10T00:00:00.000000000' '1984-04-11T00:00:00.000000000'\n",
      " '1984-04-12T00:00:00.000000000' '1984-04-13T00:00:00.000000000'\n",
      " '1984-04-14T00:00:00.000000000' '1984-04-15T00:00:00.000000000'\n",
      " '1984-04-16T00:00:00.000000000' '1984-04-17T00:00:00.000000000'\n",
      " '1984-04-18T00:00:00.000000000' '1984-04-19T00:00:00.000000000'\n",
      " '1984-04-20T00:00:00.000000000' '1984-04-21T00:00:00.000000000'\n",
      " '1984-04-22T00:00:00.000000000' '1984-04-23T00:00:00.000000000'\n",
      " '1984-04-24T00:00:00.000000000' '1984-04-25T00:00:00.000000000'\n",
      " '1984-04-26T00:00:00.000000000' '1984-04-27T00:00:00.000000000'\n",
      " '1984-04-28T00:00:00.000000000' '1984-04-29T00:00:00.000000000'\n",
      " '1984-04-30T00:00:00.000000000' '1984-05-01T00:00:00.000000000'\n",
      " '1984-05-02T00:00:00.000000000' '1984-05-03T00:00:00.000000000'\n",
      " '1984-05-04T00:00:00.000000000' '1984-05-05T00:00:00.000000000'\n",
      " '1984-05-06T00:00:00.000000000' '1984-05-07T00:00:00.000000000'\n",
      " '1984-05-08T00:00:00.000000000' '1984-05-09T00:00:00.000000000'\n",
      " '1984-05-10T00:00:00.000000000' '1984-05-11T00:00:00.000000000'\n",
      " '1984-05-12T00:00:00.000000000' '1984-05-13T00:00:00.000000000'\n",
      " '1984-05-14T00:00:00.000000000' '1984-05-15T00:00:00.000000000'\n",
      " '1984-05-16T00:00:00.000000000' '1984-05-17T00:00:00.000000000'\n",
      " '1984-05-18T00:00:00.000000000' '1984-05-19T00:00:00.000000000'\n",
      " '1984-05-20T00:00:00.000000000' '1984-05-21T00:00:00.000000000'\n",
      " '1984-05-22T00:00:00.000000000' '1984-05-23T00:00:00.000000000'\n",
      " '1984-05-24T00:00:00.000000000' '1984-05-25T00:00:00.000000000'\n",
      " '1984-05-26T00:00:00.000000000' '1984-05-27T00:00:00.000000000'\n",
      " '1984-05-28T00:00:00.000000000' '1984-05-29T00:00:00.000000000'\n",
      " '1984-05-30T00:00:00.000000000' '1984-05-31T00:00:00.000000000'\n",
      " '1984-06-01T00:00:00.000000000' '1984-06-02T00:00:00.000000000'\n",
      " '1984-06-03T00:00:00.000000000' '1984-06-04T00:00:00.000000000'\n",
      " '1984-06-05T00:00:00.000000000' '1984-06-06T00:00:00.000000000'\n",
      " '1984-06-07T00:00:00.000000000' '1984-06-08T00:00:00.000000000'\n",
      " '1984-06-09T00:00:00.000000000' '1984-06-10T00:00:00.000000000'\n",
      " '1984-06-11T00:00:00.000000000' '1984-06-12T00:00:00.000000000'\n",
      " '1984-06-13T00:00:00.000000000' '1984-06-14T00:00:00.000000000'\n",
      " '1984-06-15T00:00:00.000000000' '1984-06-16T00:00:00.000000000'\n",
      " '1984-06-17T00:00:00.000000000' '1984-06-18T00:00:00.000000000'\n",
      " '1984-06-19T00:00:00.000000000' '1984-06-20T00:00:00.000000000'\n",
      " '1984-06-21T00:00:00.000000000' '1984-06-22T00:00:00.000000000'\n",
      " '1984-06-23T00:00:00.000000000' '1984-06-24T00:00:00.000000000'\n",
      " '1984-06-25T00:00:00.000000000' '1984-06-26T00:00:00.000000000'\n",
      " '1984-06-27T00:00:00.000000000' '1984-06-28T00:00:00.000000000'\n",
      " '1984-06-29T00:00:00.000000000' '1984-06-30T00:00:00.000000000'\n",
      " '1984-07-01T00:00:00.000000000' '1984-07-02T00:00:00.000000000'\n",
      " '1984-07-03T00:00:00.000000000' '1984-07-04T00:00:00.000000000'\n",
      " '1984-07-05T00:00:00.000000000' '1984-07-06T00:00:00.000000000'\n",
      " '1984-07-07T00:00:00.000000000' '1984-07-08T00:00:00.000000000'\n",
      " '1984-07-09T00:00:00.000000000' '1984-07-10T00:00:00.000000000'\n",
      " '1984-07-11T00:00:00.000000000' '1984-07-12T00:00:00.000000000'\n",
      " '1984-07-13T00:00:00.000000000' '1984-07-14T00:00:00.000000000'\n",
      " '1984-07-15T00:00:00.000000000' '1984-07-16T00:00:00.000000000'\n",
      " '1984-07-17T00:00:00.000000000' '1984-07-18T00:00:00.000000000'\n",
      " '1984-07-19T00:00:00.000000000' '1984-07-20T00:00:00.000000000'\n",
      " '1984-07-21T00:00:00.000000000' '1984-07-22T00:00:00.000000000'\n",
      " '1984-07-23T00:00:00.000000000' '1984-07-24T00:00:00.000000000'\n",
      " '1984-07-25T00:00:00.000000000' '1984-07-26T00:00:00.000000000'\n",
      " '1984-07-27T00:00:00.000000000' '1984-07-28T00:00:00.000000000'\n",
      " '1984-07-29T00:00:00.000000000' '1984-07-30T00:00:00.000000000'\n",
      " '1984-07-31T00:00:00.000000000' '1984-08-01T00:00:00.000000000'\n",
      " '1984-08-02T00:00:00.000000000' '1984-08-03T00:00:00.000000000'\n",
      " '1984-08-04T00:00:00.000000000' '1984-08-05T00:00:00.000000000'\n",
      " '1984-08-06T00:00:00.000000000' '1984-08-07T00:00:00.000000000'\n",
      " '1984-08-08T00:00:00.000000000' '1984-08-09T00:00:00.000000000'\n",
      " '1984-08-10T00:00:00.000000000' '1984-08-11T00:00:00.000000000'\n",
      " '1984-08-12T00:00:00.000000000' '1984-08-13T00:00:00.000000000'\n",
      " '1984-08-14T00:00:00.000000000' '1984-08-15T00:00:00.000000000'\n",
      " '1984-08-16T00:00:00.000000000' '1984-08-17T00:00:00.000000000'\n",
      " '1984-08-18T00:00:00.000000000' '1984-08-19T00:00:00.000000000'\n",
      " '1984-08-20T00:00:00.000000000' '1984-08-21T00:00:00.000000000'\n",
      " '1984-08-22T00:00:00.000000000' '1984-08-23T00:00:00.000000000'\n",
      " '1984-08-24T00:00:00.000000000' '1984-08-25T00:00:00.000000000'\n",
      " '1984-08-26T00:00:00.000000000' '1984-08-27T00:00:00.000000000'\n",
      " '1984-08-28T00:00:00.000000000' '1984-08-29T00:00:00.000000000'\n",
      " '1984-08-30T00:00:00.000000000' '1984-08-31T00:00:00.000000000'\n",
      " '1984-09-01T00:00:00.000000000' '1984-09-02T00:00:00.000000000'\n",
      " '1984-09-03T00:00:00.000000000' '1984-09-04T00:00:00.000000000'\n",
      " '1984-09-05T00:00:00.000000000' '1984-09-06T00:00:00.000000000'\n",
      " '1984-09-07T00:00:00.000000000' '1984-09-08T00:00:00.000000000'\n",
      " '1984-09-09T00:00:00.000000000' '1984-09-10T00:00:00.000000000'\n",
      " '1984-09-11T00:00:00.000000000' '1984-09-12T00:00:00.000000000'\n",
      " '1984-09-13T00:00:00.000000000' '1984-09-14T00:00:00.000000000'\n",
      " '1984-09-15T00:00:00.000000000' '1984-09-16T00:00:00.000000000'\n",
      " '1984-09-17T00:00:00.000000000' '1984-09-18T00:00:00.000000000'\n",
      " '1984-09-19T00:00:00.000000000' '1984-09-20T00:00:00.000000000'\n",
      " '1984-09-21T00:00:00.000000000' '1984-09-22T00:00:00.000000000'\n",
      " '1984-09-23T00:00:00.000000000' '1984-09-24T00:00:00.000000000'\n",
      " '1984-09-25T00:00:00.000000000' '1984-09-26T00:00:00.000000000'\n",
      " '1984-09-27T00:00:00.000000000' '1984-09-28T00:00:00.000000000'\n",
      " '1984-09-29T00:00:00.000000000' '1984-09-30T00:00:00.000000000'\n",
      " '1984-10-01T00:00:00.000000000' '1984-10-02T00:00:00.000000000'\n",
      " '1984-10-03T00:00:00.000000000' '1984-10-04T00:00:00.000000000'\n",
      " '1984-10-05T00:00:00.000000000' '1984-10-06T00:00:00.000000000'\n",
      " '1984-10-07T00:00:00.000000000' '1984-10-08T00:00:00.000000000'\n",
      " '1984-10-09T00:00:00.000000000' '1984-10-10T00:00:00.000000000'\n",
      " '1984-10-11T00:00:00.000000000' '1984-10-12T00:00:00.000000000'\n",
      " '1984-10-13T00:00:00.000000000' '1984-10-14T00:00:00.000000000'\n",
      " '1984-10-15T00:00:00.000000000' '1984-10-16T00:00:00.000000000'\n",
      " '1984-10-17T00:00:00.000000000' '1984-10-18T00:00:00.000000000'\n",
      " '1984-10-19T00:00:00.000000000' '1984-10-20T00:00:00.000000000'\n",
      " '1984-10-21T00:00:00.000000000' '1984-10-22T00:00:00.000000000'\n",
      " '1984-10-23T00:00:00.000000000' '1984-10-24T00:00:00.000000000'\n",
      " '1984-10-25T00:00:00.000000000' '1984-10-26T00:00:00.000000000'\n",
      " '1984-10-27T00:00:00.000000000' '1984-10-28T00:00:00.000000000'\n",
      " '1984-10-29T00:00:00.000000000' '1984-10-30T00:00:00.000000000'\n",
      " '1984-10-31T00:00:00.000000000' '1984-11-01T00:00:00.000000000'\n",
      " '1984-11-02T00:00:00.000000000' '1984-11-03T00:00:00.000000000'\n",
      " '1984-11-04T00:00:00.000000000' '1984-11-05T00:00:00.000000000'\n",
      " '1984-11-06T00:00:00.000000000' '1984-11-07T00:00:00.000000000'\n",
      " '1984-11-08T00:00:00.000000000' '1984-11-09T00:00:00.000000000'\n",
      " '1984-11-10T00:00:00.000000000' '1984-11-11T00:00:00.000000000'\n",
      " '1984-11-12T00:00:00.000000000' '1984-11-13T00:00:00.000000000'\n",
      " '1984-11-14T00:00:00.000000000' '1984-11-15T00:00:00.000000000'\n",
      " '1984-11-16T00:00:00.000000000' '1984-11-17T00:00:00.000000000'\n",
      " '1984-11-18T00:00:00.000000000' '1984-11-19T00:00:00.000000000'\n",
      " '1984-11-20T00:00:00.000000000' '1984-11-21T00:00:00.000000000'\n",
      " '1984-11-22T00:00:00.000000000' '1984-11-23T00:00:00.000000000'\n",
      " '1984-11-24T00:00:00.000000000' '1984-11-25T00:00:00.000000000'\n",
      " '1984-11-26T00:00:00.000000000' '1984-11-27T00:00:00.000000000'\n",
      " '1984-11-28T00:00:00.000000000' '1984-11-29T00:00:00.000000000'\n",
      " '1984-11-30T00:00:00.000000000' '1984-12-01T00:00:00.000000000'\n",
      " '1984-12-02T00:00:00.000000000' '1984-12-03T00:00:00.000000000'\n",
      " '1984-12-04T00:00:00.000000000' '1984-12-05T00:00:00.000000000'\n",
      " '1984-12-06T00:00:00.000000000' '1984-12-07T00:00:00.000000000'\n",
      " '1984-12-08T00:00:00.000000000' '1984-12-09T00:00:00.000000000'\n",
      " '1984-12-10T00:00:00.000000000' '1984-12-11T00:00:00.000000000'\n",
      " '1984-12-12T00:00:00.000000000' '1984-12-13T00:00:00.000000000'\n",
      " '1984-12-14T00:00:00.000000000' '1984-12-15T00:00:00.000000000'\n",
      " '1984-12-16T00:00:00.000000000' '1984-12-17T00:00:00.000000000'\n",
      " '1984-12-18T00:00:00.000000000' '1984-12-19T00:00:00.000000000'\n",
      " '1984-12-20T00:00:00.000000000' '1984-12-21T00:00:00.000000000'\n",
      " '1984-12-22T00:00:00.000000000' '1984-12-23T00:00:00.000000000'\n",
      " '1984-12-24T00:00:00.000000000' '1984-12-25T00:00:00.000000000'\n",
      " '1984-12-26T00:00:00.000000000' '1984-12-27T00:00:00.000000000'\n",
      " '1984-12-28T00:00:00.000000000' '1984-12-29T00:00:00.000000000'\n",
      " '1984-12-30T00:00:00.000000000' '1984-12-31T00:00:00.000000000'\n",
      " '1985-01-01T00:00:00.000000000' '1985-01-02T00:00:00.000000000'\n",
      " '1985-01-03T00:00:00.000000000' '1985-01-04T00:00:00.000000000'\n",
      " '1985-01-05T00:00:00.000000000' '1985-01-06T00:00:00.000000000'\n",
      " '1985-01-07T00:00:00.000000000' '1985-01-08T00:00:00.000000000'\n",
      " '1985-01-09T00:00:00.000000000' '1985-01-10T00:00:00.000000000'\n",
      " '1985-01-11T00:00:00.000000000' '1985-01-12T00:00:00.000000000'\n",
      " '1985-01-13T00:00:00.000000000' '1985-01-14T00:00:00.000000000'\n",
      " '1985-01-15T00:00:00.000000000' '1985-01-16T00:00:00.000000000'\n",
      " '1985-01-17T00:00:00.000000000' '1985-01-18T00:00:00.000000000'\n",
      " '1985-01-19T00:00:00.000000000' '1985-01-20T00:00:00.000000000'\n",
      " '1985-01-21T00:00:00.000000000' '1985-01-22T00:00:00.000000000'\n",
      " '1985-01-23T00:00:00.000000000' '1985-01-24T00:00:00.000000000'\n",
      " '1985-01-25T00:00:00.000000000' '1985-01-26T00:00:00.000000000'\n",
      " '1985-01-27T00:00:00.000000000' '1985-01-28T00:00:00.000000000'\n",
      " '1985-01-29T00:00:00.000000000' '1985-01-30T00:00:00.000000000'\n",
      " '1985-01-31T00:00:00.000000000' '1985-02-01T00:00:00.000000000'\n",
      " '1985-02-02T00:00:00.000000000' '1985-02-03T00:00:00.000000000'\n",
      " '1985-02-04T00:00:00.000000000' '1985-02-05T00:00:00.000000000'\n",
      " '1985-02-06T00:00:00.000000000' '1985-02-07T00:00:00.000000000'\n",
      " '1985-02-08T00:00:00.000000000' '1985-02-09T00:00:00.000000000'\n",
      " '1985-02-10T00:00:00.000000000' '1985-02-11T00:00:00.000000000'\n",
      " '1985-02-12T00:00:00.000000000' '1985-02-13T00:00:00.000000000'\n",
      " '1985-02-14T00:00:00.000000000' '1985-02-15T00:00:00.000000000'\n",
      " '1985-02-16T00:00:00.000000000' '1985-02-17T00:00:00.000000000'\n",
      " '1985-02-18T00:00:00.000000000' '1985-02-19T00:00:00.000000000'\n",
      " '1985-02-20T00:00:00.000000000' '1985-02-21T00:00:00.000000000'\n",
      " '1985-02-22T00:00:00.000000000' '1985-02-23T00:00:00.000000000'\n",
      " '1985-02-24T00:00:00.000000000' '1985-02-25T00:00:00.000000000'\n",
      " '1985-02-26T00:00:00.000000000' '1985-02-27T00:00:00.000000000'\n",
      " '1985-02-28T00:00:00.000000000' '1985-03-01T00:00:00.000000000'\n",
      " '1985-03-02T00:00:00.000000000' '1985-03-03T00:00:00.000000000'\n",
      " '1985-03-04T00:00:00.000000000' '1985-03-05T00:00:00.000000000'\n",
      " '1985-03-06T00:00:00.000000000' '1985-03-07T00:00:00.000000000'\n",
      " '1985-03-08T00:00:00.000000000' '1985-03-09T00:00:00.000000000'\n",
      " '1985-03-10T00:00:00.000000000' '1985-03-11T00:00:00.000000000'\n",
      " '1985-03-12T00:00:00.000000000' '1985-03-13T00:00:00.000000000'\n",
      " '1985-03-14T00:00:00.000000000' '1985-03-15T00:00:00.000000000'\n",
      " '1985-03-16T00:00:00.000000000' '1985-03-17T00:00:00.000000000'\n",
      " '1985-03-18T00:00:00.000000000' '1985-03-19T00:00:00.000000000'\n",
      " '1985-03-20T00:00:00.000000000' '1985-03-21T00:00:00.000000000'\n",
      " '1985-03-22T00:00:00.000000000' '1985-03-23T00:00:00.000000000'\n",
      " '1985-03-24T00:00:00.000000000' '1985-03-25T00:00:00.000000000'\n",
      " '1985-03-26T00:00:00.000000000' '1985-03-27T00:00:00.000000000'\n",
      " '1985-03-28T00:00:00.000000000' '1985-03-29T00:00:00.000000000'\n",
      " '1985-03-30T00:00:00.000000000' '1985-03-31T00:00:00.000000000'\n",
      " '1985-04-01T00:00:00.000000000' '1985-04-02T00:00:00.000000000'\n",
      " '1985-04-03T00:00:00.000000000' '1985-04-04T00:00:00.000000000'\n",
      " '1985-04-05T00:00:00.000000000' '1985-04-06T00:00:00.000000000'\n",
      " '1985-04-07T00:00:00.000000000' '1985-04-08T00:00:00.000000000'\n",
      " '1985-04-09T00:00:00.000000000' '1985-04-10T00:00:00.000000000'\n",
      " '1985-04-11T00:00:00.000000000' '1985-04-12T00:00:00.000000000'\n",
      " '1985-04-13T00:00:00.000000000' '1985-04-14T00:00:00.000000000'\n",
      " '1985-04-15T00:00:00.000000000' '1985-04-16T00:00:00.000000000'\n",
      " '1985-04-17T00:00:00.000000000' '1985-04-18T00:00:00.000000000'\n",
      " '1985-04-19T00:00:00.000000000' '1985-04-20T00:00:00.000000000'\n",
      " '1985-04-21T00:00:00.000000000' '1985-04-22T00:00:00.000000000'\n",
      " '1985-04-23T00:00:00.000000000' '1985-04-24T00:00:00.000000000'\n",
      " '1985-04-25T00:00:00.000000000' '1985-04-26T00:00:00.000000000'\n",
      " '1985-04-27T00:00:00.000000000' '1985-04-28T00:00:00.000000000'\n",
      " '1985-04-29T00:00:00.000000000' '1985-04-30T00:00:00.000000000'\n",
      " '1985-05-01T00:00:00.000000000' '1985-05-02T00:00:00.000000000'\n",
      " '1985-05-03T00:00:00.000000000' '1985-05-04T00:00:00.000000000'\n",
      " '1985-05-05T00:00:00.000000000' '1985-05-06T00:00:00.000000000'\n",
      " '1985-05-07T00:00:00.000000000' '1985-05-08T00:00:00.000000000'\n",
      " '1985-05-09T00:00:00.000000000' '1985-05-10T00:00:00.000000000'\n",
      " '1985-05-11T00:00:00.000000000' '1985-05-12T00:00:00.000000000'\n",
      " '1985-05-13T00:00:00.000000000' '1985-05-14T00:00:00.000000000'\n",
      " '1985-05-15T00:00:00.000000000' '1985-05-16T00:00:00.000000000'\n",
      " '1985-05-17T00:00:00.000000000' '1985-05-18T00:00:00.000000000'\n",
      " '1985-05-19T00:00:00.000000000' '1985-05-20T00:00:00.000000000'\n",
      " '1985-05-21T00:00:00.000000000' '1985-05-22T00:00:00.000000000'\n",
      " '1985-05-23T00:00:00.000000000' '1985-05-24T00:00:00.000000000'\n",
      " '1985-05-25T00:00:00.000000000' '1985-05-26T00:00:00.000000000'\n",
      " '1985-05-27T00:00:00.000000000' '1985-05-28T00:00:00.000000000'\n",
      " '1985-05-29T00:00:00.000000000' '1985-05-30T00:00:00.000000000'\n",
      " '1985-05-31T00:00:00.000000000' '1985-06-01T00:00:00.000000000'\n",
      " '1985-06-02T00:00:00.000000000' '1985-06-03T00:00:00.000000000'\n",
      " '1985-06-04T00:00:00.000000000' '1985-06-05T00:00:00.000000000'\n",
      " '1985-06-06T00:00:00.000000000' '1985-06-07T00:00:00.000000000'\n",
      " '1985-06-08T00:00:00.000000000' '1985-06-09T00:00:00.000000000'\n",
      " '1985-06-10T00:00:00.000000000' '1985-06-11T00:00:00.000000000'\n",
      " '1985-06-12T00:00:00.000000000' '1985-06-13T00:00:00.000000000'\n",
      " '1985-06-14T00:00:00.000000000' '1985-06-15T00:00:00.000000000'\n",
      " '1985-06-16T00:00:00.000000000' '1985-06-17T00:00:00.000000000'\n",
      " '1985-06-18T00:00:00.000000000' '1985-06-19T00:00:00.000000000'\n",
      " '1985-06-20T00:00:00.000000000' '1985-06-21T00:00:00.000000000'\n",
      " '1985-06-22T00:00:00.000000000' '1985-06-23T00:00:00.000000000'\n",
      " '1985-06-24T00:00:00.000000000' '1985-06-25T00:00:00.000000000'\n",
      " '1985-06-26T00:00:00.000000000' '1985-06-27T00:00:00.000000000'\n",
      " '1985-06-28T00:00:00.000000000' '1985-06-29T00:00:00.000000000'\n",
      " '1985-06-30T00:00:00.000000000' '1985-07-01T00:00:00.000000000'\n",
      " '1985-07-02T00:00:00.000000000' '1985-07-03T00:00:00.000000000'\n",
      " '1985-07-04T00:00:00.000000000' '1985-07-05T00:00:00.000000000'\n",
      " '1985-07-06T00:00:00.000000000' '1985-07-07T00:00:00.000000000'\n",
      " '1985-07-08T00:00:00.000000000' '1985-07-09T00:00:00.000000000'\n",
      " '1985-07-10T00:00:00.000000000' '1985-07-11T00:00:00.000000000'\n",
      " '1985-07-12T00:00:00.000000000' '1985-07-13T00:00:00.000000000'\n",
      " '1985-07-14T00:00:00.000000000' '1985-07-15T00:00:00.000000000'\n",
      " '1985-07-16T00:00:00.000000000' '1985-07-17T00:00:00.000000000'\n",
      " '1985-07-18T00:00:00.000000000' '1985-07-19T00:00:00.000000000'\n",
      " '1985-07-20T00:00:00.000000000' '1985-07-21T00:00:00.000000000'\n",
      " '1985-07-22T00:00:00.000000000' '1985-07-23T00:00:00.000000000'\n",
      " '1985-07-24T00:00:00.000000000' '1985-07-25T00:00:00.000000000'\n",
      " '1985-07-26T00:00:00.000000000' '1985-07-27T00:00:00.000000000'\n",
      " '1985-07-28T00:00:00.000000000' '1985-07-29T00:00:00.000000000'\n",
      " '1985-07-30T00:00:00.000000000' '1985-07-31T00:00:00.000000000'\n",
      " '1985-08-01T00:00:00.000000000' '1985-08-02T00:00:00.000000000'\n",
      " '1985-08-03T00:00:00.000000000' '1985-08-04T00:00:00.000000000'\n",
      " '1985-08-05T00:00:00.000000000' '1985-08-06T00:00:00.000000000'\n",
      " '1985-08-07T00:00:00.000000000' '1985-08-08T00:00:00.000000000'\n",
      " '1985-08-09T00:00:00.000000000' '1985-08-10T00:00:00.000000000'\n",
      " '1985-08-11T00:00:00.000000000' '1985-08-12T00:00:00.000000000'\n",
      " '1985-08-13T00:00:00.000000000' '1985-08-14T00:00:00.000000000'\n",
      " '1985-08-15T00:00:00.000000000' '1985-08-16T00:00:00.000000000'\n",
      " '1985-08-17T00:00:00.000000000' '1985-08-18T00:00:00.000000000'\n",
      " '1985-08-19T00:00:00.000000000' '1985-08-20T00:00:00.000000000'\n",
      " '1985-08-21T00:00:00.000000000' '1985-08-22T00:00:00.000000000'\n",
      " '1985-08-23T00:00:00.000000000' '1985-08-24T00:00:00.000000000'\n",
      " '1985-08-25T00:00:00.000000000' '1985-08-26T00:00:00.000000000'\n",
      " '1985-08-27T00:00:00.000000000' '1985-08-28T00:00:00.000000000'\n",
      " '1985-08-29T00:00:00.000000000' '1985-08-30T00:00:00.000000000'\n",
      " '1985-08-31T00:00:00.000000000' '1985-09-01T00:00:00.000000000'\n",
      " '1985-09-02T00:00:00.000000000' '1985-09-03T00:00:00.000000000'\n",
      " '1985-09-04T00:00:00.000000000' '1985-09-05T00:00:00.000000000'\n",
      " '1985-09-06T00:00:00.000000000' '1985-09-07T00:00:00.000000000'\n",
      " '1985-09-08T00:00:00.000000000' '1985-09-09T00:00:00.000000000'\n",
      " '1985-09-10T00:00:00.000000000' '1985-09-11T00:00:00.000000000'\n",
      " '1985-09-12T00:00:00.000000000' '1985-09-13T00:00:00.000000000'\n",
      " '1985-09-14T00:00:00.000000000' '1985-09-15T00:00:00.000000000'\n",
      " '1985-09-16T00:00:00.000000000' '1985-09-17T00:00:00.000000000'\n",
      " '1985-09-18T00:00:00.000000000' '1985-09-19T00:00:00.000000000'\n",
      " '1985-09-20T00:00:00.000000000' '1985-09-21T00:00:00.000000000'\n",
      " '1985-09-22T00:00:00.000000000' '1985-09-23T00:00:00.000000000'\n",
      " '1985-09-24T00:00:00.000000000' '1985-09-25T00:00:00.000000000'\n",
      " '1985-09-26T00:00:00.000000000' '1985-09-27T00:00:00.000000000'\n",
      " '1985-09-28T00:00:00.000000000' '1985-09-29T00:00:00.000000000'\n",
      " '1985-09-30T00:00:00.000000000' '1985-10-01T00:00:00.000000000'\n",
      " '1985-10-02T00:00:00.000000000' '1985-10-03T00:00:00.000000000'\n",
      " '1985-10-04T00:00:00.000000000' '1985-10-05T00:00:00.000000000'\n",
      " '1985-10-06T00:00:00.000000000' '1985-10-07T00:00:00.000000000'\n",
      " '1985-10-08T00:00:00.000000000' '1985-10-09T00:00:00.000000000'\n",
      " '1985-10-10T00:00:00.000000000' '1985-10-11T00:00:00.000000000'\n",
      " '1985-10-12T00:00:00.000000000' '1985-10-13T00:00:00.000000000'\n",
      " '1985-10-14T00:00:00.000000000' '1985-10-15T00:00:00.000000000'\n",
      " '1985-10-16T00:00:00.000000000' '1985-10-17T00:00:00.000000000'\n",
      " '1985-10-18T00:00:00.000000000' '1985-10-19T00:00:00.000000000'\n",
      " '1985-10-20T00:00:00.000000000' '1985-10-21T00:00:00.000000000'\n",
      " '1985-10-22T00:00:00.000000000' '1985-10-23T00:00:00.000000000'\n",
      " '1985-10-24T00:00:00.000000000' '1985-10-25T00:00:00.000000000'\n",
      " '1985-10-26T00:00:00.000000000' '1985-10-27T00:00:00.000000000'\n",
      " '1985-10-28T00:00:00.000000000' '1985-10-29T00:00:00.000000000'\n",
      " '1985-10-30T00:00:00.000000000' '1985-10-31T00:00:00.000000000'\n",
      " '1985-11-01T00:00:00.000000000' '1985-11-02T00:00:00.000000000'\n",
      " '1985-11-03T00:00:00.000000000' '1985-11-04T00:00:00.000000000'\n",
      " '1985-11-05T00:00:00.000000000' '1985-11-06T00:00:00.000000000'\n",
      " '1985-11-07T00:00:00.000000000' '1985-11-08T00:00:00.000000000'\n",
      " '1985-11-09T00:00:00.000000000' '1985-11-10T00:00:00.000000000'\n",
      " '1985-11-11T00:00:00.000000000' '1985-11-12T00:00:00.000000000'\n",
      " '1985-11-13T00:00:00.000000000' '1985-11-14T00:00:00.000000000'\n",
      " '1985-11-15T00:00:00.000000000' '1985-11-16T00:00:00.000000000'\n",
      " '1985-11-17T00:00:00.000000000' '1985-11-18T00:00:00.000000000'\n",
      " '1985-11-19T00:00:00.000000000' '1985-11-20T00:00:00.000000000'\n",
      " '1985-11-21T00:00:00.000000000' '1985-11-22T00:00:00.000000000'\n",
      " '1985-11-23T00:00:00.000000000' '1985-11-24T00:00:00.000000000'\n",
      " '1985-11-25T00:00:00.000000000' '1985-11-26T00:00:00.000000000'\n",
      " '1985-11-27T00:00:00.000000000' '1985-11-28T00:00:00.000000000'\n",
      " '1985-11-29T00:00:00.000000000' '1985-11-30T00:00:00.000000000'\n",
      " '1985-12-01T00:00:00.000000000' '1985-12-02T00:00:00.000000000'\n",
      " '1985-12-03T00:00:00.000000000' '1985-12-04T00:00:00.000000000'\n",
      " '1985-12-05T00:00:00.000000000' '1985-12-06T00:00:00.000000000'\n",
      " '1985-12-07T00:00:00.000000000' '1985-12-08T00:00:00.000000000'\n",
      " '1985-12-09T00:00:00.000000000' '1985-12-10T00:00:00.000000000'\n",
      " '1985-12-11T00:00:00.000000000' '1985-12-12T00:00:00.000000000'\n",
      " '1985-12-13T00:00:00.000000000' '1985-12-14T00:00:00.000000000'\n",
      " '1985-12-15T00:00:00.000000000' '1985-12-16T00:00:00.000000000'\n",
      " '1985-12-17T00:00:00.000000000' '1985-12-18T00:00:00.000000000'\n",
      " '1985-12-19T00:00:00.000000000' '1985-12-20T00:00:00.000000000'\n",
      " '1985-12-21T00:00:00.000000000' '1985-12-22T00:00:00.000000000'\n",
      " '1985-12-23T00:00:00.000000000' '1985-12-24T00:00:00.000000000'\n",
      " '1985-12-25T00:00:00.000000000' '1985-12-26T00:00:00.000000000'\n",
      " '1985-12-27T00:00:00.000000000' '1985-12-28T00:00:00.000000000'\n",
      " '1985-12-29T00:00:00.000000000' '1985-12-30T00:00:00.000000000'\n",
      " '1985-12-31T00:00:00.000000000' '1986-01-01T00:00:00.000000000'\n",
      " '1986-01-02T00:00:00.000000000' '1986-01-03T00:00:00.000000000'\n",
      " '1986-01-04T00:00:00.000000000' '1986-01-05T00:00:00.000000000'\n",
      " '1986-01-06T00:00:00.000000000' '1986-01-07T00:00:00.000000000'\n",
      " '1986-01-08T00:00:00.000000000' '1987-02-11T00:00:00.000000000'\n",
      " '1987-02-12T00:00:00.000000000' '1987-02-13T00:00:00.000000000'\n",
      " '1987-02-14T00:00:00.000000000' '1987-02-15T00:00:00.000000000'\n",
      " '1987-02-16T00:00:00.000000000' '1987-02-17T00:00:00.000000000'\n",
      " '1987-02-18T00:00:00.000000000' '1987-03-25T00:00:00.000000000'\n",
      " '1987-03-26T00:00:00.000000000' '1987-03-27T00:00:00.000000000'\n",
      " '1987-03-28T00:00:00.000000000' '1987-03-29T00:00:00.000000000'\n",
      " '1987-03-30T00:00:00.000000000' '1987-03-31T00:00:00.000000000'\n",
      " '1987-04-01T00:00:00.000000000']\n"
     ]
    }
   ],
   "source": [
    "print(stage60['Date'][stage60['Quality']=='missing'].unique())"
   ]
  },
  {
   "cell_type": "markdown",
   "metadata": {
    "id": "eVjmcX7xNMR4"
   },
   "source": [
    "Plot stage time series"
   ]
  },
  {
   "cell_type": "code",
   "execution_count": 10,
   "metadata": {
    "colab": {
     "base_uri": "https://localhost:8080/",
     "height": 298
    },
    "id": "hEnKJJ69u7yW",
    "outputId": "22707ebb-7704-47d4-ad38-861dcbe3ade3"
   },
   "outputs": [
    {
     "data": {
      "text/plain": [
       "Text(0.5, 1.0, 'Stage (m)')"
      ]
     },
     "execution_count": 10,
     "metadata": {},
     "output_type": "execute_result"
    },
    {
     "data": {
      "image/png": "[encoded data removed]",
      "text/plain": [
       "<Figure size 1440x288 with 1 Axes>"
      ]
     },
     "metadata": {
      "needs_background": "light"
     },
     "output_type": "display_data"
    }
   ],
   "source": [
    "plt.figure(figsize=(20,4))\n",
    "plt.plot(stage60_filtered['Date'],stage60_filtered['Stage [m]'], 'green')\n",
    "plt.title(\"Stage (m)\")"
   ]
  },
  {
   "cell_type": "markdown",
   "metadata": {
    "id": "_GzmpVR45ej4"
   },
   "source": [
    "#### Shipston rainfall data at 60min resolution"
   ]
  },
  {
   "cell_type": "markdown",
   "metadata": {
    "id": "yolyz8e9O742"
   },
   "source": [
    "Import data into a Pandas dataframe"
   ]
  },
  {
   "cell_type": "code",
   "execution_count": 11,
   "metadata": {
    "colab": {
     "base_uri": "https://localhost:8080/"
    },
    "id": "PPG3Srhe5h4I",
    "outputId": "3b6ea901-7b4d-4647-d4ef-bfbffa1202cf"
   },
   "outputs": [
    {
     "name": "stdout",
     "output_type": "stream",
     "text": [
      "Wall time: 1min 18s\n"
     ]
    }
   ],
   "source": [
    "%%time\n",
    "rainfall60 = pd.read_excel('Shipston Wiski data - 60 min.xlsx', \n",
    "                      sheet_name = 3)"
   ]
  },
  {
   "cell_type": "markdown",
   "metadata": {
    "id": "R5w9E393PBEP"
   },
   "source": [
    "Explore data (5 top rows) "
   ]
  },
  {
   "cell_type": "code",
   "execution_count": 12,
   "metadata": {
    "colab": {
     "base_uri": "https://localhost:8080/",
     "height": 203
    },
    "id": "sNUNTuoz52S8",
    "outputId": "313ce5f6-80b0-4a27-b0de-de9a3771e143"
   },
   "outputs": [
    {
     "data": {
      "text/html": [
       "<div>\n",
       "<style scoped>\n",
       "    .dataframe tbody tr th:only-of-type {\n",
       "        vertical-align: middle;\n",
       "    }\n",
       "\n",
       "    .dataframe tbody tr th {\n",
       "        vertical-align: top;\n",
       "    }\n",
       "\n",
       "    .dataframe thead th {\n",
       "        text-align: right;\n",
       "    }\n",
       "</style>\n",
       "<table border=\"1\" class=\"dataframe\">\n",
       "  <thead>\n",
       "    <tr style=\"text-align: right;\">\n",
       "      <th></th>\n",
       "      <th>Date</th>\n",
       "      <th>Time</th>\n",
       "      <th>Precipitation [mm]</th>\n",
       "      <th>Quality</th>\n",
       "      <th>Interpolation</th>\n",
       "      <th>Valid</th>\n",
       "      <th>Invalid</th>\n",
       "      <th>Missing</th>\n",
       "      <th>Tags</th>\n",
       "      <th>Remarks</th>\n",
       "    </tr>\n",
       "  </thead>\n",
       "  <tbody>\n",
       "    <tr>\n",
       "      <th>0</th>\n",
       "      <td>1979-07-26</td>\n",
       "      <td>09:00:00</td>\n",
       "      <td>.</td>\n",
       "      <td>40 (G)</td>\n",
       "      <td>const since previous</td>\n",
       "      <td>0.0</td>\n",
       "      <td>0.0</td>\n",
       "      <td>0.0</td>\n",
       "      <td>NaN</td>\n",
       "      <td>NaN</td>\n",
       "    </tr>\n",
       "    <tr>\n",
       "      <th>1</th>\n",
       "      <td>1979-07-26</td>\n",
       "      <td>10:00:00</td>\n",
       "      <td>.</td>\n",
       "      <td>200 (U)</td>\n",
       "      <td>const since previous</td>\n",
       "      <td>0.0</td>\n",
       "      <td>0.0</td>\n",
       "      <td>0.0</td>\n",
       "      <td>NaN</td>\n",
       "      <td>NaN</td>\n",
       "    </tr>\n",
       "    <tr>\n",
       "      <th>2</th>\n",
       "      <td>1979-07-26</td>\n",
       "      <td>11:00:00</td>\n",
       "      <td>.</td>\n",
       "      <td>200 (U)</td>\n",
       "      <td>const since previous</td>\n",
       "      <td>0.0</td>\n",
       "      <td>0.0</td>\n",
       "      <td>0.0</td>\n",
       "      <td>NaN</td>\n",
       "      <td>NaN</td>\n",
       "    </tr>\n",
       "    <tr>\n",
       "      <th>3</th>\n",
       "      <td>1979-07-26</td>\n",
       "      <td>12:00:00</td>\n",
       "      <td>.</td>\n",
       "      <td>200 (U)</td>\n",
       "      <td>const since previous</td>\n",
       "      <td>0.0</td>\n",
       "      <td>0.0</td>\n",
       "      <td>0.0</td>\n",
       "      <td>NaN</td>\n",
       "      <td>NaN</td>\n",
       "    </tr>\n",
       "    <tr>\n",
       "      <th>4</th>\n",
       "      <td>1979-07-26</td>\n",
       "      <td>13:00:00</td>\n",
       "      <td>.</td>\n",
       "      <td>200 (U)</td>\n",
       "      <td>const since previous</td>\n",
       "      <td>0.0</td>\n",
       "      <td>0.0</td>\n",
       "      <td>0.0</td>\n",
       "      <td>NaN</td>\n",
       "      <td>NaN</td>\n",
       "    </tr>\n",
       "  </tbody>\n",
       "</table>\n",
       "</div>"
      ],
      "text/plain": [
       "        Date      Time Precipitation [mm]  Quality         Interpolation  \\\n",
       "0 1979-07-26  09:00:00                  .   40 (G)  const since previous   \n",
       "1 1979-07-26  10:00:00                  .  200 (U)  const since previous   \n",
       "2 1979-07-26  11:00:00                  .  200 (U)  const since previous   \n",
       "3 1979-07-26  12:00:00                  .  200 (U)  const since previous   \n",
       "4 1979-07-26  13:00:00                  .  200 (U)  const since previous   \n",
       "\n",
       "   Valid  Invalid  Missing  Tags Remarks  \n",
       "0    0.0      0.0      0.0   NaN     NaN  \n",
       "1    0.0      0.0      0.0   NaN     NaN  \n",
       "2    0.0      0.0      0.0   NaN     NaN  \n",
       "3    0.0      0.0      0.0   NaN     NaN  \n",
       "4    0.0      0.0      0.0   NaN     NaN  "
      ]
     },
     "execution_count": 12,
     "metadata": {},
     "output_type": "execute_result"
    }
   ],
   "source": [
    "rainfall60.head()"
   ]
  },
  {
   "cell_type": "markdown",
   "metadata": {
    "id": "78CDXYr-fuD9"
   },
   "source": [
    "## Random pointers"
   ]
  },
  {
   "cell_type": "markdown",
   "metadata": {
    "id": "HiFbb0yuf3go"
   },
   "source": [
    "* Intro to hydrology \n",
    "  * Beven, K. J. (2011). Rainfall-runoff modelling: the primer. John Wiley & Sons.\n",
    "  * Shaw, E. M., Beven, K. J., Chappell, N. A., & Lamb, R. (2010). Hydrology in practice. CRC press. \n",
    "\n",
    "* Extreme value theory\n",
    "  * Peaks over thresholds\n",
    "  * Annual maxima\n",
    "\n",
    "* Time series autoregressive models\n",
    "\n",
    "* LSTMs (and CNNs) for rainfall-runoff modelling "
   ]
  },
  {
   "cell_type": "markdown",
   "metadata": {},
   "source": [
    "## Regression to fill missing data"
   ]
  },
  {
   "cell_type": "markdown",
   "metadata": {},
   "source": [
    "Merge the dataframes on date and time:"
   ]
  },
  {
   "cell_type": "code",
   "execution_count": 13,
   "metadata": {
    "id": "gse4CqPUgAJ3"
   },
   "outputs": [
    {
     "data": {
      "text/html": [
       "<div>\n",
       "<style scoped>\n",
       "    .dataframe tbody tr th:only-of-type {\n",
       "        vertical-align: middle;\n",
       "    }\n",
       "\n",
       "    .dataframe tbody tr th {\n",
       "        vertical-align: top;\n",
       "    }\n",
       "\n",
       "    .dataframe thead th {\n",
       "        text-align: right;\n",
       "    }\n",
       "</style>\n",
       "<table border=\"1\" class=\"dataframe\">\n",
       "  <thead>\n",
       "    <tr style=\"text-align: right;\">\n",
       "      <th></th>\n",
       "      <th>Date</th>\n",
       "      <th>Time</th>\n",
       "      <th>stage</th>\n",
       "      <th>Quality_stage</th>\n",
       "      <th>Interpolation_x</th>\n",
       "      <th>Tags_x</th>\n",
       "      <th>Remarks_x</th>\n",
       "      <th>flow</th>\n",
       "      <th>Quality_flow</th>\n",
       "      <th>Interpolation_y</th>\n",
       "      <th>Tags_y</th>\n",
       "      <th>Remarks_y</th>\n",
       "    </tr>\n",
       "  </thead>\n",
       "  <tbody>\n",
       "    <tr>\n",
       "      <th>0</th>\n",
       "      <td>1986-01-08</td>\n",
       "      <td>14:00:00</td>\n",
       "      <td>0.986</td>\n",
       "      <td>200 (U)</td>\n",
       "      <td>linear interpolation</td>\n",
       "      <td>NaN</td>\n",
       "      <td>NaN</td>\n",
       "      <td>5.73</td>\n",
       "      <td>200 (U)</td>\n",
       "      <td>linear interpolation</td>\n",
       "      <td>NaN</td>\n",
       "      <td>NaN</td>\n",
       "    </tr>\n",
       "    <tr>\n",
       "      <th>1</th>\n",
       "      <td>1986-01-08</td>\n",
       "      <td>15:00:00</td>\n",
       "      <td>1</td>\n",
       "      <td>200 (U)</td>\n",
       "      <td>linear interpolation</td>\n",
       "      <td>NaN</td>\n",
       "      <td>NaN</td>\n",
       "      <td>5.85</td>\n",
       "      <td>200 (U)</td>\n",
       "      <td>linear interpolation</td>\n",
       "      <td>NaN</td>\n",
       "      <td>NaN</td>\n",
       "    </tr>\n",
       "    <tr>\n",
       "      <th>2</th>\n",
       "      <td>1986-01-08</td>\n",
       "      <td>16:00:00</td>\n",
       "      <td>1.015</td>\n",
       "      <td>200 (U)</td>\n",
       "      <td>linear interpolation</td>\n",
       "      <td>NaN</td>\n",
       "      <td>NaN</td>\n",
       "      <td>5.97</td>\n",
       "      <td>200 (U)</td>\n",
       "      <td>linear interpolation</td>\n",
       "      <td>NaN</td>\n",
       "      <td>NaN</td>\n",
       "    </tr>\n",
       "    <tr>\n",
       "      <th>3</th>\n",
       "      <td>1986-01-08</td>\n",
       "      <td>17:00:00</td>\n",
       "      <td>1.029</td>\n",
       "      <td>200 (U)</td>\n",
       "      <td>linear interpolation</td>\n",
       "      <td>NaN</td>\n",
       "      <td>NaN</td>\n",
       "      <td>6.09</td>\n",
       "      <td>200 (U)</td>\n",
       "      <td>linear interpolation</td>\n",
       "      <td>NaN</td>\n",
       "      <td>NaN</td>\n",
       "    </tr>\n",
       "    <tr>\n",
       "      <th>4</th>\n",
       "      <td>1986-01-08</td>\n",
       "      <td>18:00:00</td>\n",
       "      <td>1.039</td>\n",
       "      <td>200 (U)</td>\n",
       "      <td>linear interpolation</td>\n",
       "      <td>NaN</td>\n",
       "      <td>NaN</td>\n",
       "      <td>6.18</td>\n",
       "      <td>200 (U)</td>\n",
       "      <td>linear interpolation</td>\n",
       "      <td>NaN</td>\n",
       "      <td>NaN</td>\n",
       "    </tr>\n",
       "  </tbody>\n",
       "</table>\n",
       "</div>"
      ],
      "text/plain": [
       "        Date      Time  stage Quality_stage       Interpolation_x  Tags_x  \\\n",
       "0 1986-01-08  14:00:00  0.986       200 (U)  linear interpolation     NaN   \n",
       "1 1986-01-08  15:00:00      1       200 (U)  linear interpolation     NaN   \n",
       "2 1986-01-08  16:00:00  1.015       200 (U)  linear interpolation     NaN   \n",
       "3 1986-01-08  17:00:00  1.029       200 (U)  linear interpolation     NaN   \n",
       "4 1986-01-08  18:00:00  1.039       200 (U)  linear interpolation     NaN   \n",
       "\n",
       "  Remarks_x  flow Quality_flow       Interpolation_y  Tags_y Remarks_y  \n",
       "0       NaN  5.73      200 (U)  linear interpolation     NaN       NaN  \n",
       "1       NaN  5.85      200 (U)  linear interpolation     NaN       NaN  \n",
       "2       NaN  5.97      200 (U)  linear interpolation     NaN       NaN  \n",
       "3       NaN  6.09      200 (U)  linear interpolation     NaN       NaN  \n",
       "4       NaN  6.18      200 (U)  linear interpolation     NaN       NaN  "
      ]
     },
     "execution_count": 13,
     "metadata": {},
     "output_type": "execute_result"
    }
   ],
   "source": [
    "df_flow_and_stage = pd.merge(stage60_filtered, flow60_filtered, on=['Date', 'Time']) #Merge the dataframes\n",
    "\n",
    "df_flow_and_stage = df_flow_and_stage.rename(columns= #Renaming columns for ease of use\n",
    "                                             {'Quality_x':'Quality_stage', \n",
    "                                              'Quality_y':'Quality_flow', \n",
    "                                              'Flow [m³/s]':'flow',\n",
    "                                              'Stage [m]':'stage'})\n",
    "\n",
    "df_flow_and_stage.head()"
   ]
  },
  {
   "cell_type": "code",
   "execution_count": 14,
   "metadata": {},
   "outputs": [
    {
     "name": "stdout",
     "output_type": "stream",
     "text": [
      "['1987-02-11T00:00:00.000000000' '1987-02-12T00:00:00.000000000'\n",
      " '1987-02-13T00:00:00.000000000' '1987-02-14T00:00:00.000000000'\n",
      " '1987-02-15T00:00:00.000000000' '1987-02-16T00:00:00.000000000'\n",
      " '1987-02-17T00:00:00.000000000' '1987-02-18T00:00:00.000000000'\n",
      " '1987-03-25T00:00:00.000000000' '1987-03-26T00:00:00.000000000'\n",
      " '1987-03-27T00:00:00.000000000' '1987-03-28T00:00:00.000000000'\n",
      " '1987-03-29T00:00:00.000000000' '1987-03-30T00:00:00.000000000'\n",
      " '1987-03-31T00:00:00.000000000' '1987-04-01T00:00:00.000000000']\n"
     ]
    }
   ],
   "source": [
    "print(df_flow_and_stage['Date'][df_flow_and_stage['Quality_stage']=='missing'].unique())"
   ]
  },
  {
   "cell_type": "code",
   "execution_count": 15,
   "metadata": {},
   "outputs": [
    {
     "name": "stdout",
     "output_type": "stream",
     "text": [
      "['1987-02-11T00:00:00.000000000' '1987-02-12T00:00:00.000000000'\n",
      " '1987-02-13T00:00:00.000000000' '1987-02-14T00:00:00.000000000'\n",
      " '1987-02-15T00:00:00.000000000' '1987-02-16T00:00:00.000000000'\n",
      " '1987-02-17T00:00:00.000000000' '1987-02-18T00:00:00.000000000'\n",
      " '1987-03-25T00:00:00.000000000' '1987-03-26T00:00:00.000000000'\n",
      " '1987-03-27T00:00:00.000000000' '1987-03-28T00:00:00.000000000'\n",
      " '1987-03-29T00:00:00.000000000' '1987-03-30T00:00:00.000000000'\n",
      " '1987-03-31T00:00:00.000000000' '1987-04-01T00:00:00.000000000']\n"
     ]
    }
   ],
   "source": [
    "print(df_flow_and_stage['Date'][df_flow_and_stage['Quality_flow']=='missing'].unique())"
   ]
  },
  {
   "cell_type": "markdown",
   "metadata": {},
   "source": [
    "Start by attempting to predict stage data from flow data:"
   ]
  },
  {
   "cell_type": "code",
   "execution_count": 16,
   "metadata": {},
   "outputs": [],
   "source": [
    "#Get rid of any input pairs to the regression with missing values\n",
    "df_flow_and_stage_complete = df_flow_and_stage[df_flow_and_stage['Quality_flow'] != 'missing']  \n",
    "df_flow_and_stage_complete = df_flow_and_stage_complete[df_flow_and_stage_complete['Quality_flow'] != 'missing'] \n"
   ]
  },
  {
   "cell_type": "markdown",
   "metadata": {},
   "source": [
    "## Post both sensors being installed, if one of either stage or flow data is missing then the other is also missing. There's not much missing though."
   ]
  },
  {
   "cell_type": "markdown",
   "metadata": {},
   "source": [
    "Scatter plot Flow vs. Stage"
   ]
  },
  {
   "cell_type": "code",
   "execution_count": 17,
   "metadata": {},
   "outputs": [
    {
     "data": {
      "text/plain": [
       "<AxesSubplot:xlabel='stage'>"
      ]
     },
     "execution_count": 17,
     "metadata": {},
     "output_type": "execute_result"
    },
    {
     "data": {
      "image/png": "[encoded data removed]",
      "text/plain": [
       "<Figure size 432x288 with 1 Axes>"
      ]
     },
     "metadata": {
      "needs_background": "light"
     },
     "output_type": "display_data"
    }
   ],
   "source": [
    "df_flow_and_stage_complete.plot(x='stage', y='flow')"
   ]
  },
  {
   "cell_type": "code",
   "execution_count": 18,
   "metadata": {},
   "outputs": [
    {
     "data": {
      "text/plain": [
       "{'alpha': 1e-10,\n",
       " 'copy_X_train': True,\n",
       " 'kernel__length_scale': 10,\n",
       " 'kernel__length_scale_bounds': (0.01, 100.0),\n",
       " 'kernel': RBF(length_scale=10),\n",
       " 'n_restarts_optimizer': 1000,\n",
       " 'normalize_y': False,\n",
       " 'optimizer': 'fmin_l_bfgs_b',\n",
       " 'random_state': None}"
      ]
     },
     "execution_count": 18,
     "metadata": {},
     "output_type": "execute_result"
    }
   ],
   "source": [
    "from sklearn.gaussian_process import GaussianProcessRegressor\n",
    "from sklearn.gaussian_process.kernels import ConstantKernel, RBF\n",
    "\n",
    "X_train = df_flow_and_stage_complete['stage'].values.reshape(-1,1)\n",
    "y_train = df_flow_and_stage_complete['flow'].values\n",
    "\n",
    "y_train = y_train[np.argsort(X_train, axis=0)]\n",
    "X_train = np.sort(X_train, axis=0)\n",
    "\n",
    "X_train = np.append(X_train[0::500], X_train[-100:], axis = 0)\n",
    "y_train = np.append(y_train[0::500], y_train[-100:], axis = 0)\n",
    "\n",
    "\n",
    "#Sort X_train into ascending order (for plotting)\n",
    "\n",
    "\n",
    "kernel = RBF(10, (1e-2, 1e2))\n",
    "\n",
    "gp = GaussianProcessRegressor(kernel=kernel,\n",
    "                              n_restarts_optimizer=1000)\n",
    "\n",
    "gp.fit(X_train, y_train)\n",
    "\n",
    "gp.get_params()"
   ]
  },
  {
   "cell_type": "code",
   "execution_count": 19,
   "metadata": {},
   "outputs": [
    {
     "name": "stderr",
     "output_type": "stream",
     "text": [
      "C:\\Users\\Matt\\Anaconda3\\lib\\site-packages\\sklearn\\gaussian_process\\gpr.py:346: UserWarning: Predicted variances smaller than 0. Setting those variances to 0.\n",
      "  warnings.warn(\"Predicted variances smaller than 0. \"\n"
     ]
    },
    {
     "data": {
      "image/png": "[encoded data removed]",
      "text/plain": [
       "<Figure size 432x288 with 1 Axes>"
      ]
     },
     "metadata": {
      "needs_background": "light"
     },
     "output_type": "display_data"
    }
   ],
   "source": [
    "y_pred, sigma = gp.predict(X_train, return_std=True)\n",
    "\n",
    "plt.figure()\n",
    "#plt.plot(x, f(x), 'r:', label=r'$f(x) = x\\,\\sin(x)$')\n",
    "#plt.errorbar(X.ravel(), y, dy, fmt='r.', markersize=10, label='Observations')\n",
    "plt.plot(X_train, y_pred, 'b-', label='Prediction')\n",
    "#plt.fill(np.concatenate([X_train, X_train[::-1]]),\n",
    "         #np.concatenate([y_pred - 1.9600 * sigma,\n",
    "        #                (y_pred + 1.9600 * sigma)[::-1]]),\n",
    "       #  alpha=.5, fc='b', ec='None', label='95% confidence interval')\n",
    "plt.xlabel('$x$')\n",
    "plt.ylabel('$f(x)$')\n",
    "\n",
    "plt.legend(loc='upper left')\n",
    "\n",
    "plt.show()"
   ]
  },
  {
   "cell_type": "code",
   "execution_count": null,
   "metadata": {},
   "outputs": [],
   "source": []
  },
  {
   "cell_type": "code",
   "execution_count": null,
   "metadata": {},
   "outputs": [],
   "source": []
  }
 ],
 "metadata": {
  "colab": {
   "name": "hackathon-data_prep.ipynb",
   "provenance": [],
   "toc_visible": true
  },
  "kernelspec": {
   "display_name": "Python 3",
   "language": "python",
   "name": "python3"
  },
  "language_info": {
   "codemirror_mode": {
    "name": "ipython",
    "version": 3
   },
   "file_extension": ".py",
   "mimetype": "text/x-python",
   "name": "python",
   "nbconvert_exporter": "python",
   "pygments_lexer": "ipython3",
   "version": "3.7.4"
  }
 },
 "nbformat": 4,
 "nbformat_minor": 1
}
