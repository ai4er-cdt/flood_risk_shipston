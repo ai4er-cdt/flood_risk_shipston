{
 "cells": [
  {
   "cell_type": "code",
   "execution_count": 1,
   "metadata": {},
   "outputs": [],
   "source": [
    "import matplotlib.pyplot as plt\n",
    "import pandas as pd\n",
    "import numpy as np\n",
    "import os"
   ]
  },
  {
   "cell_type": "markdown",
   "metadata": {},
   "source": [
    "## Import rainfall & flow data into dataframes"
   ]
  },
  {
   "cell_type": "code",
   "execution_count": 2,
   "metadata": {},
   "outputs": [],
   "source": [
    "flow60 = pd.read_excel('EA_files_subsample/Shipston Wiski data - 60 min.xlsx', \n",
    "                      sheet_name = 1)"
   ]
  },
  {
   "cell_type": "code",
   "execution_count": 3,
   "metadata": {},
   "outputs": [
    {
     "name": "stdout",
     "output_type": "stream",
     "text": [
      "CPU times: user 2min 16s, sys: 1.89 s, total: 2min 17s\n",
      "Wall time: 2min 22s\n"
     ]
    }
   ],
   "source": [
    "%%time\n",
    "rainfall60 = pd.read_excel('EA_files_subsample/Shipston Wiski data - 60 min.xlsx', \n",
    "                      sheet_name = 3)"
   ]
  },
  {
   "cell_type": "code",
   "execution_count": 7,
   "metadata": {
    "scrolled": true
   },
   "outputs": [
    {
     "data": {
      "text/html": [
       "<div>\n",
       "<style scoped>\n",
       "    .dataframe tbody tr th:only-of-type {\n",
       "        vertical-align: middle;\n",
       "    }\n",
       "\n",
       "    .dataframe tbody tr th {\n",
       "        vertical-align: top;\n",
       "    }\n",
       "\n",
       "    .dataframe thead th {\n",
       "        text-align: right;\n",
       "    }\n",
       "</style>\n",
       "<table border=\"1\" class=\"dataframe\">\n",
       "  <thead>\n",
       "    <tr style=\"text-align: right;\">\n",
       "      <th></th>\n",
       "      <th>Date</th>\n",
       "      <th>Time</th>\n",
       "      <th>Precipitation [mm]</th>\n",
       "      <th>Quality</th>\n",
       "      <th>Interpolation</th>\n",
       "      <th>Valid</th>\n",
       "      <th>Invalid</th>\n",
       "      <th>Missing</th>\n",
       "      <th>Tags</th>\n",
       "      <th>Remarks</th>\n",
       "    </tr>\n",
       "  </thead>\n",
       "  <tbody>\n",
       "    <tr>\n",
       "      <th>0</th>\n",
       "      <td>1979-07-26</td>\n",
       "      <td>09:00:00</td>\n",
       "      <td>0</td>\n",
       "      <td>40 (G)</td>\n",
       "      <td>const since previous</td>\n",
       "      <td>0.0</td>\n",
       "      <td>0.0</td>\n",
       "      <td>0.0</td>\n",
       "      <td>NaN</td>\n",
       "      <td>NaN</td>\n",
       "    </tr>\n",
       "    <tr>\n",
       "      <th>1</th>\n",
       "      <td>1979-07-26</td>\n",
       "      <td>10:00:00</td>\n",
       "      <td>0</td>\n",
       "      <td>200 (U)</td>\n",
       "      <td>const since previous</td>\n",
       "      <td>0.0</td>\n",
       "      <td>0.0</td>\n",
       "      <td>0.0</td>\n",
       "      <td>NaN</td>\n",
       "      <td>NaN</td>\n",
       "    </tr>\n",
       "    <tr>\n",
       "      <th>2</th>\n",
       "      <td>1979-07-26</td>\n",
       "      <td>11:00:00</td>\n",
       "      <td>0</td>\n",
       "      <td>200 (U)</td>\n",
       "      <td>const since previous</td>\n",
       "      <td>0.0</td>\n",
       "      <td>0.0</td>\n",
       "      <td>0.0</td>\n",
       "      <td>NaN</td>\n",
       "      <td>NaN</td>\n",
       "    </tr>\n",
       "    <tr>\n",
       "      <th>3</th>\n",
       "      <td>1979-07-26</td>\n",
       "      <td>12:00:00</td>\n",
       "      <td>0</td>\n",
       "      <td>200 (U)</td>\n",
       "      <td>const since previous</td>\n",
       "      <td>0.0</td>\n",
       "      <td>0.0</td>\n",
       "      <td>0.0</td>\n",
       "      <td>NaN</td>\n",
       "      <td>NaN</td>\n",
       "    </tr>\n",
       "    <tr>\n",
       "      <th>4</th>\n",
       "      <td>1979-07-26</td>\n",
       "      <td>13:00:00</td>\n",
       "      <td>0</td>\n",
       "      <td>200 (U)</td>\n",
       "      <td>const since previous</td>\n",
       "      <td>0.0</td>\n",
       "      <td>0.0</td>\n",
       "      <td>0.0</td>\n",
       "      <td>NaN</td>\n",
       "      <td>NaN</td>\n",
       "    </tr>\n",
       "  </tbody>\n",
       "</table>\n",
       "</div>"
      ],
      "text/plain": [
       "        Date      Time Precipitation [mm]  Quality         Interpolation  \\\n",
       "0 1979-07-26  09:00:00                  0   40 (G)  const since previous   \n",
       "1 1979-07-26  10:00:00                  0  200 (U)  const since previous   \n",
       "2 1979-07-26  11:00:00                  0  200 (U)  const since previous   \n",
       "3 1979-07-26  12:00:00                  0  200 (U)  const since previous   \n",
       "4 1979-07-26  13:00:00                  0  200 (U)  const since previous   \n",
       "\n",
       "   Valid  Invalid  Missing  Tags Remarks  \n",
       "0    0.0      0.0      0.0   NaN     NaN  \n",
       "1    0.0      0.0      0.0   NaN     NaN  \n",
       "2    0.0      0.0      0.0   NaN     NaN  \n",
       "3    0.0      0.0      0.0   NaN     NaN  \n",
       "4    0.0      0.0      0.0   NaN     NaN  "
      ]
     },
     "execution_count": 7,
     "metadata": {},
     "output_type": "execute_result"
    }
   ],
   "source": [
    "#Replace missing values with NaN for flow and rainfall\n",
    "rainfall60_filtered = rainfall60.replace('  ---',\"NaN\") #There are two spaces before the dashes in the rainfall data\n",
    "flow60_filtered = flow60.replace(\" ---\",\"NaN\")\n",
    "rainfall60_filtered = rainfall60_filtered.replace(\".\", 0) #Replacing . to 0\n",
    "rainfall60_filtered.head()"
   ]
  },
  {
   "cell_type": "code",
   "execution_count": 8,
   "metadata": {},
   "outputs": [
    {
     "name": "stdout",
     "output_type": "stream",
     "text": [
      "['1980-04-30T00:00:00.000000000' '1980-05-01T00:00:00.000000000'\n",
      " '2002-10-03T00:00:00.000000000']\n"
     ]
    }
   ],
   "source": [
    "#Print rainfall data with missing values - only 3 values missing\n",
    "print(rainfall60['Date'][rainfall60['Quality']=='missing'].unique())"
   ]
  },
  {
   "cell_type": "code",
   "execution_count": 9,
   "metadata": {},
   "outputs": [
    {
     "data": {
      "image/png": "[encoded data removed]",
      "text/plain": [
       "<Figure size 1440x288 with 1 Axes>"
      ]
     },
     "metadata": {
      "needs_background": "light"
     },
     "output_type": "display_data"
    }
   ],
   "source": [
    "#Plot the rainfall time series for the 60 minute data\n",
    "#print(rainfall60_filtered['Precipitation [mm]'])\n",
    "\n",
    "plt.figure(figsize=(20,4))\n",
    "plt.plot(rainfall60_filtered['Date'],rainfall60_filtered['Precipitation [mm]'], 'blue')\n",
    "plt.title(\"Precipitation (mm)\")\n",
    "\n",
    "#rainfall60_filtered.plot(x='Date', y='Precipitation [mm]')\n",
    "plt.show()"
   ]
  },
  {
   "cell_type": "code",
   "execution_count": 10,
   "metadata": {},
   "outputs": [
    {
     "name": "stdout",
     "output_type": "stream",
     "text": [
      "CPU times: user 5min 9s, sys: 4.72 s, total: 5min 13s\n",
      "Wall time: 5min 28s\n"
     ]
    }
   ],
   "source": [
    "%%time\n",
    "rainfall15 = pd.read_excel('EA_files_subsample/Shipston Wiski data - 15 min.xlsx', \n",
    "                      sheet_name = 3)"
   ]
  },
  {
   "cell_type": "code",
   "execution_count": 13,
   "metadata": {},
   "outputs": [
    {
     "data": {
      "text/html": [
       "<div>\n",
       "<style scoped>\n",
       "    .dataframe tbody tr th:only-of-type {\n",
       "        vertical-align: middle;\n",
       "    }\n",
       "\n",
       "    .dataframe tbody tr th {\n",
       "        vertical-align: top;\n",
       "    }\n",
       "\n",
       "    .dataframe thead th {\n",
       "        text-align: right;\n",
       "    }\n",
       "</style>\n",
       "<table border=\"1\" class=\"dataframe\">\n",
       "  <thead>\n",
       "    <tr style=\"text-align: right;\">\n",
       "      <th></th>\n",
       "      <th>Date</th>\n",
       "      <th>Time</th>\n",
       "      <th>Precipitation [mm]</th>\n",
       "      <th>Quality</th>\n",
       "      <th>Interpolation</th>\n",
       "      <th>Valid</th>\n",
       "      <th>Invalid</th>\n",
       "      <th>Missing</th>\n",
       "      <th>Tags</th>\n",
       "      <th>Remarks</th>\n",
       "    </tr>\n",
       "  </thead>\n",
       "  <tbody>\n",
       "    <tr>\n",
       "      <th>0</th>\n",
       "      <td>2000-06-30</td>\n",
       "      <td>00:00:00</td>\n",
       "      <td>0</td>\n",
       "      <td>200 (U)</td>\n",
       "      <td>const since previous</td>\n",
       "      <td>0.0</td>\n",
       "      <td>0.0</td>\n",
       "      <td>0.0</td>\n",
       "      <td>NaN</td>\n",
       "      <td>NaN</td>\n",
       "    </tr>\n",
       "    <tr>\n",
       "      <th>1</th>\n",
       "      <td>2000-06-30</td>\n",
       "      <td>00:15:00</td>\n",
       "      <td>0</td>\n",
       "      <td>200 (U)</td>\n",
       "      <td>const since previous</td>\n",
       "      <td>0.0</td>\n",
       "      <td>0.0</td>\n",
       "      <td>0.0</td>\n",
       "      <td>NaN</td>\n",
       "      <td>NaN</td>\n",
       "    </tr>\n",
       "    <tr>\n",
       "      <th>2</th>\n",
       "      <td>2000-06-30</td>\n",
       "      <td>00:30:00</td>\n",
       "      <td>0</td>\n",
       "      <td>200 (U)</td>\n",
       "      <td>const since previous</td>\n",
       "      <td>0.0</td>\n",
       "      <td>0.0</td>\n",
       "      <td>0.0</td>\n",
       "      <td>NaN</td>\n",
       "      <td>NaN</td>\n",
       "    </tr>\n",
       "    <tr>\n",
       "      <th>3</th>\n",
       "      <td>2000-06-30</td>\n",
       "      <td>00:45:00</td>\n",
       "      <td>0</td>\n",
       "      <td>200 (U)</td>\n",
       "      <td>const since previous</td>\n",
       "      <td>0.0</td>\n",
       "      <td>0.0</td>\n",
       "      <td>0.0</td>\n",
       "      <td>NaN</td>\n",
       "      <td>NaN</td>\n",
       "    </tr>\n",
       "    <tr>\n",
       "      <th>4</th>\n",
       "      <td>2000-06-30</td>\n",
       "      <td>01:00:00</td>\n",
       "      <td>0</td>\n",
       "      <td>200 (U)</td>\n",
       "      <td>const since previous</td>\n",
       "      <td>0.0</td>\n",
       "      <td>0.0</td>\n",
       "      <td>0.0</td>\n",
       "      <td>NaN</td>\n",
       "      <td>NaN</td>\n",
       "    </tr>\n",
       "  </tbody>\n",
       "</table>\n",
       "</div>"
      ],
      "text/plain": [
       "        Date      Time Precipitation [mm]  Quality         Interpolation  \\\n",
       "0 2000-06-30  00:00:00                  0  200 (U)  const since previous   \n",
       "1 2000-06-30  00:15:00                  0  200 (U)  const since previous   \n",
       "2 2000-06-30  00:30:00                  0  200 (U)  const since previous   \n",
       "3 2000-06-30  00:45:00                  0  200 (U)  const since previous   \n",
       "4 2000-06-30  01:00:00                  0  200 (U)  const since previous   \n",
       "\n",
       "   Valid  Invalid  Missing  Tags Remarks  \n",
       "0    0.0      0.0      0.0   NaN     NaN  \n",
       "1    0.0      0.0      0.0   NaN     NaN  \n",
       "2    0.0      0.0      0.0   NaN     NaN  \n",
       "3    0.0      0.0      0.0   NaN     NaN  \n",
       "4    0.0      0.0      0.0   NaN     NaN  "
      ]
     },
     "execution_count": 13,
     "metadata": {},
     "output_type": "execute_result"
    }
   ],
   "source": [
    "rainfall15_filtered = rainfall15.replace(\"  ---\",\"NaN\")   #Replacing missing values again\n",
    "rainfall15_filtered = rainfall15_filtered.replace('.', 0)\n",
    "rainfall15_filtered.head()"
   ]
  },
  {
   "cell_type": "code",
   "execution_count": 14,
   "metadata": {},
   "outputs": [
    {
     "name": "stdout",
     "output_type": "stream",
     "text": [
      "['2002-10-03T00:00:00.000000000']\n"
     ]
    }
   ],
   "source": [
    "#Print rainfall data with missing values - only 1 value missing\n",
    "print(rainfall15['Date'][rainfall15['Quality']=='missing'].unique())"
   ]
  },
  {
   "cell_type": "code",
   "execution_count": 15,
   "metadata": {},
   "outputs": [
    {
     "data": {
      "text/plain": [
       "Text(0.5, 1.0, 'Precipitation (mm)')"
      ]
     },
     "execution_count": 15,
     "metadata": {},
     "output_type": "execute_result"
    },
    {
     "data": {
      "image/png": "[encoded data removed]",
      "text/plain": [
       "<Figure size 1440x576 with 1 Axes>"
      ]
     },
     "metadata": {
      "needs_background": "light"
     },
     "output_type": "display_data"
    }
   ],
   "source": [
    "#Plot the rainfall time series for the 15 minute data \n",
    "plt.figure(figsize=(20,8))\n",
    "plt.plot(rainfall15_filtered['Date'],rainfall15_filtered['Precipitation [mm]'], 'blue')\n",
    "plt.yticks()\n",
    "plt.title(\"Precipitation (mm)\")"
   ]
  },
  {
   "cell_type": "code",
   "execution_count": null,
   "metadata": {},
   "outputs": [],
   "source": []
  }
 ],
 "metadata": {
  "kernelspec": {
   "display_name": "Python 3",
   "language": "python",
   "name": "python3"
  },
  "language_info": {
   "codemirror_mode": {
    "name": "ipython",
    "version": 3
   },
   "file_extension": ".py",
   "mimetype": "text/x-python",
   "name": "python",
   "nbconvert_exporter": "python",
   "pygments_lexer": "ipython3",
   "version": "3.8.5"
  }
 },
 "nbformat": 4,
 "nbformat_minor": 2
}
